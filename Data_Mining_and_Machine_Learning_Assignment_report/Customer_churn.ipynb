{
 "cells": [
  {
   "cell_type": "markdown",
   "id": "31d55f61",
   "metadata": {},
   "source": [
    "#Aim- Inplementation of models to predict Customer churn analysis."
   ]
  },
  {
   "cell_type": "code",
   "execution_count": null,
   "id": "03e2ddcf",
   "metadata": {},
   "outputs": [],
   "source": [
    "### Packages installed for this dataset.\n",
    "install.packages(\"ggplot\")\n",
    "install.packages(\"ggpubr\")\n",
    "install.packages(\"tidyverse\")\n",
    "install.packages(\"randomForest\")\n",
    "install.packages(\"MASS\")"
   ]
  },
  {
   "cell_type": "code",
   "execution_count": 10,
   "id": "37892c18",
   "metadata": {},
   "outputs": [
    {
     "name": "stderr",
     "output_type": "stream",
     "text": [
      "Warning message:\n",
      "\"package 'plyr' was built under R version 4.2.2\"\n",
      "Warning message:\n",
      "\"package 'ggplot2' was built under R version 4.2.2\"\n",
      "Warning message:\n",
      "\"package 'caTools' was built under R version 4.2.2\"\n",
      "Warning message:\n",
      "\"package 'Metrics' was built under R version 4.2.2\"\n",
      "Warning message:\n",
      "\"package 'ggpubr' was built under R version 4.2.2\"\n",
      "\n",
      "Attaching package: 'ggpubr'\n",
      "\n",
      "\n",
      "The following object is masked from 'package:plyr':\n",
      "\n",
      "    mutate\n",
      "\n",
      "\n",
      "Warning message:\n",
      "\"package 'lubridate' was built under R version 4.2.2\"\n",
      "Loading required package: timechange\n",
      "\n",
      "Warning message:\n",
      "\"package 'timechange' was built under R version 4.2.2\"\n",
      "\n",
      "Attaching package: 'lubridate'\n",
      "\n",
      "\n",
      "The following objects are masked from 'package:base':\n",
      "\n",
      "    date, intersect, setdiff, union\n",
      "\n",
      "\n",
      "Warning message:\n",
      "\"package 'corrplot' was built under R version 4.2.2\"\n",
      "corrplot 0.92 loaded\n",
      "\n",
      "Warning message:\n",
      "\"package 'cowplot' was built under R version 4.2.2\"\n",
      "\n",
      "Attaching package: 'cowplot'\n",
      "\n",
      "\n",
      "The following object is masked from 'package:lubridate':\n",
      "\n",
      "    stamp\n",
      "\n",
      "\n",
      "The following object is masked from 'package:ggpubr':\n",
      "\n",
      "    get_legend\n",
      "\n",
      "\n",
      "Warning message:\n",
      "\"package 'tidyverse' was built under R version 4.2.2\"\n",
      "── \u001b[1mAttaching packages\u001b[22m ─────────────────────────────────────── tidyverse 1.3.2 ──\n",
      "\u001b[32m✔\u001b[39m \u001b[34mtibble \u001b[39m 3.1.8      \u001b[32m✔\u001b[39m \u001b[34mdplyr  \u001b[39m 1.0.10\n",
      "\u001b[32m✔\u001b[39m \u001b[34mtidyr  \u001b[39m 1.2.1      \u001b[32m✔\u001b[39m \u001b[34mstringr\u001b[39m 1.4.1 \n",
      "\u001b[32m✔\u001b[39m \u001b[34mreadr  \u001b[39m 2.1.3      \u001b[32m✔\u001b[39m \u001b[34mforcats\u001b[39m 0.5.2 \n",
      "\u001b[32m✔\u001b[39m \u001b[34mpurrr  \u001b[39m 0.3.5      \n",
      "Warning message:\n",
      "\"package 'tidyr' was built under R version 4.2.2\"\n",
      "Warning message:\n",
      "\"package 'readr' was built under R version 4.2.2\"\n",
      "Warning message:\n",
      "\"package 'dplyr' was built under R version 4.2.2\"\n",
      "Warning message:\n",
      "\"package 'forcats' was built under R version 4.2.2\"\n",
      "── \u001b[1mConflicts\u001b[22m ────────────────────────────────────────── tidyverse_conflicts() ──\n",
      "\u001b[31m✖\u001b[39m \u001b[34mdplyr\u001b[39m::\u001b[32marrange()\u001b[39m         masks \u001b[34mplyr\u001b[39m::arrange()\n",
      "\u001b[31m✖\u001b[39m \u001b[34mlubridate\u001b[39m::\u001b[32mas.difftime()\u001b[39m masks \u001b[34mbase\u001b[39m::as.difftime()\n",
      "\u001b[31m✖\u001b[39m \u001b[34mpurrr\u001b[39m::\u001b[32mcompact()\u001b[39m         masks \u001b[34mplyr\u001b[39m::compact()\n",
      "\u001b[31m✖\u001b[39m \u001b[34mdplyr\u001b[39m::\u001b[32mcount()\u001b[39m           masks \u001b[34mplyr\u001b[39m::count()\n",
      "\u001b[31m✖\u001b[39m \u001b[34mlubridate\u001b[39m::\u001b[32mdate()\u001b[39m        masks \u001b[34mbase\u001b[39m::date()\n",
      "\u001b[31m✖\u001b[39m \u001b[34mdplyr\u001b[39m::\u001b[32mfailwith()\u001b[39m        masks \u001b[34mplyr\u001b[39m::failwith()\n",
      "\u001b[31m✖\u001b[39m \u001b[34mdplyr\u001b[39m::\u001b[32mfilter()\u001b[39m          masks \u001b[34mstats\u001b[39m::filter()\n",
      "\u001b[31m✖\u001b[39m \u001b[34mdplyr\u001b[39m::\u001b[32mid()\u001b[39m              masks \u001b[34mplyr\u001b[39m::id()\n",
      "\u001b[31m✖\u001b[39m \u001b[34mlubridate\u001b[39m::\u001b[32mintersect()\u001b[39m   masks \u001b[34mbase\u001b[39m::intersect()\n",
      "\u001b[31m✖\u001b[39m \u001b[34mdplyr\u001b[39m::\u001b[32mlag()\u001b[39m             masks \u001b[34mstats\u001b[39m::lag()\n",
      "\u001b[31m✖\u001b[39m \u001b[34mdplyr\u001b[39m::\u001b[32mmutate()\u001b[39m          masks \u001b[34mggpubr\u001b[39m::mutate(), \u001b[34mplyr\u001b[39m::mutate()\n",
      "\u001b[31m✖\u001b[39m \u001b[34mdplyr\u001b[39m::\u001b[32mrename()\u001b[39m          masks \u001b[34mplyr\u001b[39m::rename()\n",
      "\u001b[31m✖\u001b[39m \u001b[34mlubridate\u001b[39m::\u001b[32msetdiff()\u001b[39m     masks \u001b[34mbase\u001b[39m::setdiff()\n",
      "\u001b[31m✖\u001b[39m \u001b[34mcowplot\u001b[39m::\u001b[32mstamp()\u001b[39m         masks \u001b[34mlubridate\u001b[39m::stamp()\n",
      "\u001b[31m✖\u001b[39m \u001b[34mdplyr\u001b[39m::\u001b[32msummarise()\u001b[39m       masks \u001b[34mplyr\u001b[39m::summarise()\n",
      "\u001b[31m✖\u001b[39m \u001b[34mdplyr\u001b[39m::\u001b[32msummarize()\u001b[39m       masks \u001b[34mplyr\u001b[39m::summarize()\n",
      "\u001b[31m✖\u001b[39m \u001b[34mlubridate\u001b[39m::\u001b[32munion()\u001b[39m       masks \u001b[34mbase\u001b[39m::union()\n",
      "Warning message:\n",
      "\"package 'caret' was built under R version 4.2.2\"\n",
      "Loading required package: lattice\n",
      "\n",
      "\n",
      "Attaching package: 'caret'\n",
      "\n",
      "\n",
      "The following object is masked from 'package:purrr':\n",
      "\n",
      "    lift\n",
      "\n",
      "\n",
      "The following objects are masked from 'package:Metrics':\n",
      "\n",
      "    precision, recall\n",
      "\n",
      "\n",
      "Warning message:\n",
      "\"package 'pROC' was built under R version 4.2.2\"\n",
      "Type 'citation(\"pROC\")' for a citation.\n",
      "\n",
      "\n",
      "Attaching package: 'pROC'\n",
      "\n",
      "\n",
      "The following object is masked from 'package:Metrics':\n",
      "\n",
      "    auc\n",
      "\n",
      "\n",
      "The following objects are masked from 'package:stats':\n",
      "\n",
      "    cov, smooth, var\n",
      "\n",
      "\n"
     ]
    }
   ],
   "source": [
    "### Library used.\n",
    "library(plyr)\n",
    "library(utils)\n",
    "library(ggplot2)\n",
    "library(caTools)\n",
    "library(Metrics)\n",
    "library(ggpubr)\n",
    "library(rpart)\n",
    "library(ggplot2)\n",
    "library(lubridate)\n",
    "library(corrplot)\n",
    "library(cowplot)\n",
    "library(tidyverse)\n",
    "library(caret)\n",
    "library(pROC)"
   ]
  },
  {
   "cell_type": "code",
   "execution_count": 3,
   "id": "15d868be",
   "metadata": {},
   "outputs": [
    {
     "data": {
      "text/html": [
       "<table class=\"dataframe\">\n",
       "<caption>A data.frame: 6 × 21</caption>\n",
       "<thead>\n",
       "\t<tr><th></th><th scope=col>customerID</th><th scope=col>gender</th><th scope=col>SeniorCitizen</th><th scope=col>Partner</th><th scope=col>Dependents</th><th scope=col>tenure</th><th scope=col>PhoneService</th><th scope=col>MultipleLines</th><th scope=col>InternetService</th><th scope=col>OnlineSecurity</th><th scope=col>⋯</th><th scope=col>DeviceProtection</th><th scope=col>TechSupport</th><th scope=col>StreamingTV</th><th scope=col>StreamingMovies</th><th scope=col>Contract</th><th scope=col>PaperlessBilling</th><th scope=col>PaymentMethod</th><th scope=col>MonthlyCharges</th><th scope=col>TotalCharges</th><th scope=col>Churn</th></tr>\n",
       "\t<tr><th></th><th scope=col>&lt;fct&gt;</th><th scope=col>&lt;fct&gt;</th><th scope=col>&lt;int&gt;</th><th scope=col>&lt;fct&gt;</th><th scope=col>&lt;fct&gt;</th><th scope=col>&lt;int&gt;</th><th scope=col>&lt;fct&gt;</th><th scope=col>&lt;fct&gt;</th><th scope=col>&lt;fct&gt;</th><th scope=col>&lt;fct&gt;</th><th scope=col>⋯</th><th scope=col>&lt;fct&gt;</th><th scope=col>&lt;fct&gt;</th><th scope=col>&lt;fct&gt;</th><th scope=col>&lt;fct&gt;</th><th scope=col>&lt;fct&gt;</th><th scope=col>&lt;fct&gt;</th><th scope=col>&lt;fct&gt;</th><th scope=col>&lt;dbl&gt;</th><th scope=col>&lt;dbl&gt;</th><th scope=col>&lt;fct&gt;</th></tr>\n",
       "</thead>\n",
       "<tbody>\n",
       "\t<tr><th scope=row>1</th><td>7590-VHVEG</td><td>Female</td><td>0</td><td>Yes</td><td>No</td><td> 1</td><td>No </td><td>No </td><td>DSL        </td><td>No </td><td>⋯</td><td>No </td><td>No </td><td>No </td><td>No </td><td>Month-to-month</td><td>Yes</td><td>Electronic check         </td><td>29.85</td><td>  29.85</td><td>No </td></tr>\n",
       "\t<tr><th scope=row>2</th><td>5575-GNVDE</td><td>Male  </td><td>0</td><td>No </td><td>No</td><td>34</td><td>Yes</td><td>No </td><td>DSL        </td><td>Yes</td><td>⋯</td><td>Yes</td><td>No </td><td>No </td><td>No </td><td>One year      </td><td>No </td><td>Mailed check             </td><td>56.95</td><td>1889.50</td><td>No </td></tr>\n",
       "\t<tr><th scope=row>3</th><td>3668-QPYBK</td><td>Male  </td><td>0</td><td>No </td><td>No</td><td> 2</td><td>Yes</td><td>No </td><td>DSL        </td><td>Yes</td><td>⋯</td><td>No </td><td>No </td><td>No </td><td>No </td><td>Month-to-month</td><td>Yes</td><td>Mailed check             </td><td>53.85</td><td> 108.15</td><td>Yes</td></tr>\n",
       "\t<tr><th scope=row>4</th><td>7795-CFOCW</td><td>Male  </td><td>0</td><td>No </td><td>No</td><td>45</td><td>No </td><td>No </td><td>DSL        </td><td>Yes</td><td>⋯</td><td>Yes</td><td>Yes</td><td>No </td><td>No </td><td>One year      </td><td>No </td><td>Bank transfer (automatic)</td><td>42.30</td><td>1840.75</td><td>No </td></tr>\n",
       "\t<tr><th scope=row>5</th><td>9237-HQITU</td><td>Female</td><td>0</td><td>No </td><td>No</td><td> 2</td><td>Yes</td><td>No </td><td>Fiber optic</td><td>No </td><td>⋯</td><td>No </td><td>No </td><td>No </td><td>No </td><td>Month-to-month</td><td>Yes</td><td>Electronic check         </td><td>70.70</td><td> 151.65</td><td>Yes</td></tr>\n",
       "\t<tr><th scope=row>6</th><td>9305-CDSKC</td><td>Female</td><td>0</td><td>No </td><td>No</td><td> 8</td><td>Yes</td><td>Yes</td><td>Fiber optic</td><td>No </td><td>⋯</td><td>Yes</td><td>No </td><td>Yes</td><td>Yes</td><td>Month-to-month</td><td>Yes</td><td>Electronic check         </td><td>99.65</td><td> 820.50</td><td>Yes</td></tr>\n",
       "</tbody>\n",
       "</table>\n"
      ],
      "text/latex": [
       "A data.frame: 6 × 21\n",
       "\\begin{tabular}{r|lllllllllllllllllllll}\n",
       "  & customerID & gender & SeniorCitizen & Partner & Dependents & tenure & PhoneService & MultipleLines & InternetService & OnlineSecurity & ⋯ & DeviceProtection & TechSupport & StreamingTV & StreamingMovies & Contract & PaperlessBilling & PaymentMethod & MonthlyCharges & TotalCharges & Churn\\\\\n",
       "  & <fct> & <fct> & <int> & <fct> & <fct> & <int> & <fct> & <fct> & <fct> & <fct> & ⋯ & <fct> & <fct> & <fct> & <fct> & <fct> & <fct> & <fct> & <dbl> & <dbl> & <fct>\\\\\n",
       "\\hline\n",
       "\t1 & 7590-VHVEG & Female & 0 & Yes & No &  1 & No  & No  & DSL         & No  & ⋯ & No  & No  & No  & No  & Month-to-month & Yes & Electronic check          & 29.85 &   29.85 & No \\\\\n",
       "\t2 & 5575-GNVDE & Male   & 0 & No  & No & 34 & Yes & No  & DSL         & Yes & ⋯ & Yes & No  & No  & No  & One year       & No  & Mailed check              & 56.95 & 1889.50 & No \\\\\n",
       "\t3 & 3668-QPYBK & Male   & 0 & No  & No &  2 & Yes & No  & DSL         & Yes & ⋯ & No  & No  & No  & No  & Month-to-month & Yes & Mailed check              & 53.85 &  108.15 & Yes\\\\\n",
       "\t4 & 7795-CFOCW & Male   & 0 & No  & No & 45 & No  & No  & DSL         & Yes & ⋯ & Yes & Yes & No  & No  & One year       & No  & Bank transfer (automatic) & 42.30 & 1840.75 & No \\\\\n",
       "\t5 & 9237-HQITU & Female & 0 & No  & No &  2 & Yes & No  & Fiber optic & No  & ⋯ & No  & No  & No  & No  & Month-to-month & Yes & Electronic check          & 70.70 &  151.65 & Yes\\\\\n",
       "\t6 & 9305-CDSKC & Female & 0 & No  & No &  8 & Yes & Yes & Fiber optic & No  & ⋯ & Yes & No  & Yes & Yes & Month-to-month & Yes & Electronic check          & 99.65 &  820.50 & Yes\\\\\n",
       "\\end{tabular}\n"
      ],
      "text/markdown": [
       "\n",
       "A data.frame: 6 × 21\n",
       "\n",
       "| <!--/--> | customerID &lt;fct&gt; | gender &lt;fct&gt; | SeniorCitizen &lt;int&gt; | Partner &lt;fct&gt; | Dependents &lt;fct&gt; | tenure &lt;int&gt; | PhoneService &lt;fct&gt; | MultipleLines &lt;fct&gt; | InternetService &lt;fct&gt; | OnlineSecurity &lt;fct&gt; | ⋯ ⋯ | DeviceProtection &lt;fct&gt; | TechSupport &lt;fct&gt; | StreamingTV &lt;fct&gt; | StreamingMovies &lt;fct&gt; | Contract &lt;fct&gt; | PaperlessBilling &lt;fct&gt; | PaymentMethod &lt;fct&gt; | MonthlyCharges &lt;dbl&gt; | TotalCharges &lt;dbl&gt; | Churn &lt;fct&gt; |\n",
       "|---|---|---|---|---|---|---|---|---|---|---|---|---|---|---|---|---|---|---|---|---|---|\n",
       "| 1 | 7590-VHVEG | Female | 0 | Yes | No |  1 | No  | No  | DSL         | No  | ⋯ | No  | No  | No  | No  | Month-to-month | Yes | Electronic check          | 29.85 |   29.85 | No  |\n",
       "| 2 | 5575-GNVDE | Male   | 0 | No  | No | 34 | Yes | No  | DSL         | Yes | ⋯ | Yes | No  | No  | No  | One year       | No  | Mailed check              | 56.95 | 1889.50 | No  |\n",
       "| 3 | 3668-QPYBK | Male   | 0 | No  | No |  2 | Yes | No  | DSL         | Yes | ⋯ | No  | No  | No  | No  | Month-to-month | Yes | Mailed check              | 53.85 |  108.15 | Yes |\n",
       "| 4 | 7795-CFOCW | Male   | 0 | No  | No | 45 | No  | No  | DSL         | Yes | ⋯ | Yes | Yes | No  | No  | One year       | No  | Bank transfer (automatic) | 42.30 | 1840.75 | No  |\n",
       "| 5 | 9237-HQITU | Female | 0 | No  | No |  2 | Yes | No  | Fiber optic | No  | ⋯ | No  | No  | No  | No  | Month-to-month | Yes | Electronic check          | 70.70 |  151.65 | Yes |\n",
       "| 6 | 9305-CDSKC | Female | 0 | No  | No |  8 | Yes | Yes | Fiber optic | No  | ⋯ | Yes | No  | Yes | Yes | Month-to-month | Yes | Electronic check          | 99.65 |  820.50 | Yes |\n",
       "\n"
      ],
      "text/plain": [
       "  customerID gender SeniorCitizen Partner Dependents tenure PhoneService\n",
       "1 7590-VHVEG Female 0             Yes     No          1     No          \n",
       "2 5575-GNVDE Male   0             No      No         34     Yes         \n",
       "3 3668-QPYBK Male   0             No      No          2     Yes         \n",
       "4 7795-CFOCW Male   0             No      No         45     No          \n",
       "5 9237-HQITU Female 0             No      No          2     Yes         \n",
       "6 9305-CDSKC Female 0             No      No          8     Yes         \n",
       "  MultipleLines InternetService OnlineSecurity ⋯ DeviceProtection TechSupport\n",
       "1 No            DSL             No             ⋯ No               No         \n",
       "2 No            DSL             Yes            ⋯ Yes              No         \n",
       "3 No            DSL             Yes            ⋯ No               No         \n",
       "4 No            DSL             Yes            ⋯ Yes              Yes        \n",
       "5 No            Fiber optic     No             ⋯ No               No         \n",
       "6 Yes           Fiber optic     No             ⋯ Yes              No         \n",
       "  StreamingTV StreamingMovies Contract       PaperlessBilling\n",
       "1 No          No              Month-to-month Yes             \n",
       "2 No          No              One year       No              \n",
       "3 No          No              Month-to-month Yes             \n",
       "4 No          No              One year       No              \n",
       "5 No          No              Month-to-month Yes             \n",
       "6 Yes         Yes             Month-to-month Yes             \n",
       "  PaymentMethod             MonthlyCharges TotalCharges Churn\n",
       "1 Electronic check          29.85            29.85      No   \n",
       "2 Mailed check              56.95          1889.50      No   \n",
       "3 Mailed check              53.85           108.15      Yes  \n",
       "4 Bank transfer (automatic) 42.30          1840.75      No   \n",
       "5 Electronic check          70.70           151.65      Yes  \n",
       "6 Electronic check          99.65           820.50      Yes  "
      ]
     },
     "metadata": {},
     "output_type": "display_data"
    },
    {
     "name": "stdout",
     "output_type": "stream",
     "text": [
      "'data.frame':\t7043 obs. of  21 variables:\n",
      " $ customerID      : Factor w/ 7043 levels \"0002-ORFBO\",\"0003-MKNFE\",..: 5376 3963 2565 5536 6512 6552 1003 4771 5605 4535 ...\n",
      " $ gender          : Factor w/ 2 levels \"Female\",\"Male\": 1 2 2 2 1 1 2 1 1 2 ...\n",
      " $ SeniorCitizen   : int  0 0 0 0 0 0 0 0 0 0 ...\n",
      " $ Partner         : Factor w/ 2 levels \"No\",\"Yes\": 2 1 1 1 1 1 1 1 2 1 ...\n",
      " $ Dependents      : Factor w/ 2 levels \"No\",\"Yes\": 1 1 1 1 1 1 2 1 1 2 ...\n",
      " $ tenure          : int  1 34 2 45 2 8 22 10 28 62 ...\n",
      " $ PhoneService    : Factor w/ 2 levels \"No\",\"Yes\": 1 2 2 1 2 2 2 1 2 2 ...\n",
      " $ MultipleLines   : Factor w/ 2 levels \"No\",\"Yes\": 1 1 1 1 1 2 2 1 2 1 ...\n",
      " $ InternetService : Factor w/ 3 levels \"DSL\",\"Fiber optic\",..: 1 1 1 1 2 2 2 1 2 1 ...\n",
      " $ OnlineSecurity  : Factor w/ 2 levels \"No\",\"Yes\": 1 2 2 2 1 1 1 2 1 2 ...\n",
      " $ OnlineBackup    : Factor w/ 2 levels \"No\",\"Yes\": 2 1 2 1 1 1 2 1 1 2 ...\n",
      " $ DeviceProtection: Factor w/ 2 levels \"No\",\"Yes\": 1 2 1 2 1 2 1 1 2 1 ...\n",
      " $ TechSupport     : Factor w/ 2 levels \"No\",\"Yes\": 1 1 1 2 1 1 1 1 2 1 ...\n",
      " $ StreamingTV     : Factor w/ 2 levels \"No\",\"Yes\": 1 1 1 1 1 2 2 1 2 1 ...\n",
      " $ StreamingMovies : Factor w/ 2 levels \"No\",\"Yes\": 1 1 1 1 1 2 1 1 2 1 ...\n",
      " $ Contract        : Factor w/ 3 levels \"Month-to-month\",..: 1 2 1 2 1 1 1 1 1 2 ...\n",
      " $ PaperlessBilling: Factor w/ 2 levels \"No\",\"Yes\": 2 1 2 1 2 2 2 1 2 1 ...\n",
      " $ PaymentMethod   : Factor w/ 4 levels \"Bank transfer (automatic)\",..: 3 4 4 1 3 3 2 4 3 1 ...\n",
      " $ MonthlyCharges  : num  29.9 57 53.9 42.3 70.7 ...\n",
      " $ TotalCharges    : num  29.9 1889.5 108.2 1840.8 151.7 ...\n",
      " $ Churn           : Factor w/ 2 levels \"No\",\"Yes\": 1 1 2 1 2 2 1 1 2 1 ...\n"
     ]
    },
    {
     "data": {
      "text/html": [
       "<table class=\"dataframe\">\n",
       "<caption>A data.frame: 6 × 21</caption>\n",
       "<thead>\n",
       "\t<tr><th></th><th scope=col>customerID</th><th scope=col>gender</th><th scope=col>SeniorCitizen</th><th scope=col>Partner</th><th scope=col>Dependents</th><th scope=col>tenure</th><th scope=col>PhoneService</th><th scope=col>MultipleLines</th><th scope=col>InternetService</th><th scope=col>OnlineSecurity</th><th scope=col>⋯</th><th scope=col>DeviceProtection</th><th scope=col>TechSupport</th><th scope=col>StreamingTV</th><th scope=col>StreamingMovies</th><th scope=col>Contract</th><th scope=col>PaperlessBilling</th><th scope=col>PaymentMethod</th><th scope=col>MonthlyCharges</th><th scope=col>TotalCharges</th><th scope=col>Churn</th></tr>\n",
       "\t<tr><th></th><th scope=col>&lt;fct&gt;</th><th scope=col>&lt;fct&gt;</th><th scope=col>&lt;int&gt;</th><th scope=col>&lt;fct&gt;</th><th scope=col>&lt;fct&gt;</th><th scope=col>&lt;int&gt;</th><th scope=col>&lt;fct&gt;</th><th scope=col>&lt;fct&gt;</th><th scope=col>&lt;fct&gt;</th><th scope=col>&lt;fct&gt;</th><th scope=col>⋯</th><th scope=col>&lt;fct&gt;</th><th scope=col>&lt;fct&gt;</th><th scope=col>&lt;fct&gt;</th><th scope=col>&lt;fct&gt;</th><th scope=col>&lt;fct&gt;</th><th scope=col>&lt;fct&gt;</th><th scope=col>&lt;fct&gt;</th><th scope=col>&lt;dbl&gt;</th><th scope=col>&lt;dbl&gt;</th><th scope=col>&lt;fct&gt;</th></tr>\n",
       "</thead>\n",
       "<tbody>\n",
       "\t<tr><th scope=row>7038</th><td>2569-WGERO</td><td>Female</td><td>0</td><td>No </td><td>No </td><td>72</td><td>Yes</td><td>No </td><td>No         </td><td>No </td><td>⋯</td><td>No </td><td>No </td><td>No </td><td>No </td><td>Two year      </td><td>Yes</td><td>Bank transfer (automatic)</td><td> 21.15</td><td>1419.40</td><td>No </td></tr>\n",
       "\t<tr><th scope=row>7039</th><td>6840-RESVB</td><td>Male  </td><td>0</td><td>Yes</td><td>Yes</td><td>24</td><td>Yes</td><td>Yes</td><td>DSL        </td><td>Yes</td><td>⋯</td><td>Yes</td><td>Yes</td><td>Yes</td><td>Yes</td><td>One year      </td><td>Yes</td><td>Mailed check             </td><td> 84.80</td><td>1990.50</td><td>No </td></tr>\n",
       "\t<tr><th scope=row>7040</th><td>2234-XADUH</td><td>Female</td><td>0</td><td>Yes</td><td>Yes</td><td>72</td><td>Yes</td><td>Yes</td><td>Fiber optic</td><td>No </td><td>⋯</td><td>Yes</td><td>No </td><td>Yes</td><td>Yes</td><td>One year      </td><td>Yes</td><td>Credit card (automatic)  </td><td>103.20</td><td>7362.90</td><td>No </td></tr>\n",
       "\t<tr><th scope=row>7041</th><td>4801-JZAZL</td><td>Female</td><td>0</td><td>Yes</td><td>Yes</td><td>11</td><td>No </td><td>No </td><td>DSL        </td><td>Yes</td><td>⋯</td><td>No </td><td>No </td><td>No </td><td>No </td><td>Month-to-month</td><td>Yes</td><td>Electronic check         </td><td> 29.60</td><td> 346.45</td><td>No </td></tr>\n",
       "\t<tr><th scope=row>7042</th><td>8361-LTMKD</td><td>Male  </td><td>1</td><td>Yes</td><td>No </td><td> 4</td><td>Yes</td><td>Yes</td><td>Fiber optic</td><td>No </td><td>⋯</td><td>No </td><td>No </td><td>No </td><td>No </td><td>Month-to-month</td><td>Yes</td><td>Mailed check             </td><td> 74.40</td><td> 306.60</td><td>Yes</td></tr>\n",
       "\t<tr><th scope=row>7043</th><td>3186-AJIEK</td><td>Male  </td><td>0</td><td>No </td><td>No </td><td>66</td><td>Yes</td><td>No </td><td>Fiber optic</td><td>Yes</td><td>⋯</td><td>Yes</td><td>Yes</td><td>Yes</td><td>Yes</td><td>Two year      </td><td>Yes</td><td>Bank transfer (automatic)</td><td>105.65</td><td>6844.50</td><td>No </td></tr>\n",
       "</tbody>\n",
       "</table>\n"
      ],
      "text/latex": [
       "A data.frame: 6 × 21\n",
       "\\begin{tabular}{r|lllllllllllllllllllll}\n",
       "  & customerID & gender & SeniorCitizen & Partner & Dependents & tenure & PhoneService & MultipleLines & InternetService & OnlineSecurity & ⋯ & DeviceProtection & TechSupport & StreamingTV & StreamingMovies & Contract & PaperlessBilling & PaymentMethod & MonthlyCharges & TotalCharges & Churn\\\\\n",
       "  & <fct> & <fct> & <int> & <fct> & <fct> & <int> & <fct> & <fct> & <fct> & <fct> & ⋯ & <fct> & <fct> & <fct> & <fct> & <fct> & <fct> & <fct> & <dbl> & <dbl> & <fct>\\\\\n",
       "\\hline\n",
       "\t7038 & 2569-WGERO & Female & 0 & No  & No  & 72 & Yes & No  & No          & No  & ⋯ & No  & No  & No  & No  & Two year       & Yes & Bank transfer (automatic) &  21.15 & 1419.40 & No \\\\\n",
       "\t7039 & 6840-RESVB & Male   & 0 & Yes & Yes & 24 & Yes & Yes & DSL         & Yes & ⋯ & Yes & Yes & Yes & Yes & One year       & Yes & Mailed check              &  84.80 & 1990.50 & No \\\\\n",
       "\t7040 & 2234-XADUH & Female & 0 & Yes & Yes & 72 & Yes & Yes & Fiber optic & No  & ⋯ & Yes & No  & Yes & Yes & One year       & Yes & Credit card (automatic)   & 103.20 & 7362.90 & No \\\\\n",
       "\t7041 & 4801-JZAZL & Female & 0 & Yes & Yes & 11 & No  & No  & DSL         & Yes & ⋯ & No  & No  & No  & No  & Month-to-month & Yes & Electronic check          &  29.60 &  346.45 & No \\\\\n",
       "\t7042 & 8361-LTMKD & Male   & 1 & Yes & No  &  4 & Yes & Yes & Fiber optic & No  & ⋯ & No  & No  & No  & No  & Month-to-month & Yes & Mailed check              &  74.40 &  306.60 & Yes\\\\\n",
       "\t7043 & 3186-AJIEK & Male   & 0 & No  & No  & 66 & Yes & No  & Fiber optic & Yes & ⋯ & Yes & Yes & Yes & Yes & Two year       & Yes & Bank transfer (automatic) & 105.65 & 6844.50 & No \\\\\n",
       "\\end{tabular}\n"
      ],
      "text/markdown": [
       "\n",
       "A data.frame: 6 × 21\n",
       "\n",
       "| <!--/--> | customerID &lt;fct&gt; | gender &lt;fct&gt; | SeniorCitizen &lt;int&gt; | Partner &lt;fct&gt; | Dependents &lt;fct&gt; | tenure &lt;int&gt; | PhoneService &lt;fct&gt; | MultipleLines &lt;fct&gt; | InternetService &lt;fct&gt; | OnlineSecurity &lt;fct&gt; | ⋯ ⋯ | DeviceProtection &lt;fct&gt; | TechSupport &lt;fct&gt; | StreamingTV &lt;fct&gt; | StreamingMovies &lt;fct&gt; | Contract &lt;fct&gt; | PaperlessBilling &lt;fct&gt; | PaymentMethod &lt;fct&gt; | MonthlyCharges &lt;dbl&gt; | TotalCharges &lt;dbl&gt; | Churn &lt;fct&gt; |\n",
       "|---|---|---|---|---|---|---|---|---|---|---|---|---|---|---|---|---|---|---|---|---|---|\n",
       "| 7038 | 2569-WGERO | Female | 0 | No  | No  | 72 | Yes | No  | No          | No  | ⋯ | No  | No  | No  | No  | Two year       | Yes | Bank transfer (automatic) |  21.15 | 1419.40 | No  |\n",
       "| 7039 | 6840-RESVB | Male   | 0 | Yes | Yes | 24 | Yes | Yes | DSL         | Yes | ⋯ | Yes | Yes | Yes | Yes | One year       | Yes | Mailed check              |  84.80 | 1990.50 | No  |\n",
       "| 7040 | 2234-XADUH | Female | 0 | Yes | Yes | 72 | Yes | Yes | Fiber optic | No  | ⋯ | Yes | No  | Yes | Yes | One year       | Yes | Credit card (automatic)   | 103.20 | 7362.90 | No  |\n",
       "| 7041 | 4801-JZAZL | Female | 0 | Yes | Yes | 11 | No  | No  | DSL         | Yes | ⋯ | No  | No  | No  | No  | Month-to-month | Yes | Electronic check          |  29.60 |  346.45 | No  |\n",
       "| 7042 | 8361-LTMKD | Male   | 1 | Yes | No  |  4 | Yes | Yes | Fiber optic | No  | ⋯ | No  | No  | No  | No  | Month-to-month | Yes | Mailed check              |  74.40 |  306.60 | Yes |\n",
       "| 7043 | 3186-AJIEK | Male   | 0 | No  | No  | 66 | Yes | No  | Fiber optic | Yes | ⋯ | Yes | Yes | Yes | Yes | Two year       | Yes | Bank transfer (automatic) | 105.65 | 6844.50 | No  |\n",
       "\n"
      ],
      "text/plain": [
       "     customerID gender SeniorCitizen Partner Dependents tenure PhoneService\n",
       "7038 2569-WGERO Female 0             No      No         72     Yes         \n",
       "7039 6840-RESVB Male   0             Yes     Yes        24     Yes         \n",
       "7040 2234-XADUH Female 0             Yes     Yes        72     Yes         \n",
       "7041 4801-JZAZL Female 0             Yes     Yes        11     No          \n",
       "7042 8361-LTMKD Male   1             Yes     No          4     Yes         \n",
       "7043 3186-AJIEK Male   0             No      No         66     Yes         \n",
       "     MultipleLines InternetService OnlineSecurity ⋯ DeviceProtection\n",
       "7038 No            No              No             ⋯ No              \n",
       "7039 Yes           DSL             Yes            ⋯ Yes             \n",
       "7040 Yes           Fiber optic     No             ⋯ Yes             \n",
       "7041 No            DSL             Yes            ⋯ No              \n",
       "7042 Yes           Fiber optic     No             ⋯ No              \n",
       "7043 No            Fiber optic     Yes            ⋯ Yes             \n",
       "     TechSupport StreamingTV StreamingMovies Contract       PaperlessBilling\n",
       "7038 No          No          No              Two year       Yes             \n",
       "7039 Yes         Yes         Yes             One year       Yes             \n",
       "7040 No          Yes         Yes             One year       Yes             \n",
       "7041 No          No          No              Month-to-month Yes             \n",
       "7042 No          No          No              Month-to-month Yes             \n",
       "7043 Yes         Yes         Yes             Two year       Yes             \n",
       "     PaymentMethod             MonthlyCharges TotalCharges Churn\n",
       "7038 Bank transfer (automatic)  21.15         1419.40      No   \n",
       "7039 Mailed check               84.80         1990.50      No   \n",
       "7040 Credit card (automatic)   103.20         7362.90      No   \n",
       "7041 Electronic check           29.60          346.45      No   \n",
       "7042 Mailed check               74.40          306.60      Yes  \n",
       "7043 Bank transfer (automatic) 105.65         6844.50      No   "
      ]
     },
     "metadata": {},
     "output_type": "display_data"
    },
    {
     "data": {
      "text/html": [
       "<style>\n",
       ".list-inline {list-style: none; margin:0; padding: 0}\n",
       ".list-inline>li {display: inline-block}\n",
       ".list-inline>li:not(:last-child)::after {content: \"\\00b7\"; padding: 0 .5ex}\n",
       "</style>\n",
       "<ol class=list-inline><li>7043</li><li>21</li></ol>\n"
      ],
      "text/latex": [
       "\\begin{enumerate*}\n",
       "\\item 7043\n",
       "\\item 21\n",
       "\\end{enumerate*}\n"
      ],
      "text/markdown": [
       "1. 7043\n",
       "2. 21\n",
       "\n",
       "\n"
      ],
      "text/plain": [
       "[1] 7043   21"
      ]
     },
     "metadata": {},
     "output_type": "display_data"
    }
   ],
   "source": [
    "### Reading data set in csv file.###\n",
    "customer_churn <- read.csv('C:/Users/Sarthak/OneDrive/Desktop/DMML/Dataset 3/WA_Fn-UseC_-Telco-Customer-Churn.csv', header = T, stringsAsFactors = T)\n",
    "head(customer_churn)\n",
    "str(customer_churn)\n",
    "tail(customer_churn)\n",
    "dim(customer_churn)"
   ]
  },
  {
   "cell_type": "code",
   "execution_count": 4,
   "id": "5732c9cb",
   "metadata": {},
   "outputs": [
    {
     "data": {
      "text/html": [
       "<style>\n",
       ".dl-inline {width: auto; margin:0; padding: 0}\n",
       ".dl-inline>dt, .dl-inline>dd {float: none; width: auto; display: inline-block}\n",
       ".dl-inline>dt::after {content: \":\\0020\"; padding-right: .5ex}\n",
       ".dl-inline>dt:not(:first-of-type) {padding-left: .5ex}\n",
       "</style><dl class=dl-inline><dt>customerID</dt><dd>0</dd><dt>gender</dt><dd>0</dd><dt>SeniorCitizen</dt><dd>0</dd><dt>Partner</dt><dd>0</dd><dt>Dependents</dt><dd>0</dd><dt>tenure</dt><dd>0</dd><dt>PhoneService</dt><dd>0</dd><dt>MultipleLines</dt><dd>0</dd><dt>InternetService</dt><dd>0</dd><dt>OnlineSecurity</dt><dd>0</dd><dt>OnlineBackup</dt><dd>0</dd><dt>DeviceProtection</dt><dd>0</dd><dt>TechSupport</dt><dd>0</dd><dt>StreamingTV</dt><dd>0</dd><dt>StreamingMovies</dt><dd>0</dd><dt>Contract</dt><dd>0</dd><dt>PaperlessBilling</dt><dd>0</dd><dt>PaymentMethod</dt><dd>0</dd><dt>MonthlyCharges</dt><dd>0</dd><dt>TotalCharges</dt><dd>11</dd><dt>Churn</dt><dd>0</dd></dl>\n"
      ],
      "text/latex": [
       "\\begin{description*}\n",
       "\\item[customerID] 0\n",
       "\\item[gender] 0\n",
       "\\item[SeniorCitizen] 0\n",
       "\\item[Partner] 0\n",
       "\\item[Dependents] 0\n",
       "\\item[tenure] 0\n",
       "\\item[PhoneService] 0\n",
       "\\item[MultipleLines] 0\n",
       "\\item[InternetService] 0\n",
       "\\item[OnlineSecurity] 0\n",
       "\\item[OnlineBackup] 0\n",
       "\\item[DeviceProtection] 0\n",
       "\\item[TechSupport] 0\n",
       "\\item[StreamingTV] 0\n",
       "\\item[StreamingMovies] 0\n",
       "\\item[Contract] 0\n",
       "\\item[PaperlessBilling] 0\n",
       "\\item[PaymentMethod] 0\n",
       "\\item[MonthlyCharges] 0\n",
       "\\item[TotalCharges] 11\n",
       "\\item[Churn] 0\n",
       "\\end{description*}\n"
      ],
      "text/markdown": [
       "customerID\n",
       ":   0gender\n",
       ":   0SeniorCitizen\n",
       ":   0Partner\n",
       ":   0Dependents\n",
       ":   0tenure\n",
       ":   0PhoneService\n",
       ":   0MultipleLines\n",
       ":   0InternetService\n",
       ":   0OnlineSecurity\n",
       ":   0OnlineBackup\n",
       ":   0DeviceProtection\n",
       ":   0TechSupport\n",
       ":   0StreamingTV\n",
       ":   0StreamingMovies\n",
       ":   0Contract\n",
       ":   0PaperlessBilling\n",
       ":   0PaymentMethod\n",
       ":   0MonthlyCharges\n",
       ":   0TotalCharges\n",
       ":   11Churn\n",
       ":   0\n",
       "\n"
      ],
      "text/plain": [
       "      customerID           gender    SeniorCitizen          Partner \n",
       "               0                0                0                0 \n",
       "      Dependents           tenure     PhoneService    MultipleLines \n",
       "               0                0                0                0 \n",
       " InternetService   OnlineSecurity     OnlineBackup DeviceProtection \n",
       "               0                0                0                0 \n",
       "     TechSupport      StreamingTV  StreamingMovies         Contract \n",
       "               0                0                0                0 \n",
       "PaperlessBilling    PaymentMethod   MonthlyCharges     TotalCharges \n",
       "               0                0                0               11 \n",
       "           Churn \n",
       "               0 "
      ]
     },
     "metadata": {},
     "output_type": "display_data"
    },
    {
     "data": {
      "text/html": [
       "11"
      ],
      "text/latex": [
       "11"
      ],
      "text/markdown": [
       "11"
      ],
      "text/plain": [
       "[1] 11"
      ]
     },
     "metadata": {},
     "output_type": "display_data"
    }
   ],
   "source": [
    "### Checking the presence of Null Values.###\n",
    "sapply(customer_churn, function(x) sum(is.na(x)))\n",
    "sum(is.na(customer_churn$TotalCharges)) ###Null values in TotalCharges column###"
   ]
  },
  {
   "cell_type": "code",
   "execution_count": 5,
   "id": "277ccbd7",
   "metadata": {},
   "outputs": [
    {
     "data": {
      "text/html": [
       "<style>\n",
       ".list-inline {list-style: none; margin:0; padding: 0}\n",
       ".list-inline>li {display: inline-block}\n",
       ".list-inline>li:not(:last-child)::after {content: \"\\00b7\"; padding: 0 .5ex}\n",
       "</style>\n",
       "<ol class=list-inline><li>7032</li><li>21</li></ol>\n"
      ],
      "text/latex": [
       "\\begin{enumerate*}\n",
       "\\item 7032\n",
       "\\item 21\n",
       "\\end{enumerate*}\n"
      ],
      "text/markdown": [
       "1. 7032\n",
       "2. 21\n",
       "\n",
       "\n"
      ],
      "text/plain": [
       "[1] 7032   21"
      ]
     },
     "metadata": {},
     "output_type": "display_data"
    }
   ],
   "source": [
    "### remove NAs from data. ###\n",
    "churn_no_na <- na.omit(customer_churn)\n",
    "dim(churn_no_na)"
   ]
  },
  {
   "cell_type": "code",
   "execution_count": 6,
   "id": "34349198",
   "metadata": {},
   "outputs": [
    {
     "data": {
      "text/html": [
       "0"
      ],
      "text/latex": [
       "0"
      ],
      "text/markdown": [
       "0"
      ],
      "text/plain": [
       "[1] 0"
      ]
     },
     "metadata": {},
     "output_type": "display_data"
    }
   ],
   "source": [
    "###No missing values found in churn_no_na. ###\n",
    "sum(is.na(churn_no_na))"
   ]
  },
  {
   "cell_type": "code",
   "execution_count": 7,
   "id": "b0805fef",
   "metadata": {},
   "outputs": [
    {
     "name": "stdout",
     "output_type": "stream",
     "text": [
      "'data.frame':\t7032 obs. of  20 variables:\n",
      " $ gender          : Factor w/ 2 levels \"Female\",\"Male\": 1 2 2 2 1 1 2 1 1 2 ...\n",
      " $ SeniorCitizen   : int  0 0 0 0 0 0 0 0 0 0 ...\n",
      " $ Partner         : Factor w/ 2 levels \"No\",\"Yes\": 2 1 1 1 1 1 1 1 2 1 ...\n",
      " $ Dependents      : Factor w/ 2 levels \"No\",\"Yes\": 1 1 1 1 1 1 2 1 1 2 ...\n",
      " $ tenure          : int  1 34 2 45 2 8 22 10 28 62 ...\n",
      " $ PhoneService    : Factor w/ 2 levels \"No\",\"Yes\": 1 2 2 1 2 2 2 1 2 2 ...\n",
      " $ MultipleLines   : Factor w/ 2 levels \"No\",\"Yes\": 1 1 1 1 1 2 2 1 2 1 ...\n",
      " $ InternetService : Factor w/ 3 levels \"DSL\",\"Fiber optic\",..: 1 1 1 1 2 2 2 1 2 1 ...\n",
      " $ OnlineSecurity  : Factor w/ 2 levels \"No\",\"Yes\": 1 2 2 2 1 1 1 2 1 2 ...\n",
      " $ OnlineBackup    : Factor w/ 2 levels \"No\",\"Yes\": 2 1 2 1 1 1 2 1 1 2 ...\n",
      " $ DeviceProtection: Factor w/ 2 levels \"No\",\"Yes\": 1 2 1 2 1 2 1 1 2 1 ...\n",
      " $ TechSupport     : Factor w/ 2 levels \"No\",\"Yes\": 1 1 1 2 1 1 1 1 2 1 ...\n",
      " $ StreamingTV     : Factor w/ 2 levels \"No\",\"Yes\": 1 1 1 1 1 2 2 1 2 1 ...\n",
      " $ StreamingMovies : Factor w/ 2 levels \"No\",\"Yes\": 1 1 1 1 1 2 1 1 2 1 ...\n",
      " $ Contract        : Factor w/ 3 levels \"Month-to-month\",..: 1 2 1 2 1 1 1 1 1 2 ...\n",
      " $ PaperlessBilling: Factor w/ 2 levels \"No\",\"Yes\": 2 1 2 1 2 2 2 1 2 1 ...\n",
      " $ PaymentMethod   : Factor w/ 4 levels \"Bank transfer (automatic)\",..: 3 4 4 1 3 3 2 4 3 1 ...\n",
      " $ MonthlyCharges  : num  29.9 57 53.9 42.3 70.7 ...\n",
      " $ TotalCharges    : num  29.9 1889.5 108.2 1840.8 151.7 ...\n",
      " $ Churn           : Factor w/ 2 levels \"No\",\"Yes\": 1 1 2 1 2 2 1 1 2 1 ...\n"
     ]
    }
   ],
   "source": [
    "###Removing unnecessary columns. ###\n",
    "cols_to_be_removed=c(\"customerID\")\n",
    "churn_no_na = churn_no_na[,!(names(churn_no_na) %in% cols_to_be_removed) ]\n",
    "str(churn_no_na)"
   ]
  },
  {
   "cell_type": "code",
   "execution_count": 8,
   "id": "c88afce6",
   "metadata": {},
   "outputs": [
    {
     "name": "stdout",
     "output_type": "stream",
     "text": [
      "'data.frame':\t7032 obs. of  20 variables:\n",
      " $ gender          : Factor w/ 2 levels \"Female\",\"Male\": 1 2 2 2 1 1 2 1 1 2 ...\n",
      " $ SeniorCitizen   : int  0 0 0 0 0 0 0 0 0 0 ...\n",
      " $ Partner         : Factor w/ 2 levels \"No\",\"Yes\": 2 1 1 1 1 1 1 1 2 1 ...\n",
      " $ Dependents      : Factor w/ 2 levels \"No\",\"Yes\": 1 1 1 1 1 1 2 1 1 2 ...\n",
      " $ tenure          : num  1 34 2 45 2 8 22 10 28 62 ...\n",
      " $ PhoneService    : Factor w/ 2 levels \"No\",\"Yes\": 1 2 2 1 2 2 2 1 2 2 ...\n",
      " $ MultipleLines   : Factor w/ 2 levels \"No\",\"Yes\": 1 1 1 1 1 2 2 1 2 1 ...\n",
      " $ InternetService : Factor w/ 3 levels \"DSL\",\"Fiber optic\",..: 1 1 1 1 2 2 2 1 2 1 ...\n",
      " $ OnlineSecurity  : Factor w/ 2 levels \"No\",\"Yes\": 1 2 2 2 1 1 1 2 1 2 ...\n",
      " $ OnlineBackup    : Factor w/ 2 levels \"No\",\"Yes\": 2 1 2 1 1 1 2 1 1 2 ...\n",
      " $ DeviceProtection: Factor w/ 2 levels \"No\",\"Yes\": 1 2 1 2 1 2 1 1 2 1 ...\n",
      " $ TechSupport     : Factor w/ 2 levels \"No\",\"Yes\": 1 1 1 2 1 1 1 1 2 1 ...\n",
      " $ StreamingTV     : Factor w/ 2 levels \"No\",\"Yes\": 1 1 1 1 1 2 2 1 2 1 ...\n",
      " $ StreamingMovies : Factor w/ 2 levels \"No\",\"Yes\": 1 1 1 1 1 2 1 1 2 1 ...\n",
      " $ Contract        : Factor w/ 3 levels \"Month-to-month\",..: 1 2 1 2 1 1 1 1 1 2 ...\n",
      " $ PaperlessBilling: Factor w/ 2 levels \"No\",\"Yes\": 2 1 2 1 2 2 2 1 2 1 ...\n",
      " $ PaymentMethod   : Factor w/ 4 levels \"Bank transfer (automatic)\",..: 3 4 4 1 3 3 2 4 3 1 ...\n",
      " $ MonthlyCharges  : num  29.9 57 53.9 42.3 70.7 ...\n",
      " $ TotalCharges    : num  29.9 1889.5 108.2 1840.8 151.7 ...\n",
      " $ Churn           : Factor w/ 2 levels \"No\",\"Yes\": 1 1 2 1 2 2 1 1 2 1 ...\n"
     ]
    }
   ],
   "source": [
    "churn_no_na$tenure = as.numeric(churn_no_na$tenure)\n",
    "str(churn_no_na)"
   ]
  },
  {
   "cell_type": "code",
   "execution_count": 11,
   "id": "c8a841ea",
   "metadata": {},
   "outputs": [],
   "source": [
    "# map the values to change. ###\n",
    "churn_no_na$SeniorCitizen <- as.factor(mapvalues(churn_no_na$SeniorCitizen, from=c(\"0\",\"1\"), to=c(\"No\", \"Yes\")))"
   ]
  },
  {
   "cell_type": "code",
   "execution_count": 12,
   "id": "84e9fd67",
   "metadata": {},
   "outputs": [
    {
     "data": {
      "text/plain": [
       "   Min. 1st Qu.  Median    Mean 3rd Qu.    Max. \n",
       "   1.00    9.00   29.00   32.42   55.00   72.00 "
      ]
     },
     "metadata": {},
     "output_type": "display_data"
    },
    {
     "data": {
      "image/png": "[encoded data removed]",
      "text/plain": [
       "Plot with title \"Without Outliers\""
      ]
     },
     "metadata": {
      "image/png": {
       "height": 420,
       "width": 420
      }
     },
     "output_type": "display_data"
    }
   ],
   "source": [
    "#Attribute - tenure\n",
    "par(mfrow=c(1,2))\n",
    "boxplot(churn_no_na$tenure, col = \"pink\", main=\"With Outliers\") #Attribute with Outliers\n",
    "#Removing outliers in tenure attribute\n",
    "p75 = quantile(churn_no_na$tenure,0.75, na.rm = TRUE)\n",
    "p25 = quantile(churn_no_na$tenure,0.25, na.rm = TRUE)\n",
    "# print(p75)\n",
    "# print(p25)\n",
    "iqr = p75-p25\n",
    "\n",
    "churn_no_na$tenure = ifelse(churn_no_na$tenure<p25-1.5*iqr,ave(churn_no_na$tenure, FUN = function(x) p25-1.5*iqr),churn_no_na$tenure)\n",
    "churn_no_na$tenure = ifelse(churn_no_na$tenure>p75+1.5*iqr,ave(churn_no_na$tenure, FUN = function(x) p75+1.5*iqr),churn_no_na$tenure)\n",
    "boxplot(churn_no_na$tenure, col =\"lightblue\", main=\"Without Outliers\") # Attribute without outliers\n",
    "summary(churn_no_na$tenure)"
   ]
  },
  {
   "cell_type": "code",
   "execution_count": 13,
   "id": "d3bd1a6c",
   "metadata": {},
   "outputs": [
    {
     "data": {
      "text/plain": [
       "   Min. 1st Qu.  Median    Mean 3rd Qu.    Max. \n",
       "  18.25   35.59   70.35   64.80   89.86  118.75 "
      ]
     },
     "metadata": {},
     "output_type": "display_data"
    },
    {
     "data": {
      "image/png": "[encoded data removed]",
      "text/plain": [
       "Plot with title \"Without Outliers\""
      ]
     },
     "metadata": {
      "image/png": {
       "height": 420,
       "width": 420
      }
     },
     "output_type": "display_data"
    }
   ],
   "source": [
    "#Attribute - MonthlyCharges. ###\n",
    "par(mfrow=c(1,2))\n",
    "boxplot(churn_no_na$MonthlyCharges, col = \"pink\", main=\"With Outliers\") #Attribute with Outliers\n",
    "#Removing outliers in MonthlyCharges attribute\n",
    "p75 = quantile(churn_no_na$MonthlyCharges,0.75, na.rm = TRUE)\n",
    "p25 = quantile(churn_no_na$MonthlyCharges,0.25, na.rm = TRUE)\n",
    "# print(p75)\n",
    "# print(p25)\n",
    "iqr = p75-p25\n",
    "\n",
    "churn_no_na$MonthlyCharges = ifelse(churn_no_na$MonthlyCharges<p25-1.5*iqr,ave(churn_no_na$MonthlyCharges, FUN = function(x) p25-1.5*iqr),churn_no_na$MonthlyCharges)\n",
    "churn_no_na$MonthlyCharges = ifelse(churn_no_na$MonthlyCharges>p75+1.5*iqr,ave(churn_no_na$MonthlyCharges, FUN = function(x) p75+1.5*iqr),churn_no_na$MonthlyCharges)\n",
    "boxplot(churn_no_na$MonthlyCharges, col =\"lightblue\", main=\"Without Outliers\") # Attribute without outliers\n",
    "summary(churn_no_na$MonthlyCharges)"
   ]
  },
  {
   "cell_type": "code",
   "execution_count": 14,
   "id": "bc79a031",
   "metadata": {},
   "outputs": [
    {
     "data": {
      "text/plain": [
       "   Min. 1st Qu.  Median    Mean 3rd Qu.    Max. \n",
       "   18.8   401.4  1397.5  2283.3  3794.7  8684.8 "
      ]
     },
     "metadata": {},
     "output_type": "display_data"
    },
    {
     "data": {
      "image/png": "[encoded data removed]",
      "text/plain": [
       "Plot with title \"Without Outliers\""
      ]
     },
     "metadata": {
      "image/png": {
       "height": 420,
       "width": 420
      }
     },
     "output_type": "display_data"
    }
   ],
   "source": [
    "#Attribute - TotalCharges. ###\n",
    "par(mfrow=c(1,2))\n",
    "boxplot(churn_no_na$TotalCharges, col = \"pink\", main=\"With Outliers\") #Attribute with Outliers\n",
    "#Removing outliers in MonthlyCharges attribute\n",
    "p75 = quantile(churn_no_na$TotalCharges,0.75, na.rm = TRUE)\n",
    "p25 = quantile(churn_no_na$TotalCharges,0.25, na.rm = TRUE)\n",
    "# print(p75)\n",
    "# print(p25)\n",
    "iqr = p75-p25\n",
    "\n",
    "churn_no_na$TotalCharges = ifelse(churn_no_na$TotalCharges<p25-1.5*iqr,ave(churn_no_na$TotalCharges, FUN = function(x) p25-1.5*iqr),churn_no_na$TotalCharges)\n",
    "churn_no_na$TotalCharges = ifelse(churn_no_na$TotalCharges>p75+1.5*iqr,ave(churn_no_na$TotalCharges, FUN = function(x) p75+1.5*iqr),churn_no_na$TotalCharges)\n",
    "boxplot(churn_no_na$TotalCharges, col =\"lightblue\", main=\"Without Outliers\") # Attribute without outliers\n",
    "summary(churn_no_na$TotalCharges)"
   ]
  },
  {
   "cell_type": "code",
   "execution_count": 16,
   "id": "bb20187d",
   "metadata": {},
   "outputs": [
    {
     "data": {
      "text/html": [
       "<style>\n",
       ".list-inline {list-style: none; margin:0; padding: 0}\n",
       ".list-inline>li {display: inline-block}\n",
       ".list-inline>li:not(:last-child)::after {content: \"\\00b7\"; padding: 0 .5ex}\n",
       "</style>\n",
       "<ol class=list-inline><li>7032</li><li>3</li></ol>\n"
      ],
      "text/latex": [
       "\\begin{enumerate*}\n",
       "\\item 7032\n",
       "\\item 3\n",
       "\\end{enumerate*}\n"
      ],
      "text/markdown": [
       "1. 7032\n",
       "2. 3\n",
       "\n",
       "\n"
      ],
      "text/plain": [
       "[1] 7032    3"
      ]
     },
     "metadata": {},
     "output_type": "display_data"
    },
    {
     "data": {
      "text/html": [
       "<table class=\"dataframe\">\n",
       "<caption>A matrix: 3 × 3 of type dbl</caption>\n",
       "<thead>\n",
       "\t<tr><th></th><th scope=col>tenure</th><th scope=col>MonthlyCharges</th><th scope=col>TotalCharges</th></tr>\n",
       "</thead>\n",
       "<tbody>\n",
       "\t<tr><th scope=row>tenure</th><td>1.0000000</td><td>0.2468618</td><td>0.8258805</td></tr>\n",
       "\t<tr><th scope=row>MonthlyCharges</th><td>0.2468618</td><td>1.0000000</td><td>0.6510648</td></tr>\n",
       "\t<tr><th scope=row>TotalCharges</th><td>0.8258805</td><td>0.6510648</td><td>1.0000000</td></tr>\n",
       "</tbody>\n",
       "</table>\n"
      ],
      "text/latex": [
       "A matrix: 3 × 3 of type dbl\n",
       "\\begin{tabular}{r|lll}\n",
       "  & tenure & MonthlyCharges & TotalCharges\\\\\n",
       "\\hline\n",
       "\ttenure & 1.0000000 & 0.2468618 & 0.8258805\\\\\n",
       "\tMonthlyCharges & 0.2468618 & 1.0000000 & 0.6510648\\\\\n",
       "\tTotalCharges & 0.8258805 & 0.6510648 & 1.0000000\\\\\n",
       "\\end{tabular}\n"
      ],
      "text/markdown": [
       "\n",
       "A matrix: 3 × 3 of type dbl\n",
       "\n",
       "| <!--/--> | tenure | MonthlyCharges | TotalCharges |\n",
       "|---|---|---|---|\n",
       "| tenure | 1.0000000 | 0.2468618 | 0.8258805 |\n",
       "| MonthlyCharges | 0.2468618 | 1.0000000 | 0.6510648 |\n",
       "| TotalCharges | 0.8258805 | 0.6510648 | 1.0000000 |\n",
       "\n"
      ],
      "text/plain": [
       "               tenure    MonthlyCharges TotalCharges\n",
       "tenure         1.0000000 0.2468618      0.8258805   \n",
       "MonthlyCharges 0.2468618 1.0000000      0.6510648   \n",
       "TotalCharges   0.8258805 0.6510648      1.0000000   "
      ]
     },
     "metadata": {},
     "output_type": "display_data"
    },
    {
     "data": {
      "image/png": "[encoded data removed]",
      "text/plain": [
       "plot without title"
      ]
     },
     "metadata": {
      "image/png": {
       "height": 420,
       "width": 420
      }
     },
     "output_type": "display_data"
    }
   ],
   "source": [
    "### filtering data with numeric variables to run correlation. ###\n",
    "\n",
    "churn_only_num <- Filter(is.numeric, churn_no_na)\n",
    "\n",
    "dim(churn_only_num)\n",
    "cor(churn_only_num)\n",
    "\n",
    "plot(churn_only_num)"
   ]
  },
  {
   "cell_type": "code",
   "execution_count": 17,
   "id": "301153c5",
   "metadata": {},
   "outputs": [
    {
     "data": {
      "image/png": "[encoded data removed]",
      "text/plain": [
       "Plot with title \"Tenure Histogram\""
      ]
     },
     "metadata": {
      "image/png": {
       "height": 420,
       "width": 420
      }
     },
     "output_type": "display_data"
    },
    {
     "data": {
      "image/png": "[encoded data removed]",
      "text/plain": [
       "Plot with title \"MonthlyCharges Histogram\""
      ]
     },
     "metadata": {
      "image/png": {
       "height": 420,
       "width": 420
      }
     },
     "output_type": "display_data"
    },
    {
     "data": {
      "image/png": "[encoded data removed]",
      "text/plain": [
       "Plot with title \"TotalCharges Histogram\""
      ]
     },
     "metadata": {
      "image/png": {
       "height": 420,
       "width": 420
      }
     },
     "output_type": "display_data"
    }
   ],
   "source": [
    "### Histogram of tenure, Monthlycharges and Total charges. ###\n",
    "hist(churn_no_na$tenure,main=\"Tenure Histogram\",col = \"blue\",xlab=\"Tenure\",ylab=\"Count\")\n",
    "hist(churn_no_na$MonthlyCharges,main=\"MonthlyCharges Histogram\",col = \"lightblue\",xlab=\"Tenure\",ylab=\"Count\")\n",
    "hist(churn_no_na$TotalCharges,main=\"TotalCharges Histogram\",col = \"cyan\",xlab=\"Tenure\",ylab=\"Count\")"
   ]
  },
  {
   "cell_type": "code",
   "execution_count": 18,
   "id": "1ae47963",
   "metadata": {},
   "outputs": [
    {
     "data": {
      "image/png": "[encoded data removed]",
      "text/plain": [
       "Plot with title \"\""
      ]
     },
     "metadata": {
      "image/png": {
       "height": 420,
       "width": 420
      }
     },
     "output_type": "display_data"
    }
   ],
   "source": [
    "#### plot for correlation with colour bar and level #####\n",
    "M = cor(churn_only_num)\n",
    "corrplot(M)"
   ]
  },
  {
   "cell_type": "code",
   "execution_count": 19,
   "id": "c02dccbd",
   "metadata": {},
   "outputs": [],
   "source": [
    "### Conveting another no phone service\" into \"NO\" services taken.###\n",
    "churn_no_na$MultipleLines[churn_no_na$MultipleLines==  \"No phone service\"] <- 'No'\n",
    "\n",
    "### Conveting another no phone service\" into \"NO\" services taken.\n",
    "churn_no_na$InternetService[churn_no_na$InternetService==  \"No phone service\"] <- 'No'\n",
    "\n",
    "### Conveting another no internet service\" into \"NO\" services taken.\n",
    "churn_no_na$OnlineSecurity[churn_no_na$OnlineSecurity==  \"No internet service\"] <- 'No'\n",
    "churn_no_na$OnlineBackup[churn_no_na$OnlineBackup==  \"No internet service\"] <- 'No'\n",
    "churn_no_na$DeviceProtection[churn_no_na$DeviceProtection==  \"No internet service\"] <- 'No'\n",
    "churn_no_na$TechSupport[churn_no_na$TechSupport==  \"No internet service\"] <- 'No'\n",
    "\n",
    "### But it is not completely converting so changing values in the dataset.###"
   ]
  },
  {
   "cell_type": "markdown",
   "id": "f9f72dd9",
   "metadata": {},
   "source": [
    "# Explanatory Analysis."
   ]
  },
  {
   "cell_type": "code",
   "execution_count": 20,
   "id": "e630cc18",
   "metadata": {},
   "outputs": [
    {
     "data": {
      "image/png": "[encoded data removed]",
      "text/plain": [
       "plot without title"
      ]
     },
     "metadata": {
      "image/png": {
       "height": 420,
       "width": 420
      }
     },
     "output_type": "display_data"
    }
   ],
   "source": [
    "### Visulaizing and Plotting the graph for individual columns on the basis of Churn ###\n",
    "plot_grid(\n",
    "          ggplot(churn_no_na, aes(x=Partner,fill=Churn))+ \n",
    "          geom_bar(position = 'fill')+ \n",
    "          theme_bw()+scale_x_discrete(labels = function(x) str_wrap(x, width = 10)),\n",
    "          ggplot(churn_no_na, aes(x=Dependents,fill=Churn))+ \n",
    "          geom_bar(position = 'fill')+ \n",
    "          theme_bw()+scale_x_discrete(labels = function(x) str_wrap(x, width = 10)),\n",
    "          ggplot(churn_no_na, aes(x=PhoneService,fill=Churn))+ \n",
    "          geom_bar(position = 'fill')+ \n",
    "          theme_bw()+scale_x_discrete(labels = function(x) str_wrap(x, width = 10)), \n",
    "          ggplot(churn_no_na, aes(x=MultipleLines,fill=Churn))+ \n",
    "          geom_bar(position = 'fill')+ \n",
    "          theme_bw()+scale_x_discrete(labels = function(x) str_wrap(x, width = 10)))"
   ]
  },
  {
   "cell_type": "markdown",
   "id": "10a3dc7d",
   "metadata": {},
   "source": [
    "#People those have partners and dependents have low churn rate."
   ]
  },
  {
   "cell_type": "code",
   "execution_count": 21,
   "id": "049de8b3",
   "metadata": {},
   "outputs": [
    {
     "data": {
      "image/png": "[encoded data removed]",
      "text/plain": [
       "plot without title"
      ]
     },
     "metadata": {
      "image/png": {
       "height": 420,
       "width": 420
      }
     },
     "output_type": "display_data"
    }
   ],
   "source": [
    "#### Visualize and plot the churn catogories by gender and Senior citizen. ####\n",
    "plot_grid(ggplot(churn_no_na, aes(x=gender,fill=Churn))+ \n",
    "          geom_bar(position = 'fill')+ \n",
    "          theme_bw()+scale_x_discrete(labels = function(x) str_wrap(x, width = 10)),\n",
    "          ggplot(churn_no_na, aes(x=SeniorCitizen,fill=Churn))+ \n",
    "          geom_bar(position = 'fill')+\n",
    "          theme_bw()+scale_x_discrete(labels = function(x) str_wrap(x, width = 10)))                                                                                                                 "
   ]
  },
  {
   "cell_type": "markdown",
   "id": "7b1e4bee",
   "metadata": {},
   "source": [
    "#Churn rate does not changed by genders and phone service."
   ]
  },
  {
   "cell_type": "code",
   "execution_count": 22,
   "id": "726bd51e",
   "metadata": {},
   "outputs": [
    {
     "data": {
      "image/png": "[encoded data removed]",
      "text/plain": [
       "Plot with title \"Consumers opted for Phone Services\""
      ]
     },
     "metadata": {
      "image/png": {
       "height": 420,
       "width": 420
      }
     },
     "output_type": "display_data"
    },
    {
     "data": {
      "image/png": "[encoded data removed]",
      "text/plain": [
       "Plot with title \"Consumers opted for MultipleLine Services\""
      ]
     },
     "metadata": {
      "image/png": {
       "height": 420,
       "width": 420
      }
     },
     "output_type": "display_data"
    },
    {
     "data": {
      "image/png": "[encoded data removed]",
      "text/plain": [
       "Plot with title \"Consumers opted for Internet Services\""
      ]
     },
     "metadata": {
      "image/png": {
       "height": 420,
       "width": 420
      }
     },
     "output_type": "display_data"
    },
    {
     "data": {
      "image/png": "[encoded data removed]",
      "text/plain": [
       "Plot with title \"Consumers opted for OnlineSecurity Services\""
      ]
     },
     "metadata": {
      "image/png": {
       "height": 420,
       "width": 420
      }
     },
     "output_type": "display_data"
    },
    {
     "data": {
      "image/png": "[encoded data removed]",
      "text/plain": [
       "Plot with title \"Consumers opted for OnlineBackup Services\""
      ]
     },
     "metadata": {
      "image/png": {
       "height": 420,
       "width": 420
      }
     },
     "output_type": "display_data"
    },
    {
     "data": {
      "image/png": "[encoded data removed]",
      "text/plain": [
       "Plot with title \"Consumers opted for DeviceProtection Services\""
      ]
     },
     "metadata": {
      "image/png": {
       "height": 420,
       "width": 420
      }
     },
     "output_type": "display_data"
    },
    {
     "data": {
      "image/png": "[encoded data removed]",
      "text/plain": [
       "Plot with title \"Consumers opted for TechSupport Services\""
      ]
     },
     "metadata": {
      "image/png": {
       "height": 420,
       "width": 420
      }
     },
     "output_type": "display_data"
    }
   ],
   "source": [
    "barplot(table(churn_no_na$PhoneService), main=\"Consumers opted for Phone Services\", col=\"lightblue\",xlab = \"Phone-Services\", ylab=\"Number of People\")\n",
    "barplot(table(churn_no_na$MultipleLines), main=\"Consumers opted for MultipleLine Services\", col=\"lightgreen\",xlab = \"MultipleLines\", ylab=\"Number of People\")\n",
    "barplot(table(churn_no_na$InternetService), main=\"Consumers opted for Internet Services\", col=\"lightyellow\",xlab = \"Internet-Services\", ylab=\"Number of People\")\n",
    "barplot(table(churn_no_na$OnlineSecurity), main=\"Consumers opted for OnlineSecurity Services\", col=\"cyan\",xlab = \"OnlineSecurity-Services\", ylab=\"Number of People\")\n",
    "barplot(table(churn_no_na$OnlineBackup), main=\"Consumers opted for OnlineBackup Services\", col=\"orange\",xlab = \"OnlineBackup-Services\", ylab=\"Number of People\")\n",
    "barplot(table(churn_no_na$DeviceProtection), main=\"Consumers opted for DeviceProtection Services\", col=\"pink\",xlab = \"DeviceProtection-Services\", ylab=\"Number of People\")\n",
    "barplot(table(churn_no_na$TechSupport), main=\"Consumers opted for TechSupport Services\", col=\"red\",xlab = \"TechSupport-Services\", ylab=\"Number of People\")"
   ]
  },
  {
   "cell_type": "code",
   "execution_count": 23,
   "id": "2d74cc72",
   "metadata": {},
   "outputs": [
    {
     "data": {
      "image/png": "[encoded data removed]",
      "text/plain": [
       "plot without title"
      ]
     },
     "metadata": {
      "image/png": {
       "height": 420,
       "width": 420
      }
     },
     "output_type": "display_data"
    }
   ],
   "source": [
    "### Plotting graphs on the basis of Churn analysis. ###\n",
    "plot_grid(ggplot(churn_no_na, aes(x=StreamingMovies,fill=Churn))+ \n",
    "          geom_bar(position = 'fill')+ theme_bw()+\n",
    "          scale_x_discrete(labels = function(x) str_wrap(x, width = 10)), \n",
    "          ggplot(churn_no_na, aes(x=Contract,fill=Churn))+ \n",
    "          geom_bar(position = 'fill')+theme_bw()+\n",
    "          scale_x_discrete(labels = function(x) str_wrap(x, width = 10)),\n",
    "          ggplot(churn_no_na, aes(x=PaperlessBilling,fill=Churn))+ \n",
    "          geom_bar(position = 'fill')+theme_bw()+\n",
    "          scale_x_discrete(labels = function(x) str_wrap(x, width = 10)),\n",
    "          ggplot(churn_no_na, aes(x=PaymentMethod,fill=Churn))+\n",
    "          geom_bar(position = 'fill')+theme_bw()+\n",
    "          scale_x_discrete(labels = function(x) str_wrap(x, width = 10)),\n",
    "          align = \"h\")"
   ]
  },
  {
   "cell_type": "code",
   "execution_count": 24,
   "id": "b726fa8f",
   "metadata": {},
   "outputs": [
    {
     "name": "stdout",
     "output_type": "stream",
     "text": [
      "'data.frame':\t7032 obs. of  19 variables:\n",
      " $ gender          : Factor w/ 2 levels \"Female\",\"Male\": 1 2 2 2 1 1 2 1 1 2 ...\n",
      " $ SeniorCitizen   : Factor w/ 2 levels \"No\",\"Yes\": 1 1 1 1 1 1 1 1 1 1 ...\n",
      " $ Partner         : Factor w/ 2 levels \"No\",\"Yes\": 2 1 1 1 1 1 1 1 2 1 ...\n",
      " $ Dependents      : Factor w/ 2 levels \"No\",\"Yes\": 1 1 1 1 1 1 2 1 1 2 ...\n",
      " $ tenure          : num  1 34 2 45 2 8 22 10 28 62 ...\n",
      " $ PhoneService    : Factor w/ 2 levels \"No\",\"Yes\": 1 2 2 1 2 2 2 1 2 2 ...\n",
      " $ MultipleLines   : Factor w/ 2 levels \"No\",\"Yes\": 1 1 1 1 1 2 2 1 2 1 ...\n",
      " $ InternetService : Factor w/ 3 levels \"DSL\",\"Fiber optic\",..: 1 1 1 1 2 2 2 1 2 1 ...\n",
      " $ OnlineSecurity  : Factor w/ 2 levels \"No\",\"Yes\": 1 2 2 2 1 1 1 2 1 2 ...\n",
      " $ OnlineBackup    : Factor w/ 2 levels \"No\",\"Yes\": 2 1 2 1 1 1 2 1 1 2 ...\n",
      " $ DeviceProtection: Factor w/ 2 levels \"No\",\"Yes\": 1 2 1 2 1 2 1 1 2 1 ...\n",
      " $ TechSupport     : Factor w/ 2 levels \"No\",\"Yes\": 1 1 1 2 1 1 1 1 2 1 ...\n",
      " $ StreamingTV     : Factor w/ 2 levels \"No\",\"Yes\": 1 1 1 1 1 2 2 1 2 1 ...\n",
      " $ StreamingMovies : Factor w/ 2 levels \"No\",\"Yes\": 1 1 1 1 1 2 1 1 2 1 ...\n",
      " $ Contract        : Factor w/ 3 levels \"Month-to-month\",..: 1 2 1 2 1 1 1 1 1 2 ...\n",
      " $ PaperlessBilling: Factor w/ 2 levels \"No\",\"Yes\": 2 1 2 1 2 2 2 1 2 1 ...\n",
      " $ PaymentMethod   : Factor w/ 4 levels \"Bank transfer (automatic)\",..: 3 4 4 1 3 3 2 4 3 1 ...\n",
      " $ TotalCharges    : num  29.9 1889.5 108.2 1840.8 151.7 ...\n",
      " $ Churn           : Factor w/ 2 levels \"No\",\"Yes\": 1 1 2 1 2 2 1 1 2 1 ...\n"
     ]
    }
   ],
   "source": [
    "###Removing unnecessary columns. ###\n",
    "cols_to_be_removed1=c(\"MonthlyCharges\",\"customerID\")\n",
    "churn_no_na = churn_no_na[,!(names(churn_no_na) %in% cols_to_be_removed1) ]\n",
    "str(churn_no_na)"
   ]
  },
  {
   "cell_type": "code",
   "execution_count": 25,
   "id": "9af175d1",
   "metadata": {},
   "outputs": [
    {
     "data": {
      "text/html": [
       "<table class=\"dataframe\">\n",
       "<caption>A data.frame: 6 × 19</caption>\n",
       "<thead>\n",
       "\t<tr><th></th><th scope=col>gender</th><th scope=col>SeniorCitizen</th><th scope=col>Partner</th><th scope=col>Dependents</th><th scope=col>tenure</th><th scope=col>PhoneService</th><th scope=col>MultipleLines</th><th scope=col>InternetService</th><th scope=col>OnlineSecurity</th><th scope=col>OnlineBackup</th><th scope=col>DeviceProtection</th><th scope=col>TechSupport</th><th scope=col>StreamingTV</th><th scope=col>StreamingMovies</th><th scope=col>Contract</th><th scope=col>PaperlessBilling</th><th scope=col>PaymentMethod</th><th scope=col>TotalCharges</th><th scope=col>Churn</th></tr>\n",
       "\t<tr><th></th><th scope=col>&lt;fct&gt;</th><th scope=col>&lt;fct&gt;</th><th scope=col>&lt;fct&gt;</th><th scope=col>&lt;fct&gt;</th><th scope=col>&lt;dbl&gt;</th><th scope=col>&lt;fct&gt;</th><th scope=col>&lt;fct&gt;</th><th scope=col>&lt;fct&gt;</th><th scope=col>&lt;fct&gt;</th><th scope=col>&lt;fct&gt;</th><th scope=col>&lt;fct&gt;</th><th scope=col>&lt;fct&gt;</th><th scope=col>&lt;fct&gt;</th><th scope=col>&lt;fct&gt;</th><th scope=col>&lt;fct&gt;</th><th scope=col>&lt;fct&gt;</th><th scope=col>&lt;fct&gt;</th><th scope=col>&lt;dbl&gt;</th><th scope=col>&lt;fct&gt;</th></tr>\n",
       "</thead>\n",
       "<tbody>\n",
       "\t<tr><th scope=row>1</th><td>0</td><td>0</td><td>1</td><td>0</td><td> 1</td><td>0</td><td>0</td><td>DSL        </td><td>0</td><td>1</td><td>0</td><td>0</td><td>0</td><td>0</td><td>Month-to-month</td><td>1</td><td>Electronic check         </td><td>  29.85</td><td>0</td></tr>\n",
       "\t<tr><th scope=row>2</th><td>1</td><td>0</td><td>0</td><td>0</td><td>34</td><td>1</td><td>0</td><td>DSL        </td><td>1</td><td>0</td><td>1</td><td>0</td><td>0</td><td>0</td><td>One year      </td><td>0</td><td>Mailed check             </td><td>1889.50</td><td>0</td></tr>\n",
       "\t<tr><th scope=row>3</th><td>1</td><td>0</td><td>0</td><td>0</td><td> 2</td><td>1</td><td>0</td><td>DSL        </td><td>1</td><td>1</td><td>0</td><td>0</td><td>0</td><td>0</td><td>Month-to-month</td><td>1</td><td>Mailed check             </td><td> 108.15</td><td>1</td></tr>\n",
       "\t<tr><th scope=row>4</th><td>1</td><td>0</td><td>0</td><td>0</td><td>45</td><td>0</td><td>0</td><td>DSL        </td><td>1</td><td>0</td><td>1</td><td>1</td><td>0</td><td>0</td><td>One year      </td><td>0</td><td>Bank transfer (automatic)</td><td>1840.75</td><td>0</td></tr>\n",
       "\t<tr><th scope=row>5</th><td>0</td><td>0</td><td>0</td><td>0</td><td> 2</td><td>1</td><td>0</td><td>Fiber optic</td><td>0</td><td>0</td><td>0</td><td>0</td><td>0</td><td>0</td><td>Month-to-month</td><td>1</td><td>Electronic check         </td><td> 151.65</td><td>1</td></tr>\n",
       "\t<tr><th scope=row>6</th><td>0</td><td>0</td><td>0</td><td>0</td><td> 8</td><td>1</td><td>1</td><td>Fiber optic</td><td>0</td><td>0</td><td>1</td><td>0</td><td>1</td><td>1</td><td>Month-to-month</td><td>1</td><td>Electronic check         </td><td> 820.50</td><td>1</td></tr>\n",
       "</tbody>\n",
       "</table>\n"
      ],
      "text/latex": [
       "A data.frame: 6 × 19\n",
       "\\begin{tabular}{r|lllllllllllllllllll}\n",
       "  & gender & SeniorCitizen & Partner & Dependents & tenure & PhoneService & MultipleLines & InternetService & OnlineSecurity & OnlineBackup & DeviceProtection & TechSupport & StreamingTV & StreamingMovies & Contract & PaperlessBilling & PaymentMethod & TotalCharges & Churn\\\\\n",
       "  & <fct> & <fct> & <fct> & <fct> & <dbl> & <fct> & <fct> & <fct> & <fct> & <fct> & <fct> & <fct> & <fct> & <fct> & <fct> & <fct> & <fct> & <dbl> & <fct>\\\\\n",
       "\\hline\n",
       "\t1 & 0 & 0 & 1 & 0 &  1 & 0 & 0 & DSL         & 0 & 1 & 0 & 0 & 0 & 0 & Month-to-month & 1 & Electronic check          &   29.85 & 0\\\\\n",
       "\t2 & 1 & 0 & 0 & 0 & 34 & 1 & 0 & DSL         & 1 & 0 & 1 & 0 & 0 & 0 & One year       & 0 & Mailed check              & 1889.50 & 0\\\\\n",
       "\t3 & 1 & 0 & 0 & 0 &  2 & 1 & 0 & DSL         & 1 & 1 & 0 & 0 & 0 & 0 & Month-to-month & 1 & Mailed check              &  108.15 & 1\\\\\n",
       "\t4 & 1 & 0 & 0 & 0 & 45 & 0 & 0 & DSL         & 1 & 0 & 1 & 1 & 0 & 0 & One year       & 0 & Bank transfer (automatic) & 1840.75 & 0\\\\\n",
       "\t5 & 0 & 0 & 0 & 0 &  2 & 1 & 0 & Fiber optic & 0 & 0 & 0 & 0 & 0 & 0 & Month-to-month & 1 & Electronic check          &  151.65 & 1\\\\\n",
       "\t6 & 0 & 0 & 0 & 0 &  8 & 1 & 1 & Fiber optic & 0 & 0 & 1 & 0 & 1 & 1 & Month-to-month & 1 & Electronic check          &  820.50 & 1\\\\\n",
       "\\end{tabular}\n"
      ],
      "text/markdown": [
       "\n",
       "A data.frame: 6 × 19\n",
       "\n",
       "| <!--/--> | gender &lt;fct&gt; | SeniorCitizen &lt;fct&gt; | Partner &lt;fct&gt; | Dependents &lt;fct&gt; | tenure &lt;dbl&gt; | PhoneService &lt;fct&gt; | MultipleLines &lt;fct&gt; | InternetService &lt;fct&gt; | OnlineSecurity &lt;fct&gt; | OnlineBackup &lt;fct&gt; | DeviceProtection &lt;fct&gt; | TechSupport &lt;fct&gt; | StreamingTV &lt;fct&gt; | StreamingMovies &lt;fct&gt; | Contract &lt;fct&gt; | PaperlessBilling &lt;fct&gt; | PaymentMethod &lt;fct&gt; | TotalCharges &lt;dbl&gt; | Churn &lt;fct&gt; |\n",
       "|---|---|---|---|---|---|---|---|---|---|---|---|---|---|---|---|---|---|---|---|\n",
       "| 1 | 0 | 0 | 1 | 0 |  1 | 0 | 0 | DSL         | 0 | 1 | 0 | 0 | 0 | 0 | Month-to-month | 1 | Electronic check          |   29.85 | 0 |\n",
       "| 2 | 1 | 0 | 0 | 0 | 34 | 1 | 0 | DSL         | 1 | 0 | 1 | 0 | 0 | 0 | One year       | 0 | Mailed check              | 1889.50 | 0 |\n",
       "| 3 | 1 | 0 | 0 | 0 |  2 | 1 | 0 | DSL         | 1 | 1 | 0 | 0 | 0 | 0 | Month-to-month | 1 | Mailed check              |  108.15 | 1 |\n",
       "| 4 | 1 | 0 | 0 | 0 | 45 | 0 | 0 | DSL         | 1 | 0 | 1 | 1 | 0 | 0 | One year       | 0 | Bank transfer (automatic) | 1840.75 | 0 |\n",
       "| 5 | 0 | 0 | 0 | 0 |  2 | 1 | 0 | Fiber optic | 0 | 0 | 0 | 0 | 0 | 0 | Month-to-month | 1 | Electronic check          |  151.65 | 1 |\n",
       "| 6 | 0 | 0 | 0 | 0 |  8 | 1 | 1 | Fiber optic | 0 | 0 | 1 | 0 | 1 | 1 | Month-to-month | 1 | Electronic check          |  820.50 | 1 |\n",
       "\n"
      ],
      "text/plain": [
       "  gender SeniorCitizen Partner Dependents tenure PhoneService MultipleLines\n",
       "1 0      0             1       0           1     0            0            \n",
       "2 1      0             0       0          34     1            0            \n",
       "3 1      0             0       0           2     1            0            \n",
       "4 1      0             0       0          45     0            0            \n",
       "5 0      0             0       0           2     1            0            \n",
       "6 0      0             0       0           8     1            1            \n",
       "  InternetService OnlineSecurity OnlineBackup DeviceProtection TechSupport\n",
       "1 DSL             0              1            0                0          \n",
       "2 DSL             1              0            1                0          \n",
       "3 DSL             1              1            0                0          \n",
       "4 DSL             1              0            1                1          \n",
       "5 Fiber optic     0              0            0                0          \n",
       "6 Fiber optic     0              0            1                0          \n",
       "  StreamingTV StreamingMovies Contract       PaperlessBilling\n",
       "1 0           0               Month-to-month 1               \n",
       "2 0           0               One year       0               \n",
       "3 0           0               Month-to-month 1               \n",
       "4 0           0               One year       0               \n",
       "5 0           0               Month-to-month 1               \n",
       "6 1           1               Month-to-month 1               \n",
       "  PaymentMethod             TotalCharges Churn\n",
       "1 Electronic check            29.85      0    \n",
       "2 Mailed check              1889.50      0    \n",
       "3 Mailed check               108.15      1    \n",
       "4 Bank transfer (automatic) 1840.75      0    \n",
       "5 Electronic check           151.65      1    \n",
       "6 Electronic check           820.50      1    "
      ]
     },
     "metadata": {},
     "output_type": "display_data"
    }
   ],
   "source": [
    "### map the values to change from (\"No\" and \"Yes\") to (\"0\" and \"1\") ###\n",
    "\n",
    "churn_no_na$PaperlessBilling <- as.factor(mapvalues(churn_no_na$PaperlessBilling, from=c(\"No\",\"Yes\"), to=c(\"0\", \"1\")))\n",
    "\n",
    "churn_no_na$TechSupport <- as.factor(mapvalues(churn_no_na$TechSupport, from=c(\"No\",\"Yes\"), to=c(\"0\", \"1\")))\n",
    "\n",
    "churn_no_na$StreamingMovies <- as.factor(mapvalues(churn_no_na$StreamingMovies, from=c(\"No\",\"Yes\"), to=c(\"0\", \"1\")))\n",
    "\n",
    "churn_no_na$StreamingTV <- as.factor(mapvalues(churn_no_na$StreamingTV, from=c(\"No\",\"Yes\"), to=c(\"0\", \"1\")))\n",
    "\n",
    "churn_no_na$PhoneService <- as.factor(mapvalues(churn_no_na$PhoneService, from=c(\"No\",\"Yes\"), to=c(\"0\", \"1\")))\n",
    "\n",
    "churn_no_na$OnlineSecurity <- as.factor(mapvalues(churn_no_na$OnlineSecurity, from=c(\"No\",\"Yes\"), to=c(\"0\", \"1\")))\n",
    "\n",
    "churn_no_na$OnlineBackup <- as.factor(mapvalues(churn_no_na$OnlineBackup, from=c(\"No\",\"Yes\"), to=c(\"0\", \"1\")))\n",
    "\n",
    "churn_no_na$DeviceProtection <- as.factor(mapvalues(churn_no_na$DeviceProtection, from=c(\"No\",\"Yes\"), to=c(\"0\", \"1\")))\n",
    "\n",
    "churn_no_na$Dependents <- as.factor(mapvalues(churn_no_na$Dependents, from=c(\"No\",\"Yes\"), to=c(\"0\", \"1\")))\n",
    "\n",
    "churn_no_na$MultipleLines <- as.factor(mapvalues(churn_no_na$MultipleLines, from=c(\"No\",\"Yes\"), to=c(\"0\", \"1\")))\n",
    "\n",
    "churn_no_na$Partner <- as.factor(mapvalues(churn_no_na$Partner, from=c(\"No\",\"Yes\"), to=c(\"0\", \"1\")))\n",
    "\n",
    "churn_no_na$SeniorCitizen <- as.factor(mapvalues(churn_no_na$SeniorCitizen, from=c(\"No\",\"Yes\"), to=c(\"0\", \"1\")))\n",
    "\n",
    "churn_no_na$Churn <- as.factor(mapvalues(churn_no_na$Churn, from=c(\"No\",\"Yes\"), to=c(\"0\", \"1\")))\n",
    "\n",
    "churn_no_na$gender <- as.factor(mapvalues(churn_no_na$gender, from=c(\"Female\",\"Male\"), to=c(\"0\", \"1\")))\n",
    "\n",
    "head(churn_no_na)\n"
   ]
  },
  {
   "cell_type": "code",
   "execution_count": 26,
   "id": "7b89a53c",
   "metadata": {},
   "outputs": [],
   "source": [
    "### Converting Factor to numeric. ###\n",
    "\n",
    "churn_no_na$gender <-as.numeric(as.character(churn_no_na$gender))\n",
    "\n",
    "churn_no_na$SeniorCitizen <-as.numeric(as.character(churn_no_na$SeniorCitizen))\n",
    "\n",
    "churn_no_na$Partner <-as.numeric(as.character(churn_no_na$Partner))\n",
    "\n",
    "churn_no_na$Dependents <-as.numeric(as.character(churn_no_na$Dependents))\n",
    "\n",
    "churn_no_na$PhoneService <-as.numeric(as.character(churn_no_na$PhoneService))\n",
    "\n",
    "churn_no_na$MultipleLines <-as.numeric(as.character(churn_no_na$MultipleLines))\n",
    "\n",
    "churn_no_na$OnlineSecurity <-as.numeric(as.character(churn_no_na$OnlineSecurity))\n",
    "\n",
    "churn_no_na$OnlineBackup <-as.numeric(as.character(churn_no_na$OnlineBackup))\n",
    "\n",
    "churn_no_na$DeviceProtection <-as.numeric(as.character(churn_no_na$DeviceProtection))\n",
    "\n",
    "churn_no_na$TechSupport <-as.numeric(as.character(churn_no_na$TechSupport))\n",
    "\n",
    "churn_no_na$StreamingTV <-as.numeric(as.character(churn_no_na$StreamingTV))\n",
    "\n",
    "churn_no_na$StreamingMovies <-as.numeric(as.character(churn_no_na$StreamingMovies))\n",
    "\n",
    "churn_no_na$PaperlessBilling <-as.numeric(as.character(churn_no_na$PaperlessBilling))\n",
    "\n",
    "churn_no_na$Churn <-as.numeric(as.character(churn_no_na$Churn))\n",
    "\n"
   ]
  },
  {
   "cell_type": "code",
   "execution_count": 27,
   "id": "41220c13",
   "metadata": {},
   "outputs": [
    {
     "name": "stdout",
     "output_type": "stream",
     "text": [
      "'data.frame':\t7032 obs. of  19 variables:\n",
      " $ gender          : num  0 1 1 1 0 0 1 0 0 1 ...\n",
      " $ SeniorCitizen   : num  0 0 0 0 0 0 0 0 0 0 ...\n",
      " $ Partner         : num  1 0 0 0 0 0 0 0 1 0 ...\n",
      " $ Dependents      : num  0 0 0 0 0 0 1 0 0 1 ...\n",
      " $ tenure          : num  1 34 2 45 2 8 22 10 28 62 ...\n",
      " $ PhoneService    : num  0 1 1 0 1 1 1 0 1 1 ...\n",
      " $ MultipleLines   : num  0 0 0 0 0 1 1 0 1 0 ...\n",
      " $ InternetService : Factor w/ 3 levels \"DSL\",\"Fiber optic\",..: 1 1 1 1 2 2 2 1 2 1 ...\n",
      " $ OnlineSecurity  : num  0 1 1 1 0 0 0 1 0 1 ...\n",
      " $ OnlineBackup    : num  1 0 1 0 0 0 1 0 0 1 ...\n",
      " $ DeviceProtection: num  0 1 0 1 0 1 0 0 1 0 ...\n",
      " $ TechSupport     : num  0 0 0 1 0 0 0 0 1 0 ...\n",
      " $ StreamingTV     : num  0 0 0 0 0 1 1 0 1 0 ...\n",
      " $ StreamingMovies : num  0 0 0 0 0 1 0 0 1 0 ...\n",
      " $ Contract        : Factor w/ 3 levels \"Month-to-month\",..: 1 2 1 2 1 1 1 1 1 2 ...\n",
      " $ PaperlessBilling: num  1 0 1 0 1 1 1 0 1 0 ...\n",
      " $ PaymentMethod   : Factor w/ 4 levels \"Bank transfer (automatic)\",..: 3 4 4 1 3 3 2 4 3 1 ...\n",
      " $ TotalCharges    : num  29.9 1889.5 108.2 1840.8 151.7 ...\n",
      " $ Churn           : num  0 0 1 0 1 1 0 0 1 0 ...\n"
     ]
    }
   ],
   "source": [
    "str(churn_no_na)"
   ]
  },
  {
   "cell_type": "markdown",
   "id": "81561e2f",
   "metadata": {},
   "source": [
    "# Model Application Phase."
   ]
  },
  {
   "cell_type": "code",
   "execution_count": null,
   "id": "3d8ccbcc",
   "metadata": {},
   "outputs": [],
   "source": [
    "### Splitting the dataset into train and test dataset.\n",
    "set.seed(1000)\n",
    "\n",
    "#use 70% of dataset as training set and 30% as test set\n",
    "s <- sample(c(TRUE, FALSE), nrow(churn_no_na), replace=TRUE, prob=c(0.7,0.3))\n",
    "train  <- churn_no_na[s, ]\n",
    "test   <- churn_no_na[!s, ]"
   ]
  },
  {
   "cell_type": "markdown",
   "id": "e078833a",
   "metadata": {},
   "source": [
    "#Logistic Regression Model."
   ]
  },
  {
   "cell_type": "code",
   "execution_count": null,
   "id": "c8d42046",
   "metadata": {
    "scrolled": true
   },
   "outputs": [],
   "source": [
    "model_lrm <- glm(Churn~. , family=\"binomial\", data = train)\n",
    "summary(model_lrm)"
   ]
  },
  {
   "cell_type": "code",
   "execution_count": null,
   "id": "509d7f09",
   "metadata": {},
   "outputs": [],
   "source": [
    "res <- predict(model_lrm, test, type='response')\n",
    "tab <- table(Actualvalue = test$Churn, Predictedvalue=res>0.5)\n",
    "print(tab)"
   ]
  },
  {
   "cell_type": "code",
   "execution_count": null,
   "id": "467a78be",
   "metadata": {},
   "outputs": [],
   "source": [
    "paste(\"Accuracy:\", round((sum(diag(tab))/sum(tab))*100,2))"
   ]
  },
  {
   "cell_type": "code",
   "execution_count": null,
   "id": "744d77f8",
   "metadata": {},
   "outputs": [],
   "source": [
    "model_lrm2 <- glm(Churn~ PaymentMethod + PaperlessBilling + Contract + Contract + \n",
    "                 InternetService+ InternetService + SeniorCitizen+ MultipleLines+\n",
    "                 tenure+ SeniorCitizen +TotalCharges, family=\"binomial\", data = train)\n",
    "summary(model_lrm2)"
   ]
  },
  {
   "cell_type": "code",
   "execution_count": null,
   "id": "9922ea54",
   "metadata": {},
   "outputs": [],
   "source": [
    "res2 <- predict(model_lrm2, test, type='response')\n",
    "tab2 <- table(Actualvalue = test$Churn, Predictedvalue=res2>0.5)\n",
    "print(tab2)"
   ]
  },
  {
   "cell_type": "code",
   "execution_count": null,
   "id": "26ddb22c",
   "metadata": {},
   "outputs": [],
   "source": [
    "paste(\"Accuracy:\", round((sum(diag(tab2))/sum(tab2))*100,2))"
   ]
  },
  {
   "cell_type": "code",
   "execution_count": null,
   "id": "10142f75",
   "metadata": {},
   "outputs": [],
   "source": [
    "### ROC Curve to assess the diagnostic performance of a test. (Logistic algorithm) by plotting TPRs and FPRs.###\n",
    "\n",
    "roc_object_lrm <- roc(response=test$Churn, predictor= factor(res, ordered = TRUE), plot=TRUE, xlab=\"False Positive\", ylab=\"True Positive\", lwd=4, col=\"#FF0000\",print.auc= TRUE)\n",
    "plot(roc_object_lrm)"
   ]
  },
  {
   "cell_type": "markdown",
   "id": "e859c573",
   "metadata": {},
   "source": [
    "#By variating the ROC score we find out thar at 0.5 is the value where we are getting better accuracy. "
   ]
  },
  {
   "cell_type": "markdown",
   "id": "fb9f53f1",
   "metadata": {},
   "source": [
    "#Decision Tree implementation."
   ]
  },
  {
   "cell_type": "code",
   "execution_count": null,
   "id": "68866793",
   "metadata": {},
   "outputs": [],
   "source": [
    "model_dt <- rpart(Churn~. ,  data = train)\n",
    "model_dt"
   ]
  },
  {
   "cell_type": "code",
   "execution_count": null,
   "id": "65e80a8c",
   "metadata": {},
   "outputs": [],
   "source": [
    "### Plotting the tree and margin is used to adjust the size of the plot, for viewing label we used text function. ###\n",
    "plot(model_dt, margin = 0.1)\n",
    "text(model_dt, use.n=TRUE, pretty=TRUE, cex =0.8)"
   ]
  },
  {
   "cell_type": "code",
   "execution_count": null,
   "id": "903461fd",
   "metadata": {},
   "outputs": [],
   "source": [
    "pred_dt<- predict(model_dt, test)\n",
    "pred_dt"
   ]
  },
  {
   "cell_type": "code",
   "execution_count": null,
   "id": "59ac377d",
   "metadata": {},
   "outputs": [],
   "source": [
    "#### Table for Actual and Predicted values are created. ###\n",
    "\n",
    "library(caret)\n",
    "library(tidyverse)\n",
    "tab_dt = table(test$Churn, pred_dt)\n",
    "tab_dt"
   ]
  },
  {
   "cell_type": "code",
   "execution_count": null,
   "id": "96033fc4",
   "metadata": {},
   "outputs": [],
   "source": [
    "paste(\"Accuracy:\", round((sum(diag(tab_dt))/sum(tab_dt))*100,2))"
   ]
  },
  {
   "cell_type": "markdown",
   "id": "4d5fb9ae",
   "metadata": {},
   "source": [
    "#Accuracy for Decision Tree is 44.2%\n",
    "#WORST PERFORMANCE."
   ]
  },
  {
   "cell_type": "code",
   "execution_count": null,
   "id": "8f5d57f8",
   "metadata": {},
   "outputs": [],
   "source": [
    "### ROC Curve to assess the diagnostic performance of a test. (Support Vector Machine) by plotting TPRs and FPRs.###\n",
    "\n",
    "roc_object_svm <- roc(response=test$Churn, predictor= factor(pred_dt, ordered = TRUE), plot=TRUE, xlab=\"False Positive\", ylab=\"True Positive\", lwd=4, col=\"#0d8bfc\",print.auc= TRUE)\n",
    "plot(roc_object_svm)"
   ]
  },
  {
   "cell_type": "markdown",
   "id": "02589e21",
   "metadata": {},
   "source": [
    "#Support Vector Implementation."
   ]
  },
  {
   "cell_type": "code",
   "execution_count": null,
   "id": "27cfc20e",
   "metadata": {},
   "outputs": [],
   "source": [
    "### Support Vector Implementation. ###\n",
    "library(e1071)\n",
    "model_svm = svm(formula = Churn ~ ., data = train, kernel = 'linear')\n",
    "summary(model_svm)"
   ]
  },
  {
   "cell_type": "code",
   "execution_count": null,
   "id": "494eb78f",
   "metadata": {},
   "outputs": [],
   "source": [
    "pred_svm = predict(model_svm, newdata = test)\n",
    "tab_svm <- table(Actualvalue = test$Churn, Predictedvalue=pred_svm)\n",
    "print(tab_svm)"
   ]
  },
  {
   "cell_type": "code",
   "execution_count": null,
   "id": "2e0b9ada",
   "metadata": {},
   "outputs": [],
   "source": [
    "paste(\"Accuracy:\", round((sum(diag(tab_dt))/sum(tab_svm))*100,2))"
   ]
  },
  {
   "cell_type": "markdown",
   "id": "5b3b5887",
   "metadata": {},
   "source": [
    "###Support Vector Machine is giving accuracy of 44.2%.\n",
    "#WORST PERFORMANCE."
   ]
  },
  {
   "cell_type": "code",
   "execution_count": null,
   "id": "1740f023",
   "metadata": {},
   "outputs": [],
   "source": [
    "### ROC Curve to assess the diagnostic performance of a test. (Support Vector Machine) by plotting TPRs and FPRs.###\n",
    "\n",
    "roc_object_svm <- roc(response=test$Churn, predictor= factor(pred_svm, ordered = TRUE), plot=TRUE, xlab=\"False Positive\", ylab=\"True Positive\", lwd=4, col=\"#400dfc\",print.auc= TRUE)\n",
    "plot(roc_object_svm)"
   ]
  },
  {
   "cell_type": "code",
   "execution_count": null,
   "id": "470be29b",
   "metadata": {},
   "outputs": [],
   "source": []
  }
 ],
 "metadata": {
  "kernelspec": {
   "display_name": "R 4.2.1",
   "language": "R",
   "name": "ir42"
  },
  "language_info": {
   "codemirror_mode": "r",
   "file_extension": ".r",
   "mimetype": "text/x-r-source",
   "name": "R",
   "pygments_lexer": "r",
   "version": "4.2.1"
  }
 },
 "nbformat": 4,
 "nbformat_minor": 5
}
