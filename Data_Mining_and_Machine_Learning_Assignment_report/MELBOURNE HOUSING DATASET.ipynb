{
 "cells": [
  {
   "cell_type": "markdown",
   "id": "ffbd02c5",
   "metadata": {},
   "source": [
    "# To predict the house type based on region, size, rooms, seller, pricing and other factors"
   ]
  },
  {
   "cell_type": "code",
   "execution_count": 1,
   "id": "83795c32",
   "metadata": {},
   "outputs": [
    {
     "name": "stderr",
     "output_type": "stream",
     "text": [
      "Loaded gbm 2.1.5\n",
      "Loading required package: Matrix\n",
      "Warning message:\n",
      "\"package 'Matrix' was built under R version 3.6.3\"Loading required package: foreach\n",
      "Loaded glmnet 2.0-16\n",
      "\n",
      "Warning message:\n",
      "\"package 'gridExtra' was built under R version 3.6.3\"Warning message:\n",
      "\"package 'nnet' was built under R version 3.6.3\"corrplot 0.92 loaded\n",
      "Warning message:\n",
      "\"package 'e1071' was built under R version 3.6.3\"Warning message:\n",
      "\"package 'Metrics' was built under R version 3.6.3\"\n",
      "Attaching package: 'Metrics'\n",
      "\n",
      "The following object is masked from 'package:glmnet':\n",
      "\n",
      "    auc\n",
      "\n"
     ]
    }
   ],
   "source": [
    "### Library used.\n",
    "library(gbm)\n",
    "library(glmnet)\n",
    "library(gridExtra)\n",
    "library(rpart)\n",
    "library(nnet)\n",
    "library(corrplot)\n",
    "library(e1071)\n",
    "library(Metrics)"
   ]
  },
  {
   "cell_type": "code",
   "execution_count": 1,
   "id": "705d09bf",
   "metadata": {},
   "outputs": [
    {
     "data": {
      "text/html": [
       "<table class=\"dataframe\">\n",
       "<caption>A data.frame: 6 × 21</caption>\n",
       "<thead>\n",
       "\t<tr><th></th><th scope=col>Suburb</th><th scope=col>Address</th><th scope=col>Rooms</th><th scope=col>Type</th><th scope=col>Price</th><th scope=col>Method</th><th scope=col>SellerG</th><th scope=col>Date</th><th scope=col>Distance</th><th scope=col>Postcode</th><th scope=col>⋯</th><th scope=col>Bathroom</th><th scope=col>Car</th><th scope=col>Landsize</th><th scope=col>BuildingArea</th><th scope=col>YearBuilt</th><th scope=col>CouncilArea</th><th scope=col>Lattitude</th><th scope=col>Longtitude</th><th scope=col>Regionname</th><th scope=col>Propertycount</th></tr>\n",
       "\t<tr><th></th><th scope=col>&lt;chr&gt;</th><th scope=col>&lt;chr&gt;</th><th scope=col>&lt;int&gt;</th><th scope=col>&lt;chr&gt;</th><th scope=col>&lt;int&gt;</th><th scope=col>&lt;chr&gt;</th><th scope=col>&lt;chr&gt;</th><th scope=col>&lt;chr&gt;</th><th scope=col>&lt;chr&gt;</th><th scope=col>&lt;chr&gt;</th><th scope=col>⋯</th><th scope=col>&lt;int&gt;</th><th scope=col>&lt;int&gt;</th><th scope=col>&lt;int&gt;</th><th scope=col>&lt;dbl&gt;</th><th scope=col>&lt;int&gt;</th><th scope=col>&lt;chr&gt;</th><th scope=col>&lt;dbl&gt;</th><th scope=col>&lt;dbl&gt;</th><th scope=col>&lt;chr&gt;</th><th scope=col>&lt;chr&gt;</th></tr>\n",
       "</thead>\n",
       "<tbody>\n",
       "\t<tr><th scope=row>1</th><td>Abbotsford</td><td>68 Studley St     </td><td>2</td><td>h</td><td>     NA</td><td>SS</td><td>Jellis</td><td>3/09/2016</td><td>2.5</td><td>3067</td><td>⋯</td><td>1</td><td>1</td><td>126</td><td> NA</td><td>  NA</td><td>Yarra City Council</td><td>-37.8014</td><td>144.9958</td><td>Northern Metropolitan</td><td>4019</td></tr>\n",
       "\t<tr><th scope=row>2</th><td>Abbotsford</td><td>85 Turner St      </td><td>2</td><td>h</td><td>1480000</td><td>S </td><td>Biggin</td><td>3/12/2016</td><td>2.5</td><td>3067</td><td>⋯</td><td>1</td><td>1</td><td>202</td><td> NA</td><td>  NA</td><td>Yarra City Council</td><td>-37.7996</td><td>144.9984</td><td>Northern Metropolitan</td><td>4019</td></tr>\n",
       "\t<tr><th scope=row>3</th><td>Abbotsford</td><td>25 Bloomburg St   </td><td>2</td><td>h</td><td>1035000</td><td>S </td><td>Biggin</td><td>4/02/2016</td><td>2.5</td><td>3067</td><td>⋯</td><td>1</td><td>0</td><td>156</td><td> 79</td><td>1900</td><td>Yarra City Council</td><td>-37.8079</td><td>144.9934</td><td>Northern Metropolitan</td><td>4019</td></tr>\n",
       "\t<tr><th scope=row>4</th><td>Abbotsford</td><td>18/659 Victoria St</td><td>3</td><td>u</td><td>     NA</td><td>VB</td><td>Rounds</td><td>4/02/2016</td><td>2.5</td><td>3067</td><td>⋯</td><td>2</td><td>1</td><td>  0</td><td> NA</td><td>  NA</td><td>Yarra City Council</td><td>-37.8114</td><td>145.0116</td><td>Northern Metropolitan</td><td>4019</td></tr>\n",
       "\t<tr><th scope=row>5</th><td>Abbotsford</td><td>5 Charles St      </td><td>3</td><td>h</td><td>1465000</td><td>SP</td><td>Biggin</td><td>4/03/2017</td><td>2.5</td><td>3067</td><td>⋯</td><td>2</td><td>0</td><td>134</td><td>150</td><td>1900</td><td>Yarra City Council</td><td>-37.8093</td><td>144.9944</td><td>Northern Metropolitan</td><td>4019</td></tr>\n",
       "\t<tr><th scope=row>6</th><td>Abbotsford</td><td>40 Federation La  </td><td>3</td><td>h</td><td> 850000</td><td>PI</td><td>Biggin</td><td>4/03/2017</td><td>2.5</td><td>3067</td><td>⋯</td><td>2</td><td>1</td><td> 94</td><td> NA</td><td>  NA</td><td>Yarra City Council</td><td>-37.7969</td><td>144.9969</td><td>Northern Metropolitan</td><td>4019</td></tr>\n",
       "</tbody>\n",
       "</table>\n"
      ],
      "text/latex": [
       "A data.frame: 6 × 21\n",
       "\\begin{tabular}{r|lllllllllllllllllllll}\n",
       "  & Suburb & Address & Rooms & Type & Price & Method & SellerG & Date & Distance & Postcode & ⋯ & Bathroom & Car & Landsize & BuildingArea & YearBuilt & CouncilArea & Lattitude & Longtitude & Regionname & Propertycount\\\\\n",
       "  & <chr> & <chr> & <int> & <chr> & <int> & <chr> & <chr> & <chr> & <chr> & <chr> & ⋯ & <int> & <int> & <int> & <dbl> & <int> & <chr> & <dbl> & <dbl> & <chr> & <chr>\\\\\n",
       "\\hline\n",
       "\t1 & Abbotsford & 68 Studley St      & 2 & h &      NA & SS & Jellis & 3/09/2016 & 2.5 & 3067 & ⋯ & 1 & 1 & 126 &  NA &   NA & Yarra City Council & -37.8014 & 144.9958 & Northern Metropolitan & 4019\\\\\n",
       "\t2 & Abbotsford & 85 Turner St       & 2 & h & 1480000 & S  & Biggin & 3/12/2016 & 2.5 & 3067 & ⋯ & 1 & 1 & 202 &  NA &   NA & Yarra City Council & -37.7996 & 144.9984 & Northern Metropolitan & 4019\\\\\n",
       "\t3 & Abbotsford & 25 Bloomburg St    & 2 & h & 1035000 & S  & Biggin & 4/02/2016 & 2.5 & 3067 & ⋯ & 1 & 0 & 156 &  79 & 1900 & Yarra City Council & -37.8079 & 144.9934 & Northern Metropolitan & 4019\\\\\n",
       "\t4 & Abbotsford & 18/659 Victoria St & 3 & u &      NA & VB & Rounds & 4/02/2016 & 2.5 & 3067 & ⋯ & 2 & 1 &   0 &  NA &   NA & Yarra City Council & -37.8114 & 145.0116 & Northern Metropolitan & 4019\\\\\n",
       "\t5 & Abbotsford & 5 Charles St       & 3 & h & 1465000 & SP & Biggin & 4/03/2017 & 2.5 & 3067 & ⋯ & 2 & 0 & 134 & 150 & 1900 & Yarra City Council & -37.8093 & 144.9944 & Northern Metropolitan & 4019\\\\\n",
       "\t6 & Abbotsford & 40 Federation La   & 3 & h &  850000 & PI & Biggin & 4/03/2017 & 2.5 & 3067 & ⋯ & 2 & 1 &  94 &  NA &   NA & Yarra City Council & -37.7969 & 144.9969 & Northern Metropolitan & 4019\\\\\n",
       "\\end{tabular}\n"
      ],
      "text/markdown": [
       "\n",
       "A data.frame: 6 × 21\n",
       "\n",
       "| <!--/--> | Suburb &lt;chr&gt; | Address &lt;chr&gt; | Rooms &lt;int&gt; | Type &lt;chr&gt; | Price &lt;int&gt; | Method &lt;chr&gt; | SellerG &lt;chr&gt; | Date &lt;chr&gt; | Distance &lt;chr&gt; | Postcode &lt;chr&gt; | ⋯ ⋯ | Bathroom &lt;int&gt; | Car &lt;int&gt; | Landsize &lt;int&gt; | BuildingArea &lt;dbl&gt; | YearBuilt &lt;int&gt; | CouncilArea &lt;chr&gt; | Lattitude &lt;dbl&gt; | Longtitude &lt;dbl&gt; | Regionname &lt;chr&gt; | Propertycount &lt;chr&gt; |\n",
       "|---|---|---|---|---|---|---|---|---|---|---|---|---|---|---|---|---|---|---|---|---|---|\n",
       "| 1 | Abbotsford | 68 Studley St      | 2 | h |      NA | SS | Jellis | 3/09/2016 | 2.5 | 3067 | ⋯ | 1 | 1 | 126 |  NA |   NA | Yarra City Council | -37.8014 | 144.9958 | Northern Metropolitan | 4019 |\n",
       "| 2 | Abbotsford | 85 Turner St       | 2 | h | 1480000 | S  | Biggin | 3/12/2016 | 2.5 | 3067 | ⋯ | 1 | 1 | 202 |  NA |   NA | Yarra City Council | -37.7996 | 144.9984 | Northern Metropolitan | 4019 |\n",
       "| 3 | Abbotsford | 25 Bloomburg St    | 2 | h | 1035000 | S  | Biggin | 4/02/2016 | 2.5 | 3067 | ⋯ | 1 | 0 | 156 |  79 | 1900 | Yarra City Council | -37.8079 | 144.9934 | Northern Metropolitan | 4019 |\n",
       "| 4 | Abbotsford | 18/659 Victoria St | 3 | u |      NA | VB | Rounds | 4/02/2016 | 2.5 | 3067 | ⋯ | 2 | 1 |   0 |  NA |   NA | Yarra City Council | -37.8114 | 145.0116 | Northern Metropolitan | 4019 |\n",
       "| 5 | Abbotsford | 5 Charles St       | 3 | h | 1465000 | SP | Biggin | 4/03/2017 | 2.5 | 3067 | ⋯ | 2 | 0 | 134 | 150 | 1900 | Yarra City Council | -37.8093 | 144.9944 | Northern Metropolitan | 4019 |\n",
       "| 6 | Abbotsford | 40 Federation La   | 3 | h |  850000 | PI | Biggin | 4/03/2017 | 2.5 | 3067 | ⋯ | 2 | 1 |  94 |  NA |   NA | Yarra City Council | -37.7969 | 144.9969 | Northern Metropolitan | 4019 |\n",
       "\n"
      ],
      "text/plain": [
       "  Suburb     Address            Rooms Type Price   Method SellerG Date     \n",
       "1 Abbotsford 68 Studley St      2     h         NA SS     Jellis  3/09/2016\n",
       "2 Abbotsford 85 Turner St       2     h    1480000 S      Biggin  3/12/2016\n",
       "3 Abbotsford 25 Bloomburg St    2     h    1035000 S      Biggin  4/02/2016\n",
       "4 Abbotsford 18/659 Victoria St 3     u         NA VB     Rounds  4/02/2016\n",
       "5 Abbotsford 5 Charles St       3     h    1465000 SP     Biggin  4/03/2017\n",
       "6 Abbotsford 40 Federation La   3     h     850000 PI     Biggin  4/03/2017\n",
       "  Distance Postcode ⋯ Bathroom Car Landsize BuildingArea YearBuilt\n",
       "1 2.5      3067     ⋯ 1        1   126       NA            NA     \n",
       "2 2.5      3067     ⋯ 1        1   202       NA            NA     \n",
       "3 2.5      3067     ⋯ 1        0   156       79          1900     \n",
       "4 2.5      3067     ⋯ 2        1     0       NA            NA     \n",
       "5 2.5      3067     ⋯ 2        0   134      150          1900     \n",
       "6 2.5      3067     ⋯ 2        1    94       NA            NA     \n",
       "  CouncilArea        Lattitude Longtitude Regionname            Propertycount\n",
       "1 Yarra City Council -37.8014  144.9958   Northern Metropolitan 4019         \n",
       "2 Yarra City Council -37.7996  144.9984   Northern Metropolitan 4019         \n",
       "3 Yarra City Council -37.8079  144.9934   Northern Metropolitan 4019         \n",
       "4 Yarra City Council -37.8114  145.0116   Northern Metropolitan 4019         \n",
       "5 Yarra City Council -37.8093  144.9944   Northern Metropolitan 4019         \n",
       "6 Yarra City Council -37.7969  144.9969   Northern Metropolitan 4019         "
      ]
     },
     "metadata": {},
     "output_type": "display_data"
    },
    {
     "name": "stdout",
     "output_type": "stream",
     "text": [
      "'data.frame':\t34857 obs. of  21 variables:\n",
      " $ Suburb       : chr  \"Abbotsford\" \"Abbotsford\" \"Abbotsford\" \"Abbotsford\" ...\n",
      " $ Address      : chr  \"68 Studley St\" \"85 Turner St\" \"25 Bloomburg St\" \"18/659 Victoria St\" ...\n",
      " $ Rooms        : int  2 2 2 3 3 3 4 4 2 2 ...\n",
      " $ Type         : chr  \"h\" \"h\" \"h\" \"u\" ...\n",
      " $ Price        : int  NA 1480000 1035000 NA 1465000 850000 1600000 NA NA NA ...\n",
      " $ Method       : chr  \"SS\" \"S\" \"S\" \"VB\" ...\n",
      " $ SellerG      : chr  \"Jellis\" \"Biggin\" \"Biggin\" \"Rounds\" ...\n",
      " $ Date         : chr  \"3/09/2016\" \"3/12/2016\" \"4/02/2016\" \"4/02/2016\" ...\n",
      " $ Distance     : chr  \"2.5\" \"2.5\" \"2.5\" \"2.5\" ...\n",
      " $ Postcode     : chr  \"3067\" \"3067\" \"3067\" \"3067\" ...\n",
      " $ Bedroom2     : int  2 2 2 3 3 3 3 3 4 3 ...\n",
      " $ Bathroom     : int  1 1 1 2 2 2 1 2 1 2 ...\n",
      " $ Car          : int  1 1 0 1 0 1 2 2 2 1 ...\n",
      " $ Landsize     : int  126 202 156 0 134 94 120 400 201 202 ...\n",
      " $ BuildingArea : num  NA NA 79 NA 150 NA 142 220 NA NA ...\n",
      " $ YearBuilt    : int  NA NA 1900 NA 1900 NA 2014 2006 1900 1900 ...\n",
      " $ CouncilArea  : chr  \"Yarra City Council\" \"Yarra City Council\" \"Yarra City Council\" \"Yarra City Council\" ...\n",
      " $ Lattitude    : num  -37.8 -37.8 -37.8 -37.8 -37.8 ...\n",
      " $ Longtitude   : num  145 145 145 145 145 ...\n",
      " $ Regionname   : chr  \"Northern Metropolitan\" \"Northern Metropolitan\" \"Northern Metropolitan\" \"Northern Metropolitan\" ...\n",
      " $ Propertycount: chr  \"4019\" \"4019\" \"4019\" \"4019\" ...\n"
     ]
    },
    {
     "data": {
      "text/html": [
       "<style>\n",
       ".list-inline {list-style: none; margin:0; padding: 0}\n",
       ".list-inline>li {display: inline-block}\n",
       ".list-inline>li:not(:last-child)::after {content: \"\\00b7\"; padding: 0 .5ex}\n",
       "</style>\n",
       "<ol class=list-inline><li>34857</li><li>21</li></ol>\n"
      ],
      "text/latex": [
       "\\begin{enumerate*}\n",
       "\\item 34857\n",
       "\\item 21\n",
       "\\end{enumerate*}\n"
      ],
      "text/markdown": [
       "1. 34857\n",
       "2. 21\n",
       "\n",
       "\n"
      ],
      "text/plain": [
       "[1] 34857    21"
      ]
     },
     "metadata": {},
     "output_type": "display_data"
    }
   ],
   "source": [
    "### Reading data set in csv file.###\n",
    "\n",
    "data = read.csv(\"E:/New folder/Melbourne_housing_FULL.csv\")\n",
    "head(data)\n",
    "str(data)\n",
    "dim(data)"
   ]
  },
  {
   "cell_type": "code",
   "execution_count": 3,
   "id": "e49f7e6e",
   "metadata": {},
   "outputs": [
    {
     "data": {
      "text/html": [
       "<dl class=dl-horizontal>\n",
       "\t<dt>Suburb</dt>\n",
       "\t\t<dd>0</dd>\n",
       "\t<dt>Address</dt>\n",
       "\t\t<dd>0</dd>\n",
       "\t<dt>Rooms</dt>\n",
       "\t\t<dd>0</dd>\n",
       "\t<dt>Type</dt>\n",
       "\t\t<dd>0</dd>\n",
       "\t<dt>Price</dt>\n",
       "\t\t<dd>7610</dd>\n",
       "\t<dt>Method</dt>\n",
       "\t\t<dd>0</dd>\n",
       "\t<dt>SellerG</dt>\n",
       "\t\t<dd>0</dd>\n",
       "\t<dt>Date</dt>\n",
       "\t\t<dd>0</dd>\n",
       "\t<dt>Distance</dt>\n",
       "\t\t<dd>0</dd>\n",
       "\t<dt>Postcode</dt>\n",
       "\t\t<dd>0</dd>\n",
       "\t<dt>Bedroom2</dt>\n",
       "\t\t<dd>8217</dd>\n",
       "\t<dt>Bathroom</dt>\n",
       "\t\t<dd>8226</dd>\n",
       "\t<dt>Car</dt>\n",
       "\t\t<dd>8728</dd>\n",
       "\t<dt>Landsize</dt>\n",
       "\t\t<dd>11810</dd>\n",
       "\t<dt>BuildingArea</dt>\n",
       "\t\t<dd>21115</dd>\n",
       "\t<dt>YearBuilt</dt>\n",
       "\t\t<dd>19306</dd>\n",
       "\t<dt>CouncilArea</dt>\n",
       "\t\t<dd>0</dd>\n",
       "\t<dt>Lattitude</dt>\n",
       "\t\t<dd>7976</dd>\n",
       "\t<dt>Longtitude</dt>\n",
       "\t\t<dd>7976</dd>\n",
       "\t<dt>Regionname</dt>\n",
       "\t\t<dd>0</dd>\n",
       "\t<dt>Propertycount</dt>\n",
       "\t\t<dd>0</dd>\n",
       "</dl>\n"
      ],
      "text/latex": [
       "\\begin{description*}\n",
       "\\item[Suburb] 0\n",
       "\\item[Address] 0\n",
       "\\item[Rooms] 0\n",
       "\\item[Type] 0\n",
       "\\item[Price] 7610\n",
       "\\item[Method] 0\n",
       "\\item[SellerG] 0\n",
       "\\item[Date] 0\n",
       "\\item[Distance] 0\n",
       "\\item[Postcode] 0\n",
       "\\item[Bedroom2] 8217\n",
       "\\item[Bathroom] 8226\n",
       "\\item[Car] 8728\n",
       "\\item[Landsize] 11810\n",
       "\\item[BuildingArea] 21115\n",
       "\\item[YearBuilt] 19306\n",
       "\\item[CouncilArea] 0\n",
       "\\item[Lattitude] 7976\n",
       "\\item[Longtitude] 7976\n",
       "\\item[Regionname] 0\n",
       "\\item[Propertycount] 0\n",
       "\\end{description*}\n"
      ],
      "text/markdown": [
       "Suburb\n",
       ":   0Address\n",
       ":   0Rooms\n",
       ":   0Type\n",
       ":   0Price\n",
       ":   7610Method\n",
       ":   0SellerG\n",
       ":   0Date\n",
       ":   0Distance\n",
       ":   0Postcode\n",
       ":   0Bedroom2\n",
       ":   8217Bathroom\n",
       ":   8226Car\n",
       ":   8728Landsize\n",
       ":   11810BuildingArea\n",
       ":   21115YearBuilt\n",
       ":   19306CouncilArea\n",
       ":   0Lattitude\n",
       ":   7976Longtitude\n",
       ":   7976Regionname\n",
       ":   0Propertycount\n",
       ":   0\n",
       "\n"
      ],
      "text/plain": [
       "       Suburb       Address         Rooms          Type         Price \n",
       "            0             0             0             0          7610 \n",
       "       Method       SellerG          Date      Distance      Postcode \n",
       "            0             0             0             0             0 \n",
       "     Bedroom2      Bathroom           Car      Landsize  BuildingArea \n",
       "         8217          8226          8728         11810         21115 \n",
       "    YearBuilt   CouncilArea     Lattitude    Longtitude    Regionname \n",
       "        19306             0          7976          7976             0 \n",
       "Propertycount \n",
       "            0 "
      ]
     },
     "metadata": {},
     "output_type": "display_data"
    }
   ],
   "source": [
    "#Cheking the presence of Null Values.\n",
    "\n",
    "sapply(data, function(x) sum(is.na(x)))"
   ]
  },
  {
   "cell_type": "markdown",
   "id": "377e8aa2",
   "metadata": {},
   "source": [
    "#We are removing columns with large number of NAN Values and unique nominal values.\n",
    "\n",
    "Address : It contains unique values\n",
    "Building Area : It contains nearly 50% Nan values\n",
    "Year Built : It contains nearly 50% Nan values\n",
    "Council Area : It contains more dan 100 nominal values\n",
    "Suburb : It contains more dan 100 nominal values\n",
    "SellerG : It contains more than 100 nominal values"
   ]
  },
  {
   "cell_type": "code",
   "execution_count": 4,
   "id": "667c539d",
   "metadata": {},
   "outputs": [
    {
     "data": {
      "text/html": [
       "<dl class=dl-horizontal>\n",
       "\t<dt>Suburb</dt>\n",
       "\t\t<dd>0</dd>\n",
       "\t<dt>Rooms</dt>\n",
       "\t\t<dd>0</dd>\n",
       "\t<dt>Type</dt>\n",
       "\t\t<dd>0</dd>\n",
       "\t<dt>Price</dt>\n",
       "\t\t<dd>7610</dd>\n",
       "\t<dt>Method</dt>\n",
       "\t\t<dd>0</dd>\n",
       "\t<dt>Date</dt>\n",
       "\t\t<dd>0</dd>\n",
       "\t<dt>Distance</dt>\n",
       "\t\t<dd>0</dd>\n",
       "\t<dt>Postcode</dt>\n",
       "\t\t<dd>0</dd>\n",
       "\t<dt>Bedroom2</dt>\n",
       "\t\t<dd>8217</dd>\n",
       "\t<dt>Bathroom</dt>\n",
       "\t\t<dd>8226</dd>\n",
       "\t<dt>Car</dt>\n",
       "\t\t<dd>8728</dd>\n",
       "\t<dt>Landsize</dt>\n",
       "\t\t<dd>11810</dd>\n",
       "\t<dt>Lattitude</dt>\n",
       "\t\t<dd>7976</dd>\n",
       "\t<dt>Longtitude</dt>\n",
       "\t\t<dd>7976</dd>\n",
       "\t<dt>Regionname</dt>\n",
       "\t\t<dd>0</dd>\n",
       "\t<dt>Propertycount</dt>\n",
       "\t\t<dd>0</dd>\n",
       "</dl>\n"
      ],
      "text/latex": [
       "\\begin{description*}\n",
       "\\item[Suburb] 0\n",
       "\\item[Rooms] 0\n",
       "\\item[Type] 0\n",
       "\\item[Price] 7610\n",
       "\\item[Method] 0\n",
       "\\item[Date] 0\n",
       "\\item[Distance] 0\n",
       "\\item[Postcode] 0\n",
       "\\item[Bedroom2] 8217\n",
       "\\item[Bathroom] 8226\n",
       "\\item[Car] 8728\n",
       "\\item[Landsize] 11810\n",
       "\\item[Lattitude] 7976\n",
       "\\item[Longtitude] 7976\n",
       "\\item[Regionname] 0\n",
       "\\item[Propertycount] 0\n",
       "\\end{description*}\n"
      ],
      "text/markdown": [
       "Suburb\n",
       ":   0Rooms\n",
       ":   0Type\n",
       ":   0Price\n",
       ":   7610Method\n",
       ":   0Date\n",
       ":   0Distance\n",
       ":   0Postcode\n",
       ":   0Bedroom2\n",
       ":   8217Bathroom\n",
       ":   8226Car\n",
       ":   8728Landsize\n",
       ":   11810Lattitude\n",
       ":   7976Longtitude\n",
       ":   7976Regionname\n",
       ":   0Propertycount\n",
       ":   0\n",
       "\n"
      ],
      "text/plain": [
       "       Suburb         Rooms          Type         Price        Method \n",
       "            0             0             0          7610             0 \n",
       "         Date      Distance      Postcode      Bedroom2      Bathroom \n",
       "            0             0             0          8217          8226 \n",
       "          Car      Landsize     Lattitude    Longtitude    Regionname \n",
       "         8728         11810          7976          7976             0 \n",
       "Propertycount \n",
       "            0 "
      ]
     },
     "metadata": {},
     "output_type": "display_data"
    }
   ],
   "source": [
    "###Removing unnecessary columns. ###\n",
    "\n",
    "cols_to_be_removed=c(\"Address\",\"BuildingArea\",\"YearBuilt\",\"CouncilArea\",\"Address\",\"SellerG\")\n",
    "data = data[,!(names(data) %in% cols_to_be_removed) ]\n",
    "sapply(data, function(x) sum(is.na(x)))"
   ]
  },
  {
   "cell_type": "markdown",
   "id": "0b798d0d",
   "metadata": {},
   "source": [
    "Following columns with missing values are replaced with mean values for better results.\n",
    "Price\n",
    "Bathroom\n",
    "Bedroom2\n",
    "Landsize"
   ]
  },
  {
   "cell_type": "code",
   "execution_count": 5,
   "id": "a0055cd1",
   "metadata": {},
   "outputs": [
    {
     "data": {
      "text/html": [
       "<table>\n",
       "<thead><tr><th scope=col>Suburb</th><th scope=col>Rooms</th><th scope=col>Type</th><th scope=col>Price</th><th scope=col>Method</th><th scope=col>Date</th><th scope=col>Distance</th><th scope=col>Postcode</th><th scope=col>Bedroom2</th><th scope=col>Bathroom</th><th scope=col>Car</th><th scope=col>Landsize</th><th scope=col>Lattitude</th><th scope=col>Longtitude</th><th scope=col>Regionname</th><th scope=col>Propertycount</th></tr></thead>\n",
       "<tbody>\n",
       "\t<tr><td>Abbotsford           </td><td>2                    </td><td>h                    </td><td>1050173              </td><td>SS                   </td><td>3/09/2016            </td><td>2.5                  </td><td>3067                 </td><td>2.000000             </td><td>1.000000             </td><td> 1                   </td><td> 126.000             </td><td>-37.80140            </td><td>144.9958             </td><td>Northern Metropolitan</td><td>4019                 </td></tr>\n",
       "\t<tr><td>Abbotsford           </td><td>2                    </td><td>h                    </td><td>1480000              </td><td>S                    </td><td>3/12/2016            </td><td>2.5                  </td><td>3067                 </td><td>2.000000             </td><td>1.000000             </td><td> 1                   </td><td> 202.000             </td><td>-37.79960            </td><td>144.9984             </td><td>Northern Metropolitan</td><td>4019                 </td></tr>\n",
       "\t<tr><td>Abbotsford           </td><td>2                    </td><td>h                    </td><td>1035000              </td><td>S                    </td><td>4/02/2016            </td><td>2.5                  </td><td>3067                 </td><td>2.000000             </td><td>1.000000             </td><td> 0                   </td><td> 156.000             </td><td>-37.80790            </td><td>144.9934             </td><td>Northern Metropolitan</td><td>4019                 </td></tr>\n",
       "\t<tr><td>Abbotsford           </td><td>3                    </td><td>u                    </td><td>1050173              </td><td>VB                   </td><td>4/02/2016            </td><td>2.5                  </td><td>3067                 </td><td>3.000000             </td><td>2.000000             </td><td> 1                   </td><td>   0.000             </td><td>-37.81140            </td><td>145.0116             </td><td>Northern Metropolitan</td><td>4019                 </td></tr>\n",
       "\t<tr><td>Abbotsford           </td><td>3                    </td><td>h                    </td><td>1465000              </td><td>SP                   </td><td>4/03/2017            </td><td>2.5                  </td><td>3067                 </td><td>3.000000             </td><td>2.000000             </td><td> 0                   </td><td> 134.000             </td><td>-37.80930            </td><td>144.9944             </td><td>Northern Metropolitan</td><td>4019                 </td></tr>\n",
       "\t<tr><td>Abbotsford           </td><td>3                    </td><td>h                    </td><td> 850000              </td><td>PI                   </td><td>4/03/2017            </td><td>2.5                  </td><td>3067                 </td><td>3.000000             </td><td>2.000000             </td><td> 1                   </td><td>  94.000             </td><td>-37.79690            </td><td>144.9969             </td><td>Northern Metropolitan</td><td>4019                 </td></tr>\n",
       "\t<tr><td>Abbotsford           </td><td>4                    </td><td>h                    </td><td>1600000              </td><td>VB                   </td><td>4/06/2016            </td><td>2.5                  </td><td>3067                 </td><td>3.000000             </td><td>1.000000             </td><td> 2                   </td><td> 120.000             </td><td>-37.80720            </td><td>144.9941             </td><td>Northern Metropolitan</td><td>4019                 </td></tr>\n",
       "\t<tr><td>Abbotsford           </td><td>4                    </td><td>h                    </td><td>1050173              </td><td>SN                   </td><td>6/08/2016            </td><td>2.5                  </td><td>3067                 </td><td>3.000000             </td><td>2.000000             </td><td> 2                   </td><td> 400.000             </td><td>-37.79650            </td><td>144.9965             </td><td>Northern Metropolitan</td><td>4019                 </td></tr>\n",
       "\t<tr><td>Abbotsford           </td><td>2                    </td><td>h                    </td><td>1050173              </td><td>S                    </td><td>6/08/2016            </td><td>2.5                  </td><td>3067                 </td><td>4.000000             </td><td>1.000000             </td><td> 2                   </td><td> 201.000             </td><td>-37.79950            </td><td>144.9974             </td><td>Northern Metropolitan</td><td>4019                 </td></tr>\n",
       "\t<tr><td>Abbotsford           </td><td>2                    </td><td>h                    </td><td>1050173              </td><td>S                    </td><td>6/08/2016            </td><td>2.5                  </td><td>3067                 </td><td>3.000000             </td><td>2.000000             </td><td> 1                   </td><td> 202.000             </td><td>-37.79960            </td><td>144.9989             </td><td>Northern Metropolitan</td><td>4019                 </td></tr>\n",
       "\t<tr><td>Abbotsford           </td><td>2                    </td><td>h                    </td><td> 941000              </td><td>S                    </td><td>7/05/2016            </td><td>2.5                  </td><td>3067                 </td><td>2.000000             </td><td>1.000000             </td><td> 0                   </td><td> 181.000             </td><td>-37.80410            </td><td>144.9953             </td><td>Northern Metropolitan</td><td>4019                 </td></tr>\n",
       "\t<tr><td>Abbotsford           </td><td>3                    </td><td>h                    </td><td>1876000              </td><td>S                    </td><td>7/05/2016            </td><td>2.5                  </td><td>3067                 </td><td>4.000000             </td><td>2.000000             </td><td> 0                   </td><td> 245.000             </td><td>-37.80240            </td><td>144.9993             </td><td>Northern Metropolitan</td><td>4019                 </td></tr>\n",
       "\t<tr><td>Abbotsford           </td><td>2                    </td><td>u                    </td><td>1050173              </td><td>PI                   </td><td>7/11/2016            </td><td>2.5                  </td><td>3067                 </td><td>2.000000             </td><td>2.000000             </td><td> 1                   </td><td>4292.000             </td><td>-37.80780            </td><td>144.9965             </td><td>Northern Metropolitan</td><td>4019                 </td></tr>\n",
       "\t<tr><td>Abbotsford           </td><td>4                    </td><td>h                    </td><td>1050173              </td><td>W                    </td><td>7/11/2016            </td><td>2.5                  </td><td>3067                 </td><td>6.000000             </td><td>2.000000             </td><td> 0                   </td><td> 230.000             </td><td>-37.80660            </td><td>144.9936             </td><td>Northern Metropolitan</td><td>4019                 </td></tr>\n",
       "\t<tr><td>Abbotsford           </td><td>2                    </td><td>h                    </td><td>1636000              </td><td>S                    </td><td>8/10/2016            </td><td>2.5                  </td><td>3067                 </td><td>2.000000             </td><td>1.000000             </td><td> 2                   </td><td> 256.000             </td><td>-37.80600            </td><td>144.9954             </td><td>Northern Metropolitan</td><td>4019                 </td></tr>\n",
       "\t<tr><td>Abbotsford           </td><td>3                    </td><td>h                    </td><td>1000000              </td><td>S                    </td><td>8/10/2016            </td><td>2.5                  </td><td>3067                 </td><td>3.084647             </td><td>1.624798             </td><td>NA                   </td><td> 593.599             </td><td>-37.81063            </td><td>145.0019             </td><td>Northern Metropolitan</td><td>4019                 </td></tr>\n",
       "\t<tr><td>Abbotsford           </td><td>2                    </td><td>t                    </td><td> 745000              </td><td>S                    </td><td>8/10/2016            </td><td>2.5                  </td><td>3067                 </td><td>3.084647             </td><td>1.624798             </td><td>NA                   </td><td> 593.599             </td><td>-37.81063            </td><td>145.0019             </td><td>Northern Metropolitan</td><td>4019                 </td></tr>\n",
       "\t<tr><td>Abbotsford           </td><td>1                    </td><td>u                    </td><td> 300000              </td><td>S                    </td><td>8/10/2016            </td><td>2.5                  </td><td>3067                 </td><td>1.000000             </td><td>1.000000             </td><td> 1                   </td><td>   0.000             </td><td>-37.80080            </td><td>144.9973             </td><td>Northern Metropolitan</td><td>4019                 </td></tr>\n",
       "\t<tr><td>Abbotsford           </td><td>2                    </td><td>h                    </td><td>1097000              </td><td>S                    </td><td>8/10/2016            </td><td>2.5                  </td><td>3067                 </td><td>3.000000             </td><td>1.000000             </td><td> 2                   </td><td> 220.000             </td><td>-37.80100            </td><td>144.9989             </td><td>Northern Metropolitan</td><td>4019                 </td></tr>\n",
       "\t<tr><td>Abbotsford           </td><td>2                    </td><td>u                    </td><td> 542000              </td><td>S                    </td><td>8/10/2016            </td><td>2.5                  </td><td>3067                 </td><td>3.084647             </td><td>1.624798             </td><td>NA                   </td><td> 593.599             </td><td>-37.81063            </td><td>145.0019             </td><td>Northern Metropolitan</td><td>4019                 </td></tr>\n",
       "\t<tr><td>Abbotsford           </td><td>2                    </td><td>h                    </td><td>1050173              </td><td>SP                   </td><td>10/12/2016           </td><td>2.5                  </td><td>3067                 </td><td>2.000000             </td><td>1.000000             </td><td> 1                   </td><td> 176.000             </td><td>-37.79980            </td><td>144.9972             </td><td>Northern Metropolitan</td><td>4019                 </td></tr>\n",
       "\t<tr><td>Abbotsford           </td><td>2                    </td><td>u                    </td><td> 760000              </td><td>SP                   </td><td>10/12/2016           </td><td>2.5                  </td><td>3067                 </td><td>3.084647             </td><td>1.624798             </td><td>NA                   </td><td> 593.599             </td><td>-37.81063            </td><td>145.0019             </td><td>Northern Metropolitan</td><td>4019                 </td></tr>\n",
       "\t<tr><td>Abbotsford           </td><td>1                    </td><td>u                    </td><td> 481000              </td><td>SP                   </td><td>10/12/2016           </td><td>2.5                  </td><td>3067                 </td><td>3.084647             </td><td>1.624798             </td><td>NA                   </td><td> 593.599             </td><td>-37.81063            </td><td>145.0019             </td><td>Northern Metropolitan</td><td>4019                 </td></tr>\n",
       "\t<tr><td>Abbotsford           </td><td>2                    </td><td>u                    </td><td> 700000              </td><td>VB                   </td><td>12/11/2016           </td><td>2.5                  </td><td>3067                 </td><td>2.000000             </td><td>2.000000             </td><td> 1                   </td><td>   0.000             </td><td>-37.81100            </td><td>145.0067             </td><td>Northern Metropolitan</td><td>4019                 </td></tr>\n",
       "\t<tr><td>Abbotsford           </td><td>3                    </td><td>h                    </td><td>1350000              </td><td>VB                   </td><td>12/11/2016           </td><td>2.5                  </td><td>3067                 </td><td>3.000000             </td><td>2.000000             </td><td> 2                   </td><td> 214.000             </td><td>-37.80850            </td><td>144.9964             </td><td>Northern Metropolitan</td><td>4019                 </td></tr>\n",
       "\t<tr><td>Abbotsford           </td><td>2                    </td><td>u                    </td><td> 750000              </td><td>S                    </td><td>12/11/2016           </td><td>2.5                  </td><td>3067                 </td><td>2.000000             </td><td>2.000000             </td><td> 1                   </td><td>   0.000             </td><td>-37.80780            </td><td>144.9965             </td><td>Northern Metropolitan</td><td>4019                 </td></tr>\n",
       "\t<tr><td>Abbotsford           </td><td>4                    </td><td>h                    </td><td>1985000              </td><td>S                    </td><td>12/11/2016           </td><td>2.5                  </td><td>3067                 </td><td>3.084647             </td><td>1.624798             </td><td>NA                   </td><td> 593.599             </td><td>-37.80840            </td><td>144.9942             </td><td>Northern Metropolitan</td><td>4019                 </td></tr>\n",
       "\t<tr><td>Abbotsford           </td><td>1                    </td><td>u                    </td><td> 500000              </td><td>S                    </td><td>12/11/2016           </td><td>2.5                  </td><td>3067                 </td><td>3.084647             </td><td>1.624798             </td><td>NA                   </td><td> 593.599             </td><td>-37.81063            </td><td>145.0019             </td><td>Northern Metropolitan</td><td>4019                 </td></tr>\n",
       "\t<tr><td>Abbotsford           </td><td>2                    </td><td>h                    </td><td>1172500              </td><td>S                    </td><td>13/08/2016           </td><td>2.5                  </td><td>3067                 </td><td>2.000000             </td><td>1.000000             </td><td> 1                   </td><td> 195.000             </td><td>-37.80840            </td><td>144.9973             </td><td>Northern Metropolitan</td><td>4019                 </td></tr>\n",
       "\t<tr><td>Abbotsford           </td><td>1                    </td><td>u                    </td><td> 441000              </td><td>SP                   </td><td>14/05/2016           </td><td>2.5                  </td><td>3067                 </td><td>1.000000             </td><td>1.000000             </td><td> 1                   </td><td>   0.000             </td><td>-37.80160            </td><td>144.9988             </td><td>Northern Metropolitan</td><td>4019                 </td></tr>\n",
       "\t<tr><td>...</td><td>...</td><td>...</td><td>...</td><td>...</td><td>...</td><td>...</td><td>...</td><td>...</td><td>...</td><td>...</td><td>...</td><td>...</td><td>...</td><td>...</td><td>...</td></tr>\n",
       "\t<tr><td>West Footscray            </td><td>4                         </td><td>h                         </td><td>1096000                   </td><td>S                         </td><td>24/02/2018                </td><td>6.4                       </td><td>3012                      </td><td>4.000000                  </td><td>1.000000                  </td><td> 3                        </td><td>368.000                   </td><td>-37.79152                 </td><td>144.8728                  </td><td>Western Metropolitan      </td><td>5058                      </td></tr>\n",
       "\t<tr><td>West Footscray            </td><td>3                         </td><td>h                         </td><td> 900000                   </td><td>PI                        </td><td>24/02/2018                </td><td>6.4                       </td><td>3012                      </td><td>3.000000                  </td><td>1.000000                  </td><td> 2                        </td><td>460.000                   </td><td>-37.80139                 </td><td>144.8646                  </td><td>Western Metropolitan      </td><td>5058                      </td></tr>\n",
       "\t<tr><td>West Melbourne            </td><td>3                         </td><td>u                         </td><td>1050173                   </td><td>S                         </td><td>24/02/2018                </td><td>3.1                       </td><td>3003                      </td><td>3.084647                  </td><td>1.624798                  </td><td>NA                        </td><td>593.599                   </td><td>-37.81063                 </td><td>145.0019                  </td><td>Northern Metropolitan     </td><td>2230                      </td></tr>\n",
       "\t<tr><td>West Melbourne            </td><td>3                         </td><td>t                         </td><td>1150000                   </td><td>S                         </td><td>24/02/2018                </td><td>3.1                       </td><td>3003                      </td><td>3.000000                  </td><td>2.000000                  </td><td> 2                        </td><td>678.000                   </td><td>-37.80787                 </td><td>144.9433                  </td><td>Northern Metropolitan     </td><td>2230                      </td></tr>\n",
       "\t<tr><td>Westmeadows               </td><td>4                         </td><td>h                         </td><td> 675000                   </td><td>S                         </td><td>24/02/2018                </td><td>16.5                      </td><td>3049                      </td><td>4.000000                  </td><td>2.000000                  </td><td> 5                        </td><td>560.000                   </td><td>-37.68089                 </td><td>144.8740                  </td><td>Northern Metropolitan     </td><td>2474                      </td></tr>\n",
       "\t<tr><td>Westmeadows               </td><td>4                         </td><td>u                         </td><td> 689000                   </td><td>S                         </td><td>24/02/2018                </td><td>16.5                      </td><td>3049                      </td><td>3.084647                  </td><td>1.624798                  </td><td>NA                        </td><td>593.599                   </td><td>-37.81063                 </td><td>145.0019                  </td><td>Northern Metropolitan     </td><td>2474                      </td></tr>\n",
       "\t<tr><td>Wheelers Hill             </td><td>4                         </td><td>h                         </td><td> 936000                   </td><td>S                         </td><td>24/02/2018                </td><td>16.7                      </td><td>3150                      </td><td>4.000000                  </td><td>2.000000                  </td><td> 2                        </td><td>770.000                   </td><td>-37.91637                 </td><td>145.1806                  </td><td>South-Eastern Metropolitan</td><td>7392                      </td></tr>\n",
       "\t<tr><td>Wheelers Hill             </td><td>4                         </td><td>h                         </td><td>1050173                   </td><td>PN                        </td><td>24/02/2018                </td><td>16.7                      </td><td>3150                      </td><td>4.000000                  </td><td>2.000000                  </td><td> 2                        </td><td>714.000                   </td><td>-37.90287                 </td><td>145.1901                  </td><td>South-Eastern Metropolitan</td><td>7392                      </td></tr>\n",
       "\t<tr><td>Wheelers Hill             </td><td>3                         </td><td>h                         </td><td>1050173                   </td><td>S                         </td><td>24/02/2018                </td><td>16.7                      </td><td>3150                      </td><td>3.000000                  </td><td>2.000000                  </td><td> 2                        </td><td>677.000                   </td><td>-37.91905                 </td><td>145.1910                  </td><td>South-Eastern Metropolitan</td><td>7392                      </td></tr>\n",
       "\t<tr><td>Wheelers Hill             </td><td>5                         </td><td>h                         </td><td>1400000                   </td><td>S                         </td><td>24/02/2018                </td><td>16.7                      </td><td>3150                      </td><td>5.000000                  </td><td>2.000000                  </td><td> 2                        </td><td>739.000                   </td><td>-37.89304                 </td><td>145.1848                  </td><td>South-Eastern Metropolitan</td><td>7392                      </td></tr>\n",
       "\t<tr><td>Williamstown              </td><td>5                         </td><td>h                         </td><td>2020000                   </td><td>S                         </td><td>24/02/2018                </td><td>6.8                       </td><td>3016                      </td><td>5.000000                  </td><td>3.000000                  </td><td> 2                        </td><td>450.000                   </td><td>-37.86180                 </td><td>144.8785                  </td><td>Western Metropolitan      </td><td>6380                      </td></tr>\n",
       "\t<tr><td>Williamstown              </td><td>2                         </td><td>u                         </td><td> 450000                   </td><td>SP                        </td><td>24/02/2018                </td><td>6.8                       </td><td>3016                      </td><td>3.084647                  </td><td>1.624798                  </td><td>NA                        </td><td>593.599                   </td><td>-37.81063                 </td><td>145.0019                  </td><td>Western Metropolitan      </td><td>6380                      </td></tr>\n",
       "\t<tr><td>Williamstown              </td><td>2                         </td><td>u                         </td><td> 475000                   </td><td>SP                        </td><td>24/02/2018                </td><td>6.8                       </td><td>3016                      </td><td>3.084647                  </td><td>1.624798                  </td><td>NA                        </td><td>593.599                   </td><td>-37.81063                 </td><td>145.0019                  </td><td>Western Metropolitan      </td><td>6380                      </td></tr>\n",
       "\t<tr><td>Williamstown              </td><td>2                         </td><td>u                         </td><td> 520000                   </td><td>VB                        </td><td>24/02/2018                </td><td>6.8                       </td><td>3016                      </td><td>3.084647                  </td><td>1.624798                  </td><td>NA                        </td><td>593.599                   </td><td>-37.81063                 </td><td>145.0019                  </td><td>Western Metropolitan      </td><td>6380                      </td></tr>\n",
       "\t<tr><td>Williamstown              </td><td>2                         </td><td>h                         </td><td> 940000                   </td><td>VB                        </td><td>24/02/2018                </td><td>6.8                       </td><td>3016                      </td><td>2.000000                  </td><td>2.000000                  </td><td> 1                        </td><td>122.000                   </td><td>-37.86396                 </td><td>144.9054                  </td><td>Western Metropolitan      </td><td>6380                      </td></tr>\n",
       "\t<tr><td>Williamstown              </td><td>3                         </td><td>h                         </td><td>1400000                   </td><td>SP                        </td><td>24/02/2018                </td><td>6.8                       </td><td>3016                      </td><td>3.000000                  </td><td>2.000000                  </td><td>NA                        </td><td>325.000                   </td><td>-37.86871                 </td><td>144.9012                  </td><td>Western Metropolitan      </td><td>6380                      </td></tr>\n",
       "\t<tr><td>Williamstown North        </td><td>3                         </td><td>h                         </td><td> 830000                   </td><td>S                         </td><td>24/02/2018                </td><td>6.8                       </td><td>3016                      </td><td>3.000000                  </td><td>1.000000                  </td><td> 2                        </td><td>345.000                   </td><td>-37.85545                 </td><td>144.8812                  </td><td>Western Metropolitan      </td><td>802                       </td></tr>\n",
       "\t<tr><td>Windsor                   </td><td>1                         </td><td>u                         </td><td> 440000                   </td><td>SP                        </td><td>24/02/2018                </td><td>4.6                       </td><td>3181                      </td><td>3.084647                  </td><td>1.624798                  </td><td>NA                        </td><td>593.599                   </td><td>-37.81063                 </td><td>145.0019                  </td><td>Southern Metropolitan     </td><td>4380                      </td></tr>\n",
       "\t<tr><td>Windsor                   </td><td>4                         </td><td>h                         </td><td>1050173                   </td><td>W                         </td><td>24/02/2018                </td><td>4.6                       </td><td>3181                      </td><td>4.000000                  </td><td>3.000000                  </td><td> 2                        </td><td>279.000                   </td><td>-37.85418                 </td><td>144.9970                  </td><td>Southern Metropolitan     </td><td>4380                      </td></tr>\n",
       "\t<tr><td>Wollert                   </td><td>4                         </td><td>h                         </td><td> 630000                   </td><td>SP                        </td><td>24/02/2018                </td><td>25.5                      </td><td>3750                      </td><td>4.000000                  </td><td>2.000000                  </td><td> 2                        </td><td>388.000                   </td><td>-37.60981                 </td><td>145.0413                  </td><td>Northern Metropolitan     </td><td>2940                      </td></tr>\n",
       "\t<tr><td>Wollert                   </td><td>3                         </td><td>h                         </td><td> 500000                   </td><td>PI                        </td><td>24/02/2018                </td><td>25.5                      </td><td>3750                      </td><td>3.000000                  </td><td>2.000000                  </td><td> 2                        </td><td>383.000                   </td><td>-37.61940                 </td><td>145.0395                  </td><td>Northern Metropolitan     </td><td>2940                      </td></tr>\n",
       "\t<tr><td>Wollert                   </td><td>4                         </td><td>h                         </td><td> 621000                   </td><td>S                         </td><td>24/02/2018                </td><td>25.5                      </td><td>3750                      </td><td>4.000000                  </td><td>2.000000                  </td><td> 2                        </td><td>375.000                   </td><td>-37.61331                 </td><td>145.0341                  </td><td>Northern Metropolitan     </td><td>2940                      </td></tr>\n",
       "\t<tr><td>Wollert                   </td><td>3                         </td><td>h                         </td><td> 570000                   </td><td>SP                        </td><td>24/02/2018                </td><td>25.5                      </td><td>3750                      </td><td>3.000000                  </td><td>2.000000                  </td><td> 2                        </td><td>404.000                   </td><td>-37.61031                 </td><td>145.0339                  </td><td>Northern Metropolitan     </td><td>2940                      </td></tr>\n",
       "\t<tr><td>Wollert                   </td><td>3                         </td><td>h                         </td><td>1050173                   </td><td>SP                        </td><td>24/02/2018                </td><td>25.5                      </td><td>3750                      </td><td>3.000000                  </td><td>2.000000                  </td><td> 2                        </td><td>268.000                   </td><td>-37.61094                 </td><td>145.0428                  </td><td>Northern Metropolitan     </td><td>2940                      </td></tr>\n",
       "\t<tr><td>Yarraville                </td><td>3                         </td><td>h                         </td><td>1101000                   </td><td>S                         </td><td>24/02/2018                </td><td>6.3                       </td><td>3013                      </td><td>3.000000                  </td><td>1.000000                  </td><td>NA                        </td><td>288.000                   </td><td>-37.81095                 </td><td>144.8852                  </td><td>Western Metropolitan      </td><td>6543                      </td></tr>\n",
       "\t<tr><td>Yarraville                </td><td>4                         </td><td>h                         </td><td>1480000                   </td><td>PI                        </td><td>24/02/2018                </td><td>6.3                       </td><td>3013                      </td><td>4.000000                  </td><td>1.000000                  </td><td> 3                        </td><td>593.000                   </td><td>-37.81053                 </td><td>144.8847                  </td><td>Western Metropolitan      </td><td>6543                      </td></tr>\n",
       "\t<tr><td>Yarraville                </td><td>2                         </td><td>h                         </td><td> 888000                   </td><td>SP                        </td><td>24/02/2018                </td><td>6.3                       </td><td>3013                      </td><td>2.000000                  </td><td>2.000000                  </td><td> 1                        </td><td> 98.000                   </td><td>-37.81551                 </td><td>144.8883                  </td><td>Western Metropolitan      </td><td>6543                      </td></tr>\n",
       "\t<tr><td>Yarraville                </td><td>2                         </td><td>t                         </td><td> 705000                   </td><td>S                         </td><td>24/02/2018                </td><td>6.3                       </td><td>3013                      </td><td>2.000000                  </td><td>1.000000                  </td><td> 2                        </td><td>220.000                   </td><td>-37.82286                 </td><td>144.8786                  </td><td>Western Metropolitan      </td><td>6543                      </td></tr>\n",
       "\t<tr><td>Yarraville                </td><td>3                         </td><td>h                         </td><td>1140000                   </td><td>SP                        </td><td>24/02/2018                </td><td>6.3                       </td><td>3013                      </td><td>3.084647                  </td><td>1.624798                  </td><td>NA                        </td><td>593.599                   </td><td>-37.81063                 </td><td>145.0019                  </td><td>Western Metropolitan      </td><td>6543                      </td></tr>\n",
       "\t<tr><td>Yarraville                </td><td>2                         </td><td>h                         </td><td>1020000                   </td><td>PI                        </td><td>24/02/2018                </td><td>6.3                       </td><td>3013                      </td><td>2.000000                  </td><td>1.000000                  </td><td> 0                        </td><td>250.000                   </td><td>-37.81810                 </td><td>144.8935                  </td><td>Western Metropolitan      </td><td>6543                      </td></tr>\n",
       "</tbody>\n",
       "</table>\n"
      ],
      "text/latex": [
       "\\begin{tabular}{r|llllllllllllllll}\n",
       " Suburb & Rooms & Type & Price & Method & Date & Distance & Postcode & Bedroom2 & Bathroom & Car & Landsize & Lattitude & Longtitude & Regionname & Propertycount\\\\\n",
       "\\hline\n",
       "\t Abbotsford            & 2                     & h                     & 1050173               & SS                    & 3/09/2016             & 2.5                   & 3067                  & 2.000000              & 1.000000              &  1                    &  126.000              & -37.80140             & 144.9958              & Northern Metropolitan & 4019                 \\\\\n",
       "\t Abbotsford            & 2                     & h                     & 1480000               & S                     & 3/12/2016             & 2.5                   & 3067                  & 2.000000              & 1.000000              &  1                    &  202.000              & -37.79960             & 144.9984              & Northern Metropolitan & 4019                 \\\\\n",
       "\t Abbotsford            & 2                     & h                     & 1035000               & S                     & 4/02/2016             & 2.5                   & 3067                  & 2.000000              & 1.000000              &  0                    &  156.000              & -37.80790             & 144.9934              & Northern Metropolitan & 4019                 \\\\\n",
       "\t Abbotsford            & 3                     & u                     & 1050173               & VB                    & 4/02/2016             & 2.5                   & 3067                  & 3.000000              & 2.000000              &  1                    &    0.000              & -37.81140             & 145.0116              & Northern Metropolitan & 4019                 \\\\\n",
       "\t Abbotsford            & 3                     & h                     & 1465000               & SP                    & 4/03/2017             & 2.5                   & 3067                  & 3.000000              & 2.000000              &  0                    &  134.000              & -37.80930             & 144.9944              & Northern Metropolitan & 4019                 \\\\\n",
       "\t Abbotsford            & 3                     & h                     &  850000               & PI                    & 4/03/2017             & 2.5                   & 3067                  & 3.000000              & 2.000000              &  1                    &   94.000              & -37.79690             & 144.9969              & Northern Metropolitan & 4019                 \\\\\n",
       "\t Abbotsford            & 4                     & h                     & 1600000               & VB                    & 4/06/2016             & 2.5                   & 3067                  & 3.000000              & 1.000000              &  2                    &  120.000              & -37.80720             & 144.9941              & Northern Metropolitan & 4019                 \\\\\n",
       "\t Abbotsford            & 4                     & h                     & 1050173               & SN                    & 6/08/2016             & 2.5                   & 3067                  & 3.000000              & 2.000000              &  2                    &  400.000              & -37.79650             & 144.9965              & Northern Metropolitan & 4019                 \\\\\n",
       "\t Abbotsford            & 2                     & h                     & 1050173               & S                     & 6/08/2016             & 2.5                   & 3067                  & 4.000000              & 1.000000              &  2                    &  201.000              & -37.79950             & 144.9974              & Northern Metropolitan & 4019                 \\\\\n",
       "\t Abbotsford            & 2                     & h                     & 1050173               & S                     & 6/08/2016             & 2.5                   & 3067                  & 3.000000              & 2.000000              &  1                    &  202.000              & -37.79960             & 144.9989              & Northern Metropolitan & 4019                 \\\\\n",
       "\t Abbotsford            & 2                     & h                     &  941000               & S                     & 7/05/2016             & 2.5                   & 3067                  & 2.000000              & 1.000000              &  0                    &  181.000              & -37.80410             & 144.9953              & Northern Metropolitan & 4019                 \\\\\n",
       "\t Abbotsford            & 3                     & h                     & 1876000               & S                     & 7/05/2016             & 2.5                   & 3067                  & 4.000000              & 2.000000              &  0                    &  245.000              & -37.80240             & 144.9993              & Northern Metropolitan & 4019                 \\\\\n",
       "\t Abbotsford            & 2                     & u                     & 1050173               & PI                    & 7/11/2016             & 2.5                   & 3067                  & 2.000000              & 2.000000              &  1                    & 4292.000              & -37.80780             & 144.9965              & Northern Metropolitan & 4019                 \\\\\n",
       "\t Abbotsford            & 4                     & h                     & 1050173               & W                     & 7/11/2016             & 2.5                   & 3067                  & 6.000000              & 2.000000              &  0                    &  230.000              & -37.80660             & 144.9936              & Northern Metropolitan & 4019                 \\\\\n",
       "\t Abbotsford            & 2                     & h                     & 1636000               & S                     & 8/10/2016             & 2.5                   & 3067                  & 2.000000              & 1.000000              &  2                    &  256.000              & -37.80600             & 144.9954              & Northern Metropolitan & 4019                 \\\\\n",
       "\t Abbotsford            & 3                     & h                     & 1000000               & S                     & 8/10/2016             & 2.5                   & 3067                  & 3.084647              & 1.624798              & NA                    &  593.599              & -37.81063             & 145.0019              & Northern Metropolitan & 4019                 \\\\\n",
       "\t Abbotsford            & 2                     & t                     &  745000               & S                     & 8/10/2016             & 2.5                   & 3067                  & 3.084647              & 1.624798              & NA                    &  593.599              & -37.81063             & 145.0019              & Northern Metropolitan & 4019                 \\\\\n",
       "\t Abbotsford            & 1                     & u                     &  300000               & S                     & 8/10/2016             & 2.5                   & 3067                  & 1.000000              & 1.000000              &  1                    &    0.000              & -37.80080             & 144.9973              & Northern Metropolitan & 4019                 \\\\\n",
       "\t Abbotsford            & 2                     & h                     & 1097000               & S                     & 8/10/2016             & 2.5                   & 3067                  & 3.000000              & 1.000000              &  2                    &  220.000              & -37.80100             & 144.9989              & Northern Metropolitan & 4019                 \\\\\n",
       "\t Abbotsford            & 2                     & u                     &  542000               & S                     & 8/10/2016             & 2.5                   & 3067                  & 3.084647              & 1.624798              & NA                    &  593.599              & -37.81063             & 145.0019              & Northern Metropolitan & 4019                 \\\\\n",
       "\t Abbotsford            & 2                     & h                     & 1050173               & SP                    & 10/12/2016            & 2.5                   & 3067                  & 2.000000              & 1.000000              &  1                    &  176.000              & -37.79980             & 144.9972              & Northern Metropolitan & 4019                 \\\\\n",
       "\t Abbotsford            & 2                     & u                     &  760000               & SP                    & 10/12/2016            & 2.5                   & 3067                  & 3.084647              & 1.624798              & NA                    &  593.599              & -37.81063             & 145.0019              & Northern Metropolitan & 4019                 \\\\\n",
       "\t Abbotsford            & 1                     & u                     &  481000               & SP                    & 10/12/2016            & 2.5                   & 3067                  & 3.084647              & 1.624798              & NA                    &  593.599              & -37.81063             & 145.0019              & Northern Metropolitan & 4019                 \\\\\n",
       "\t Abbotsford            & 2                     & u                     &  700000               & VB                    & 12/11/2016            & 2.5                   & 3067                  & 2.000000              & 2.000000              &  1                    &    0.000              & -37.81100             & 145.0067              & Northern Metropolitan & 4019                 \\\\\n",
       "\t Abbotsford            & 3                     & h                     & 1350000               & VB                    & 12/11/2016            & 2.5                   & 3067                  & 3.000000              & 2.000000              &  2                    &  214.000              & -37.80850             & 144.9964              & Northern Metropolitan & 4019                 \\\\\n",
       "\t Abbotsford            & 2                     & u                     &  750000               & S                     & 12/11/2016            & 2.5                   & 3067                  & 2.000000              & 2.000000              &  1                    &    0.000              & -37.80780             & 144.9965              & Northern Metropolitan & 4019                 \\\\\n",
       "\t Abbotsford            & 4                     & h                     & 1985000               & S                     & 12/11/2016            & 2.5                   & 3067                  & 3.084647              & 1.624798              & NA                    &  593.599              & -37.80840             & 144.9942              & Northern Metropolitan & 4019                 \\\\\n",
       "\t Abbotsford            & 1                     & u                     &  500000               & S                     & 12/11/2016            & 2.5                   & 3067                  & 3.084647              & 1.624798              & NA                    &  593.599              & -37.81063             & 145.0019              & Northern Metropolitan & 4019                 \\\\\n",
       "\t Abbotsford            & 2                     & h                     & 1172500               & S                     & 13/08/2016            & 2.5                   & 3067                  & 2.000000              & 1.000000              &  1                    &  195.000              & -37.80840             & 144.9973              & Northern Metropolitan & 4019                 \\\\\n",
       "\t Abbotsford            & 1                     & u                     &  441000               & SP                    & 14/05/2016            & 2.5                   & 3067                  & 1.000000              & 1.000000              &  1                    &    0.000              & -37.80160             & 144.9988              & Northern Metropolitan & 4019                 \\\\\n",
       "\t ... & ... & ... & ... & ... & ... & ... & ... & ... & ... & ... & ... & ... & ... & ... & ...\\\\\n",
       "\t West Footscray             & 4                          & h                          & 1096000                    & S                          & 24/02/2018                 & 6.4                        & 3012                       & 4.000000                   & 1.000000                   &  3                         & 368.000                    & -37.79152                  & 144.8728                   & Western Metropolitan       & 5058                      \\\\\n",
       "\t West Footscray             & 3                          & h                          &  900000                    & PI                         & 24/02/2018                 & 6.4                        & 3012                       & 3.000000                   & 1.000000                   &  2                         & 460.000                    & -37.80139                  & 144.8646                   & Western Metropolitan       & 5058                      \\\\\n",
       "\t West Melbourne             & 3                          & u                          & 1050173                    & S                          & 24/02/2018                 & 3.1                        & 3003                       & 3.084647                   & 1.624798                   & NA                         & 593.599                    & -37.81063                  & 145.0019                   & Northern Metropolitan      & 2230                      \\\\\n",
       "\t West Melbourne             & 3                          & t                          & 1150000                    & S                          & 24/02/2018                 & 3.1                        & 3003                       & 3.000000                   & 2.000000                   &  2                         & 678.000                    & -37.80787                  & 144.9433                   & Northern Metropolitan      & 2230                      \\\\\n",
       "\t Westmeadows                & 4                          & h                          &  675000                    & S                          & 24/02/2018                 & 16.5                       & 3049                       & 4.000000                   & 2.000000                   &  5                         & 560.000                    & -37.68089                  & 144.8740                   & Northern Metropolitan      & 2474                      \\\\\n",
       "\t Westmeadows                & 4                          & u                          &  689000                    & S                          & 24/02/2018                 & 16.5                       & 3049                       & 3.084647                   & 1.624798                   & NA                         & 593.599                    & -37.81063                  & 145.0019                   & Northern Metropolitan      & 2474                      \\\\\n",
       "\t Wheelers Hill              & 4                          & h                          &  936000                    & S                          & 24/02/2018                 & 16.7                       & 3150                       & 4.000000                   & 2.000000                   &  2                         & 770.000                    & -37.91637                  & 145.1806                   & South-Eastern Metropolitan & 7392                      \\\\\n",
       "\t Wheelers Hill              & 4                          & h                          & 1050173                    & PN                         & 24/02/2018                 & 16.7                       & 3150                       & 4.000000                   & 2.000000                   &  2                         & 714.000                    & -37.90287                  & 145.1901                   & South-Eastern Metropolitan & 7392                      \\\\\n",
       "\t Wheelers Hill              & 3                          & h                          & 1050173                    & S                          & 24/02/2018                 & 16.7                       & 3150                       & 3.000000                   & 2.000000                   &  2                         & 677.000                    & -37.91905                  & 145.1910                   & South-Eastern Metropolitan & 7392                      \\\\\n",
       "\t Wheelers Hill              & 5                          & h                          & 1400000                    & S                          & 24/02/2018                 & 16.7                       & 3150                       & 5.000000                   & 2.000000                   &  2                         & 739.000                    & -37.89304                  & 145.1848                   & South-Eastern Metropolitan & 7392                      \\\\\n",
       "\t Williamstown               & 5                          & h                          & 2020000                    & S                          & 24/02/2018                 & 6.8                        & 3016                       & 5.000000                   & 3.000000                   &  2                         & 450.000                    & -37.86180                  & 144.8785                   & Western Metropolitan       & 6380                      \\\\\n",
       "\t Williamstown               & 2                          & u                          &  450000                    & SP                         & 24/02/2018                 & 6.8                        & 3016                       & 3.084647                   & 1.624798                   & NA                         & 593.599                    & -37.81063                  & 145.0019                   & Western Metropolitan       & 6380                      \\\\\n",
       "\t Williamstown               & 2                          & u                          &  475000                    & SP                         & 24/02/2018                 & 6.8                        & 3016                       & 3.084647                   & 1.624798                   & NA                         & 593.599                    & -37.81063                  & 145.0019                   & Western Metropolitan       & 6380                      \\\\\n",
       "\t Williamstown               & 2                          & u                          &  520000                    & VB                         & 24/02/2018                 & 6.8                        & 3016                       & 3.084647                   & 1.624798                   & NA                         & 593.599                    & -37.81063                  & 145.0019                   & Western Metropolitan       & 6380                      \\\\\n",
       "\t Williamstown               & 2                          & h                          &  940000                    & VB                         & 24/02/2018                 & 6.8                        & 3016                       & 2.000000                   & 2.000000                   &  1                         & 122.000                    & -37.86396                  & 144.9054                   & Western Metropolitan       & 6380                      \\\\\n",
       "\t Williamstown               & 3                          & h                          & 1400000                    & SP                         & 24/02/2018                 & 6.8                        & 3016                       & 3.000000                   & 2.000000                   & NA                         & 325.000                    & -37.86871                  & 144.9012                   & Western Metropolitan       & 6380                      \\\\\n",
       "\t Williamstown North         & 3                          & h                          &  830000                    & S                          & 24/02/2018                 & 6.8                        & 3016                       & 3.000000                   & 1.000000                   &  2                         & 345.000                    & -37.85545                  & 144.8812                   & Western Metropolitan       & 802                       \\\\\n",
       "\t Windsor                    & 1                          & u                          &  440000                    & SP                         & 24/02/2018                 & 4.6                        & 3181                       & 3.084647                   & 1.624798                   & NA                         & 593.599                    & -37.81063                  & 145.0019                   & Southern Metropolitan      & 4380                      \\\\\n",
       "\t Windsor                    & 4                          & h                          & 1050173                    & W                          & 24/02/2018                 & 4.6                        & 3181                       & 4.000000                   & 3.000000                   &  2                         & 279.000                    & -37.85418                  & 144.9970                   & Southern Metropolitan      & 4380                      \\\\\n",
       "\t Wollert                    & 4                          & h                          &  630000                    & SP                         & 24/02/2018                 & 25.5                       & 3750                       & 4.000000                   & 2.000000                   &  2                         & 388.000                    & -37.60981                  & 145.0413                   & Northern Metropolitan      & 2940                      \\\\\n",
       "\t Wollert                    & 3                          & h                          &  500000                    & PI                         & 24/02/2018                 & 25.5                       & 3750                       & 3.000000                   & 2.000000                   &  2                         & 383.000                    & -37.61940                  & 145.0395                   & Northern Metropolitan      & 2940                      \\\\\n",
       "\t Wollert                    & 4                          & h                          &  621000                    & S                          & 24/02/2018                 & 25.5                       & 3750                       & 4.000000                   & 2.000000                   &  2                         & 375.000                    & -37.61331                  & 145.0341                   & Northern Metropolitan      & 2940                      \\\\\n",
       "\t Wollert                    & 3                          & h                          &  570000                    & SP                         & 24/02/2018                 & 25.5                       & 3750                       & 3.000000                   & 2.000000                   &  2                         & 404.000                    & -37.61031                  & 145.0339                   & Northern Metropolitan      & 2940                      \\\\\n",
       "\t Wollert                    & 3                          & h                          & 1050173                    & SP                         & 24/02/2018                 & 25.5                       & 3750                       & 3.000000                   & 2.000000                   &  2                         & 268.000                    & -37.61094                  & 145.0428                   & Northern Metropolitan      & 2940                      \\\\\n",
       "\t Yarraville                 & 3                          & h                          & 1101000                    & S                          & 24/02/2018                 & 6.3                        & 3013                       & 3.000000                   & 1.000000                   & NA                         & 288.000                    & -37.81095                  & 144.8852                   & Western Metropolitan       & 6543                      \\\\\n",
       "\t Yarraville                 & 4                          & h                          & 1480000                    & PI                         & 24/02/2018                 & 6.3                        & 3013                       & 4.000000                   & 1.000000                   &  3                         & 593.000                    & -37.81053                  & 144.8847                   & Western Metropolitan       & 6543                      \\\\\n",
       "\t Yarraville                 & 2                          & h                          &  888000                    & SP                         & 24/02/2018                 & 6.3                        & 3013                       & 2.000000                   & 2.000000                   &  1                         &  98.000                    & -37.81551                  & 144.8883                   & Western Metropolitan       & 6543                      \\\\\n",
       "\t Yarraville                 & 2                          & t                          &  705000                    & S                          & 24/02/2018                 & 6.3                        & 3013                       & 2.000000                   & 1.000000                   &  2                         & 220.000                    & -37.82286                  & 144.8786                   & Western Metropolitan       & 6543                      \\\\\n",
       "\t Yarraville                 & 3                          & h                          & 1140000                    & SP                         & 24/02/2018                 & 6.3                        & 3013                       & 3.084647                   & 1.624798                   & NA                         & 593.599                    & -37.81063                  & 145.0019                   & Western Metropolitan       & 6543                      \\\\\n",
       "\t Yarraville                 & 2                          & h                          & 1020000                    & PI                         & 24/02/2018                 & 6.3                        & 3013                       & 2.000000                   & 1.000000                   &  0                         & 250.000                    & -37.81810                  & 144.8935                   & Western Metropolitan       & 6543                      \\\\\n",
       "\\end{tabular}\n"
      ],
      "text/markdown": [
       "\n",
       "| Suburb | Rooms | Type | Price | Method | Date | Distance | Postcode | Bedroom2 | Bathroom | Car | Landsize | Lattitude | Longtitude | Regionname | Propertycount |\n",
       "|---|---|---|---|---|---|---|---|---|---|---|---|---|---|---|---|\n",
       "| Abbotsford            | 2                     | h                     | 1050173               | SS                    | 3/09/2016             | 2.5                   | 3067                  | 2.000000              | 1.000000              |  1                    |  126.000              | -37.80140             | 144.9958              | Northern Metropolitan | 4019                  |\n",
       "| Abbotsford            | 2                     | h                     | 1480000               | S                     | 3/12/2016             | 2.5                   | 3067                  | 2.000000              | 1.000000              |  1                    |  202.000              | -37.79960             | 144.9984              | Northern Metropolitan | 4019                  |\n",
       "| Abbotsford            | 2                     | h                     | 1035000               | S                     | 4/02/2016             | 2.5                   | 3067                  | 2.000000              | 1.000000              |  0                    |  156.000              | -37.80790             | 144.9934              | Northern Metropolitan | 4019                  |\n",
       "| Abbotsford            | 3                     | u                     | 1050173               | VB                    | 4/02/2016             | 2.5                   | 3067                  | 3.000000              | 2.000000              |  1                    |    0.000              | -37.81140             | 145.0116              | Northern Metropolitan | 4019                  |\n",
       "| Abbotsford            | 3                     | h                     | 1465000               | SP                    | 4/03/2017             | 2.5                   | 3067                  | 3.000000              | 2.000000              |  0                    |  134.000              | -37.80930             | 144.9944              | Northern Metropolitan | 4019                  |\n",
       "| Abbotsford            | 3                     | h                     |  850000               | PI                    | 4/03/2017             | 2.5                   | 3067                  | 3.000000              | 2.000000              |  1                    |   94.000              | -37.79690             | 144.9969              | Northern Metropolitan | 4019                  |\n",
       "| Abbotsford            | 4                     | h                     | 1600000               | VB                    | 4/06/2016             | 2.5                   | 3067                  | 3.000000              | 1.000000              |  2                    |  120.000              | -37.80720             | 144.9941              | Northern Metropolitan | 4019                  |\n",
       "| Abbotsford            | 4                     | h                     | 1050173               | SN                    | 6/08/2016             | 2.5                   | 3067                  | 3.000000              | 2.000000              |  2                    |  400.000              | -37.79650             | 144.9965              | Northern Metropolitan | 4019                  |\n",
       "| Abbotsford            | 2                     | h                     | 1050173               | S                     | 6/08/2016             | 2.5                   | 3067                  | 4.000000              | 1.000000              |  2                    |  201.000              | -37.79950             | 144.9974              | Northern Metropolitan | 4019                  |\n",
       "| Abbotsford            | 2                     | h                     | 1050173               | S                     | 6/08/2016             | 2.5                   | 3067                  | 3.000000              | 2.000000              |  1                    |  202.000              | -37.79960             | 144.9989              | Northern Metropolitan | 4019                  |\n",
       "| Abbotsford            | 2                     | h                     |  941000               | S                     | 7/05/2016             | 2.5                   | 3067                  | 2.000000              | 1.000000              |  0                    |  181.000              | -37.80410             | 144.9953              | Northern Metropolitan | 4019                  |\n",
       "| Abbotsford            | 3                     | h                     | 1876000               | S                     | 7/05/2016             | 2.5                   | 3067                  | 4.000000              | 2.000000              |  0                    |  245.000              | -37.80240             | 144.9993              | Northern Metropolitan | 4019                  |\n",
       "| Abbotsford            | 2                     | u                     | 1050173               | PI                    | 7/11/2016             | 2.5                   | 3067                  | 2.000000              | 2.000000              |  1                    | 4292.000              | -37.80780             | 144.9965              | Northern Metropolitan | 4019                  |\n",
       "| Abbotsford            | 4                     | h                     | 1050173               | W                     | 7/11/2016             | 2.5                   | 3067                  | 6.000000              | 2.000000              |  0                    |  230.000              | -37.80660             | 144.9936              | Northern Metropolitan | 4019                  |\n",
       "| Abbotsford            | 2                     | h                     | 1636000               | S                     | 8/10/2016             | 2.5                   | 3067                  | 2.000000              | 1.000000              |  2                    |  256.000              | -37.80600             | 144.9954              | Northern Metropolitan | 4019                  |\n",
       "| Abbotsford            | 3                     | h                     | 1000000               | S                     | 8/10/2016             | 2.5                   | 3067                  | 3.084647              | 1.624798              | NA                    |  593.599              | -37.81063             | 145.0019              | Northern Metropolitan | 4019                  |\n",
       "| Abbotsford            | 2                     | t                     |  745000               | S                     | 8/10/2016             | 2.5                   | 3067                  | 3.084647              | 1.624798              | NA                    |  593.599              | -37.81063             | 145.0019              | Northern Metropolitan | 4019                  |\n",
       "| Abbotsford            | 1                     | u                     |  300000               | S                     | 8/10/2016             | 2.5                   | 3067                  | 1.000000              | 1.000000              |  1                    |    0.000              | -37.80080             | 144.9973              | Northern Metropolitan | 4019                  |\n",
       "| Abbotsford            | 2                     | h                     | 1097000               | S                     | 8/10/2016             | 2.5                   | 3067                  | 3.000000              | 1.000000              |  2                    |  220.000              | -37.80100             | 144.9989              | Northern Metropolitan | 4019                  |\n",
       "| Abbotsford            | 2                     | u                     |  542000               | S                     | 8/10/2016             | 2.5                   | 3067                  | 3.084647              | 1.624798              | NA                    |  593.599              | -37.81063             | 145.0019              | Northern Metropolitan | 4019                  |\n",
       "| Abbotsford            | 2                     | h                     | 1050173               | SP                    | 10/12/2016            | 2.5                   | 3067                  | 2.000000              | 1.000000              |  1                    |  176.000              | -37.79980             | 144.9972              | Northern Metropolitan | 4019                  |\n",
       "| Abbotsford            | 2                     | u                     |  760000               | SP                    | 10/12/2016            | 2.5                   | 3067                  | 3.084647              | 1.624798              | NA                    |  593.599              | -37.81063             | 145.0019              | Northern Metropolitan | 4019                  |\n",
       "| Abbotsford            | 1                     | u                     |  481000               | SP                    | 10/12/2016            | 2.5                   | 3067                  | 3.084647              | 1.624798              | NA                    |  593.599              | -37.81063             | 145.0019              | Northern Metropolitan | 4019                  |\n",
       "| Abbotsford            | 2                     | u                     |  700000               | VB                    | 12/11/2016            | 2.5                   | 3067                  | 2.000000              | 2.000000              |  1                    |    0.000              | -37.81100             | 145.0067              | Northern Metropolitan | 4019                  |\n",
       "| Abbotsford            | 3                     | h                     | 1350000               | VB                    | 12/11/2016            | 2.5                   | 3067                  | 3.000000              | 2.000000              |  2                    |  214.000              | -37.80850             | 144.9964              | Northern Metropolitan | 4019                  |\n",
       "| Abbotsford            | 2                     | u                     |  750000               | S                     | 12/11/2016            | 2.5                   | 3067                  | 2.000000              | 2.000000              |  1                    |    0.000              | -37.80780             | 144.9965              | Northern Metropolitan | 4019                  |\n",
       "| Abbotsford            | 4                     | h                     | 1985000               | S                     | 12/11/2016            | 2.5                   | 3067                  | 3.084647              | 1.624798              | NA                    |  593.599              | -37.80840             | 144.9942              | Northern Metropolitan | 4019                  |\n",
       "| Abbotsford            | 1                     | u                     |  500000               | S                     | 12/11/2016            | 2.5                   | 3067                  | 3.084647              | 1.624798              | NA                    |  593.599              | -37.81063             | 145.0019              | Northern Metropolitan | 4019                  |\n",
       "| Abbotsford            | 2                     | h                     | 1172500               | S                     | 13/08/2016            | 2.5                   | 3067                  | 2.000000              | 1.000000              |  1                    |  195.000              | -37.80840             | 144.9973              | Northern Metropolitan | 4019                  |\n",
       "| Abbotsford            | 1                     | u                     |  441000               | SP                    | 14/05/2016            | 2.5                   | 3067                  | 1.000000              | 1.000000              |  1                    |    0.000              | -37.80160             | 144.9988              | Northern Metropolitan | 4019                  |\n",
       "| ... | ... | ... | ... | ... | ... | ... | ... | ... | ... | ... | ... | ... | ... | ... | ... |\n",
       "| West Footscray             | 4                          | h                          | 1096000                    | S                          | 24/02/2018                 | 6.4                        | 3012                       | 4.000000                   | 1.000000                   |  3                         | 368.000                    | -37.79152                  | 144.8728                   | Western Metropolitan       | 5058                       |\n",
       "| West Footscray             | 3                          | h                          |  900000                    | PI                         | 24/02/2018                 | 6.4                        | 3012                       | 3.000000                   | 1.000000                   |  2                         | 460.000                    | -37.80139                  | 144.8646                   | Western Metropolitan       | 5058                       |\n",
       "| West Melbourne             | 3                          | u                          | 1050173                    | S                          | 24/02/2018                 | 3.1                        | 3003                       | 3.084647                   | 1.624798                   | NA                         | 593.599                    | -37.81063                  | 145.0019                   | Northern Metropolitan      | 2230                       |\n",
       "| West Melbourne             | 3                          | t                          | 1150000                    | S                          | 24/02/2018                 | 3.1                        | 3003                       | 3.000000                   | 2.000000                   |  2                         | 678.000                    | -37.80787                  | 144.9433                   | Northern Metropolitan      | 2230                       |\n",
       "| Westmeadows                | 4                          | h                          |  675000                    | S                          | 24/02/2018                 | 16.5                       | 3049                       | 4.000000                   | 2.000000                   |  5                         | 560.000                    | -37.68089                  | 144.8740                   | Northern Metropolitan      | 2474                       |\n",
       "| Westmeadows                | 4                          | u                          |  689000                    | S                          | 24/02/2018                 | 16.5                       | 3049                       | 3.084647                   | 1.624798                   | NA                         | 593.599                    | -37.81063                  | 145.0019                   | Northern Metropolitan      | 2474                       |\n",
       "| Wheelers Hill              | 4                          | h                          |  936000                    | S                          | 24/02/2018                 | 16.7                       | 3150                       | 4.000000                   | 2.000000                   |  2                         | 770.000                    | -37.91637                  | 145.1806                   | South-Eastern Metropolitan | 7392                       |\n",
       "| Wheelers Hill              | 4                          | h                          | 1050173                    | PN                         | 24/02/2018                 | 16.7                       | 3150                       | 4.000000                   | 2.000000                   |  2                         | 714.000                    | -37.90287                  | 145.1901                   | South-Eastern Metropolitan | 7392                       |\n",
       "| Wheelers Hill              | 3                          | h                          | 1050173                    | S                          | 24/02/2018                 | 16.7                       | 3150                       | 3.000000                   | 2.000000                   |  2                         | 677.000                    | -37.91905                  | 145.1910                   | South-Eastern Metropolitan | 7392                       |\n",
       "| Wheelers Hill              | 5                          | h                          | 1400000                    | S                          | 24/02/2018                 | 16.7                       | 3150                       | 5.000000                   | 2.000000                   |  2                         | 739.000                    | -37.89304                  | 145.1848                   | South-Eastern Metropolitan | 7392                       |\n",
       "| Williamstown               | 5                          | h                          | 2020000                    | S                          | 24/02/2018                 | 6.8                        | 3016                       | 5.000000                   | 3.000000                   |  2                         | 450.000                    | -37.86180                  | 144.8785                   | Western Metropolitan       | 6380                       |\n",
       "| Williamstown               | 2                          | u                          |  450000                    | SP                         | 24/02/2018                 | 6.8                        | 3016                       | 3.084647                   | 1.624798                   | NA                         | 593.599                    | -37.81063                  | 145.0019                   | Western Metropolitan       | 6380                       |\n",
       "| Williamstown               | 2                          | u                          |  475000                    | SP                         | 24/02/2018                 | 6.8                        | 3016                       | 3.084647                   | 1.624798                   | NA                         | 593.599                    | -37.81063                  | 145.0019                   | Western Metropolitan       | 6380                       |\n",
       "| Williamstown               | 2                          | u                          |  520000                    | VB                         | 24/02/2018                 | 6.8                        | 3016                       | 3.084647                   | 1.624798                   | NA                         | 593.599                    | -37.81063                  | 145.0019                   | Western Metropolitan       | 6380                       |\n",
       "| Williamstown               | 2                          | h                          |  940000                    | VB                         | 24/02/2018                 | 6.8                        | 3016                       | 2.000000                   | 2.000000                   |  1                         | 122.000                    | -37.86396                  | 144.9054                   | Western Metropolitan       | 6380                       |\n",
       "| Williamstown               | 3                          | h                          | 1400000                    | SP                         | 24/02/2018                 | 6.8                        | 3016                       | 3.000000                   | 2.000000                   | NA                         | 325.000                    | -37.86871                  | 144.9012                   | Western Metropolitan       | 6380                       |\n",
       "| Williamstown North         | 3                          | h                          |  830000                    | S                          | 24/02/2018                 | 6.8                        | 3016                       | 3.000000                   | 1.000000                   |  2                         | 345.000                    | -37.85545                  | 144.8812                   | Western Metropolitan       | 802                        |\n",
       "| Windsor                    | 1                          | u                          |  440000                    | SP                         | 24/02/2018                 | 4.6                        | 3181                       | 3.084647                   | 1.624798                   | NA                         | 593.599                    | -37.81063                  | 145.0019                   | Southern Metropolitan      | 4380                       |\n",
       "| Windsor                    | 4                          | h                          | 1050173                    | W                          | 24/02/2018                 | 4.6                        | 3181                       | 4.000000                   | 3.000000                   |  2                         | 279.000                    | -37.85418                  | 144.9970                   | Southern Metropolitan      | 4380                       |\n",
       "| Wollert                    | 4                          | h                          |  630000                    | SP                         | 24/02/2018                 | 25.5                       | 3750                       | 4.000000                   | 2.000000                   |  2                         | 388.000                    | -37.60981                  | 145.0413                   | Northern Metropolitan      | 2940                       |\n",
       "| Wollert                    | 3                          | h                          |  500000                    | PI                         | 24/02/2018                 | 25.5                       | 3750                       | 3.000000                   | 2.000000                   |  2                         | 383.000                    | -37.61940                  | 145.0395                   | Northern Metropolitan      | 2940                       |\n",
       "| Wollert                    | 4                          | h                          |  621000                    | S                          | 24/02/2018                 | 25.5                       | 3750                       | 4.000000                   | 2.000000                   |  2                         | 375.000                    | -37.61331                  | 145.0341                   | Northern Metropolitan      | 2940                       |\n",
       "| Wollert                    | 3                          | h                          |  570000                    | SP                         | 24/02/2018                 | 25.5                       | 3750                       | 3.000000                   | 2.000000                   |  2                         | 404.000                    | -37.61031                  | 145.0339                   | Northern Metropolitan      | 2940                       |\n",
       "| Wollert                    | 3                          | h                          | 1050173                    | SP                         | 24/02/2018                 | 25.5                       | 3750                       | 3.000000                   | 2.000000                   |  2                         | 268.000                    | -37.61094                  | 145.0428                   | Northern Metropolitan      | 2940                       |\n",
       "| Yarraville                 | 3                          | h                          | 1101000                    | S                          | 24/02/2018                 | 6.3                        | 3013                       | 3.000000                   | 1.000000                   | NA                         | 288.000                    | -37.81095                  | 144.8852                   | Western Metropolitan       | 6543                       |\n",
       "| Yarraville                 | 4                          | h                          | 1480000                    | PI                         | 24/02/2018                 | 6.3                        | 3013                       | 4.000000                   | 1.000000                   |  3                         | 593.000                    | -37.81053                  | 144.8847                   | Western Metropolitan       | 6543                       |\n",
       "| Yarraville                 | 2                          | h                          |  888000                    | SP                         | 24/02/2018                 | 6.3                        | 3013                       | 2.000000                   | 2.000000                   |  1                         |  98.000                    | -37.81551                  | 144.8883                   | Western Metropolitan       | 6543                       |\n",
       "| Yarraville                 | 2                          | t                          |  705000                    | S                          | 24/02/2018                 | 6.3                        | 3013                       | 2.000000                   | 1.000000                   |  2                         | 220.000                    | -37.82286                  | 144.8786                   | Western Metropolitan       | 6543                       |\n",
       "| Yarraville                 | 3                          | h                          | 1140000                    | SP                         | 24/02/2018                 | 6.3                        | 3013                       | 3.084647                   | 1.624798                   | NA                         | 593.599                    | -37.81063                  | 145.0019                   | Western Metropolitan       | 6543                       |\n",
       "| Yarraville                 | 2                          | h                          | 1020000                    | PI                         | 24/02/2018                 | 6.3                        | 3013                       | 2.000000                   | 1.000000                   |  0                         | 250.000                    | -37.81810                  | 144.8935                   | Western Metropolitan       | 6543                       |\n",
       "\n"
      ],
      "text/plain": [
       "      Suburb             Rooms Type Price   Method Date       Distance Postcode\n",
       "1     Abbotsford         2     h    1050173 SS     3/09/2016  2.5      3067    \n",
       "2     Abbotsford         2     h    1480000 S      3/12/2016  2.5      3067    \n",
       "3     Abbotsford         2     h    1035000 S      4/02/2016  2.5      3067    \n",
       "4     Abbotsford         3     u    1050173 VB     4/02/2016  2.5      3067    \n",
       "5     Abbotsford         3     h    1465000 SP     4/03/2017  2.5      3067    \n",
       "6     Abbotsford         3     h     850000 PI     4/03/2017  2.5      3067    \n",
       "7     Abbotsford         4     h    1600000 VB     4/06/2016  2.5      3067    \n",
       "8     Abbotsford         4     h    1050173 SN     6/08/2016  2.5      3067    \n",
       "9     Abbotsford         2     h    1050173 S      6/08/2016  2.5      3067    \n",
       "10    Abbotsford         2     h    1050173 S      6/08/2016  2.5      3067    \n",
       "11    Abbotsford         2     h     941000 S      7/05/2016  2.5      3067    \n",
       "12    Abbotsford         3     h    1876000 S      7/05/2016  2.5      3067    \n",
       "13    Abbotsford         2     u    1050173 PI     7/11/2016  2.5      3067    \n",
       "14    Abbotsford         4     h    1050173 W      7/11/2016  2.5      3067    \n",
       "15    Abbotsford         2     h    1636000 S      8/10/2016  2.5      3067    \n",
       "16    Abbotsford         3     h    1000000 S      8/10/2016  2.5      3067    \n",
       "17    Abbotsford         2     t     745000 S      8/10/2016  2.5      3067    \n",
       "18    Abbotsford         1     u     300000 S      8/10/2016  2.5      3067    \n",
       "19    Abbotsford         2     h    1097000 S      8/10/2016  2.5      3067    \n",
       "20    Abbotsford         2     u     542000 S      8/10/2016  2.5      3067    \n",
       "21    Abbotsford         2     h    1050173 SP     10/12/2016 2.5      3067    \n",
       "22    Abbotsford         2     u     760000 SP     10/12/2016 2.5      3067    \n",
       "23    Abbotsford         1     u     481000 SP     10/12/2016 2.5      3067    \n",
       "24    Abbotsford         2     u     700000 VB     12/11/2016 2.5      3067    \n",
       "25    Abbotsford         3     h    1350000 VB     12/11/2016 2.5      3067    \n",
       "26    Abbotsford         2     u     750000 S      12/11/2016 2.5      3067    \n",
       "27    Abbotsford         4     h    1985000 S      12/11/2016 2.5      3067    \n",
       "28    Abbotsford         1     u     500000 S      12/11/2016 2.5      3067    \n",
       "29    Abbotsford         2     h    1172500 S      13/08/2016 2.5      3067    \n",
       "30    Abbotsford         1     u     441000 SP     14/05/2016 2.5      3067    \n",
       "...   ...                ...   ...  ...     ...    ...        ...      ...     \n",
       "34828 West Footscray     4     h    1096000 S      24/02/2018 6.4      3012    \n",
       "34829 West Footscray     3     h     900000 PI     24/02/2018 6.4      3012    \n",
       "34830 West Melbourne     3     u    1050173 S      24/02/2018 3.1      3003    \n",
       "34831 West Melbourne     3     t    1150000 S      24/02/2018 3.1      3003    \n",
       "34832 Westmeadows        4     h     675000 S      24/02/2018 16.5     3049    \n",
       "34833 Westmeadows        4     u     689000 S      24/02/2018 16.5     3049    \n",
       "34834 Wheelers Hill      4     h     936000 S      24/02/2018 16.7     3150    \n",
       "34835 Wheelers Hill      4     h    1050173 PN     24/02/2018 16.7     3150    \n",
       "34836 Wheelers Hill      3     h    1050173 S      24/02/2018 16.7     3150    \n",
       "34837 Wheelers Hill      5     h    1400000 S      24/02/2018 16.7     3150    \n",
       "34838 Williamstown       5     h    2020000 S      24/02/2018 6.8      3016    \n",
       "34839 Williamstown       2     u     450000 SP     24/02/2018 6.8      3016    \n",
       "34840 Williamstown       2     u     475000 SP     24/02/2018 6.8      3016    \n",
       "34841 Williamstown       2     u     520000 VB     24/02/2018 6.8      3016    \n",
       "34842 Williamstown       2     h     940000 VB     24/02/2018 6.8      3016    \n",
       "34843 Williamstown       3     h    1400000 SP     24/02/2018 6.8      3016    \n",
       "34844 Williamstown North 3     h     830000 S      24/02/2018 6.8      3016    \n",
       "34845 Windsor            1     u     440000 SP     24/02/2018 4.6      3181    \n",
       "34846 Windsor            4     h    1050173 W      24/02/2018 4.6      3181    \n",
       "34847 Wollert            4     h     630000 SP     24/02/2018 25.5     3750    \n",
       "34848 Wollert            3     h     500000 PI     24/02/2018 25.5     3750    \n",
       "34849 Wollert            4     h     621000 S      24/02/2018 25.5     3750    \n",
       "34850 Wollert            3     h     570000 SP     24/02/2018 25.5     3750    \n",
       "34851 Wollert            3     h    1050173 SP     24/02/2018 25.5     3750    \n",
       "34852 Yarraville         3     h    1101000 S      24/02/2018 6.3      3013    \n",
       "34853 Yarraville         4     h    1480000 PI     24/02/2018 6.3      3013    \n",
       "34854 Yarraville         2     h     888000 SP     24/02/2018 6.3      3013    \n",
       "34855 Yarraville         2     t     705000 S      24/02/2018 6.3      3013    \n",
       "34856 Yarraville         3     h    1140000 SP     24/02/2018 6.3      3013    \n",
       "34857 Yarraville         2     h    1020000 PI     24/02/2018 6.3      3013    \n",
       "      Bedroom2 Bathroom Car Landsize Lattitude Longtitude\n",
       "1     2.000000 1.000000  1   126.000 -37.80140 144.9958  \n",
       "2     2.000000 1.000000  1   202.000 -37.79960 144.9984  \n",
       "3     2.000000 1.000000  0   156.000 -37.80790 144.9934  \n",
       "4     3.000000 2.000000  1     0.000 -37.81140 145.0116  \n",
       "5     3.000000 2.000000  0   134.000 -37.80930 144.9944  \n",
       "6     3.000000 2.000000  1    94.000 -37.79690 144.9969  \n",
       "7     3.000000 1.000000  2   120.000 -37.80720 144.9941  \n",
       "8     3.000000 2.000000  2   400.000 -37.79650 144.9965  \n",
       "9     4.000000 1.000000  2   201.000 -37.79950 144.9974  \n",
       "10    3.000000 2.000000  1   202.000 -37.79960 144.9989  \n",
       "11    2.000000 1.000000  0   181.000 -37.80410 144.9953  \n",
       "12    4.000000 2.000000  0   245.000 -37.80240 144.9993  \n",
       "13    2.000000 2.000000  1  4292.000 -37.80780 144.9965  \n",
       "14    6.000000 2.000000  0   230.000 -37.80660 144.9936  \n",
       "15    2.000000 1.000000  2   256.000 -37.80600 144.9954  \n",
       "16    3.084647 1.624798 NA   593.599 -37.81063 145.0019  \n",
       "17    3.084647 1.624798 NA   593.599 -37.81063 145.0019  \n",
       "18    1.000000 1.000000  1     0.000 -37.80080 144.9973  \n",
       "19    3.000000 1.000000  2   220.000 -37.80100 144.9989  \n",
       "20    3.084647 1.624798 NA   593.599 -37.81063 145.0019  \n",
       "21    2.000000 1.000000  1   176.000 -37.79980 144.9972  \n",
       "22    3.084647 1.624798 NA   593.599 -37.81063 145.0019  \n",
       "23    3.084647 1.624798 NA   593.599 -37.81063 145.0019  \n",
       "24    2.000000 2.000000  1     0.000 -37.81100 145.0067  \n",
       "25    3.000000 2.000000  2   214.000 -37.80850 144.9964  \n",
       "26    2.000000 2.000000  1     0.000 -37.80780 144.9965  \n",
       "27    3.084647 1.624798 NA   593.599 -37.80840 144.9942  \n",
       "28    3.084647 1.624798 NA   593.599 -37.81063 145.0019  \n",
       "29    2.000000 1.000000  1   195.000 -37.80840 144.9973  \n",
       "30    1.000000 1.000000  1     0.000 -37.80160 144.9988  \n",
       "...   ...      ...      ... ...      ...       ...       \n",
       "34828 4.000000 1.000000  3  368.000  -37.79152 144.8728  \n",
       "34829 3.000000 1.000000  2  460.000  -37.80139 144.8646  \n",
       "34830 3.084647 1.624798 NA  593.599  -37.81063 145.0019  \n",
       "34831 3.000000 2.000000  2  678.000  -37.80787 144.9433  \n",
       "34832 4.000000 2.000000  5  560.000  -37.68089 144.8740  \n",
       "34833 3.084647 1.624798 NA  593.599  -37.81063 145.0019  \n",
       "34834 4.000000 2.000000  2  770.000  -37.91637 145.1806  \n",
       "34835 4.000000 2.000000  2  714.000  -37.90287 145.1901  \n",
       "34836 3.000000 2.000000  2  677.000  -37.91905 145.1910  \n",
       "34837 5.000000 2.000000  2  739.000  -37.89304 145.1848  \n",
       "34838 5.000000 3.000000  2  450.000  -37.86180 144.8785  \n",
       "34839 3.084647 1.624798 NA  593.599  -37.81063 145.0019  \n",
       "34840 3.084647 1.624798 NA  593.599  -37.81063 145.0019  \n",
       "34841 3.084647 1.624798 NA  593.599  -37.81063 145.0019  \n",
       "34842 2.000000 2.000000  1  122.000  -37.86396 144.9054  \n",
       "34843 3.000000 2.000000 NA  325.000  -37.86871 144.9012  \n",
       "34844 3.000000 1.000000  2  345.000  -37.85545 144.8812  \n",
       "34845 3.084647 1.624798 NA  593.599  -37.81063 145.0019  \n",
       "34846 4.000000 3.000000  2  279.000  -37.85418 144.9970  \n",
       "34847 4.000000 2.000000  2  388.000  -37.60981 145.0413  \n",
       "34848 3.000000 2.000000  2  383.000  -37.61940 145.0395  \n",
       "34849 4.000000 2.000000  2  375.000  -37.61331 145.0341  \n",
       "34850 3.000000 2.000000  2  404.000  -37.61031 145.0339  \n",
       "34851 3.000000 2.000000  2  268.000  -37.61094 145.0428  \n",
       "34852 3.000000 1.000000 NA  288.000  -37.81095 144.8852  \n",
       "34853 4.000000 1.000000  3  593.000  -37.81053 144.8847  \n",
       "34854 2.000000 2.000000  1   98.000  -37.81551 144.8883  \n",
       "34855 2.000000 1.000000  2  220.000  -37.82286 144.8786  \n",
       "34856 3.084647 1.624798 NA  593.599  -37.81063 145.0019  \n",
       "34857 2.000000 1.000000  0  250.000  -37.81810 144.8935  \n",
       "      Regionname                 Propertycount\n",
       "1     Northern Metropolitan      4019         \n",
       "2     Northern Metropolitan      4019         \n",
       "3     Northern Metropolitan      4019         \n",
       "4     Northern Metropolitan      4019         \n",
       "5     Northern Metropolitan      4019         \n",
       "6     Northern Metropolitan      4019         \n",
       "7     Northern Metropolitan      4019         \n",
       "8     Northern Metropolitan      4019         \n",
       "9     Northern Metropolitan      4019         \n",
       "10    Northern Metropolitan      4019         \n",
       "11    Northern Metropolitan      4019         \n",
       "12    Northern Metropolitan      4019         \n",
       "13    Northern Metropolitan      4019         \n",
       "14    Northern Metropolitan      4019         \n",
       "15    Northern Metropolitan      4019         \n",
       "16    Northern Metropolitan      4019         \n",
       "17    Northern Metropolitan      4019         \n",
       "18    Northern Metropolitan      4019         \n",
       "19    Northern Metropolitan      4019         \n",
       "20    Northern Metropolitan      4019         \n",
       "21    Northern Metropolitan      4019         \n",
       "22    Northern Metropolitan      4019         \n",
       "23    Northern Metropolitan      4019         \n",
       "24    Northern Metropolitan      4019         \n",
       "25    Northern Metropolitan      4019         \n",
       "26    Northern Metropolitan      4019         \n",
       "27    Northern Metropolitan      4019         \n",
       "28    Northern Metropolitan      4019         \n",
       "29    Northern Metropolitan      4019         \n",
       "30    Northern Metropolitan      4019         \n",
       "...   ...                        ...          \n",
       "34828 Western Metropolitan       5058         \n",
       "34829 Western Metropolitan       5058         \n",
       "34830 Northern Metropolitan      2230         \n",
       "34831 Northern Metropolitan      2230         \n",
       "34832 Northern Metropolitan      2474         \n",
       "34833 Northern Metropolitan      2474         \n",
       "34834 South-Eastern Metropolitan 7392         \n",
       "34835 South-Eastern Metropolitan 7392         \n",
       "34836 South-Eastern Metropolitan 7392         \n",
       "34837 South-Eastern Metropolitan 7392         \n",
       "34838 Western Metropolitan       6380         \n",
       "34839 Western Metropolitan       6380         \n",
       "34840 Western Metropolitan       6380         \n",
       "34841 Western Metropolitan       6380         \n",
       "34842 Western Metropolitan       6380         \n",
       "34843 Western Metropolitan       6380         \n",
       "34844 Western Metropolitan       802          \n",
       "34845 Southern Metropolitan      4380         \n",
       "34846 Southern Metropolitan      4380         \n",
       "34847 Northern Metropolitan      2940         \n",
       "34848 Northern Metropolitan      2940         \n",
       "34849 Northern Metropolitan      2940         \n",
       "34850 Northern Metropolitan      2940         \n",
       "34851 Northern Metropolitan      2940         \n",
       "34852 Western Metropolitan       6543         \n",
       "34853 Western Metropolitan       6543         \n",
       "34854 Western Metropolitan       6543         \n",
       "34855 Western Metropolitan       6543         \n",
       "34856 Western Metropolitan       6543         \n",
       "34857 Western Metropolitan       6543         "
      ]
     },
     "metadata": {},
     "output_type": "display_data"
    }
   ],
   "source": [
    "### Missing values are replaced with mean values. ####\n",
    "\n",
    "data$Bathroom[is.na(data$Bathroom)]<-mean(data$Bathroom,na.rm=TRUE)\n",
    "data$Bedroom2[is.na(data$Bedroom2)]<-mean(data$Bedroom2,na.rm=TRUE)\n",
    "data$Price[is.na(data$Price)]<-mean(data$Price,na.rm=TRUE)\n",
    "data$Landsize[is.na(data$Landsize)]<-mean(data$Landsize,na.rm=TRUE)\n",
    "data$Lattitude[is.na(data$Lattitude)]<-mean(data$Lattitude,na.rm=TRUE)\n",
    "data$Longtitude[is.na(data$Longtitude)]<-mean(data$Longtitude,na.rm=TRUE)\n",
    "data"
   ]
  },
  {
   "cell_type": "code",
   "execution_count": 6,
   "id": "1e0f83a8",
   "metadata": {},
   "outputs": [
    {
     "data": {
      "text/html": [
       "<dl class=dl-horizontal>\n",
       "\t<dt>Suburb</dt>\n",
       "\t\t<dd>0</dd>\n",
       "\t<dt>Rooms</dt>\n",
       "\t\t<dd>0</dd>\n",
       "\t<dt>Type</dt>\n",
       "\t\t<dd>0</dd>\n",
       "\t<dt>Price</dt>\n",
       "\t\t<dd>0</dd>\n",
       "\t<dt>Method</dt>\n",
       "\t\t<dd>0</dd>\n",
       "\t<dt>Date</dt>\n",
       "\t\t<dd>0</dd>\n",
       "\t<dt>Distance</dt>\n",
       "\t\t<dd>0</dd>\n",
       "\t<dt>Postcode</dt>\n",
       "\t\t<dd>0</dd>\n",
       "\t<dt>Bedroom2</dt>\n",
       "\t\t<dd>0</dd>\n",
       "\t<dt>Bathroom</dt>\n",
       "\t\t<dd>0</dd>\n",
       "\t<dt>Car</dt>\n",
       "\t\t<dd>8728</dd>\n",
       "\t<dt>Landsize</dt>\n",
       "\t\t<dd>0</dd>\n",
       "\t<dt>Lattitude</dt>\n",
       "\t\t<dd>0</dd>\n",
       "\t<dt>Longtitude</dt>\n",
       "\t\t<dd>0</dd>\n",
       "\t<dt>Regionname</dt>\n",
       "\t\t<dd>0</dd>\n",
       "\t<dt>Propertycount</dt>\n",
       "\t\t<dd>0</dd>\n",
       "</dl>\n"
      ],
      "text/latex": [
       "\\begin{description*}\n",
       "\\item[Suburb] 0\n",
       "\\item[Rooms] 0\n",
       "\\item[Type] 0\n",
       "\\item[Price] 0\n",
       "\\item[Method] 0\n",
       "\\item[Date] 0\n",
       "\\item[Distance] 0\n",
       "\\item[Postcode] 0\n",
       "\\item[Bedroom2] 0\n",
       "\\item[Bathroom] 0\n",
       "\\item[Car] 8728\n",
       "\\item[Landsize] 0\n",
       "\\item[Lattitude] 0\n",
       "\\item[Longtitude] 0\n",
       "\\item[Regionname] 0\n",
       "\\item[Propertycount] 0\n",
       "\\end{description*}\n"
      ],
      "text/markdown": [
       "Suburb\n",
       ":   0Rooms\n",
       ":   0Type\n",
       ":   0Price\n",
       ":   0Method\n",
       ":   0Date\n",
       ":   0Distance\n",
       ":   0Postcode\n",
       ":   0Bedroom2\n",
       ":   0Bathroom\n",
       ":   0Car\n",
       ":   8728Landsize\n",
       ":   0Lattitude\n",
       ":   0Longtitude\n",
       ":   0Regionname\n",
       ":   0Propertycount\n",
       ":   0\n",
       "\n"
      ],
      "text/plain": [
       "       Suburb         Rooms          Type         Price        Method \n",
       "            0             0             0             0             0 \n",
       "         Date      Distance      Postcode      Bedroom2      Bathroom \n",
       "            0             0             0             0             0 \n",
       "          Car      Landsize     Lattitude    Longtitude    Regionname \n",
       "         8728             0             0             0             0 \n",
       "Propertycount \n",
       "            0 "
      ]
     },
     "metadata": {},
     "output_type": "display_data"
    }
   ],
   "source": [
    "sapply(data, function(x) sum(is.na(x)))"
   ]
  },
  {
   "cell_type": "code",
   "execution_count": 7,
   "id": "b021e569",
   "metadata": {},
   "outputs": [
    {
     "data": {
      "text/plain": [
       "   Min. 1st Qu.  Median    Mean 3rd Qu.    Max.    NA's \n",
       "  0.000   1.000   2.000   1.673   2.000   3.500    8728 "
      ]
     },
     "metadata": {},
     "output_type": "display_data"
    },
    {
     "data": {
      "image/png": "[encoded data removed]",
      "text/plain": [
       "Plot with title \"Without Outliers\""
      ]
     },
     "metadata": {},
     "output_type": "display_data"
    }
   ],
   "source": [
    "### Outlier Anaysis for Attribute - Car. ###\n",
    "\n",
    "par(mfrow=c(1,2))\n",
    "boxplot(data$Car, col = \"pink\", main=\"With Outliers\") #Attribute with Outliers\n",
    "#Removing outliers in Car attribute\n",
    "p75 = quantile(data$Car,0.75, na.rm = TRUE)\n",
    "p25 = quantile(data$Car,0.25, na.rm = TRUE)\n",
    "# print(p75)\n",
    "# print(p25)\n",
    "iqr = p75-p25\n",
    "# print(head(is.na(data$Car)))\n",
    "data$Car = ifelse(data$Car<p25-1.5*iqr,ave(data$Car, FUN = function(x) p25-1.5*iqr),data$Car)\n",
    "data$Car = ifelse(data$Car>p75+1.5*iqr,ave(data$Car, FUN = function(x) p75+1.5*iqr),data$Car)\n",
    "boxplot(data$Car, col =\"lightblue\", main=\"Without Outliers\") # Attribute without outliers\n",
    "summary(data$Car)"
   ]
  },
  {
   "cell_type": "code",
   "execution_count": 8,
   "id": "aaba7bc5",
   "metadata": {},
   "outputs": [
    {
     "data": {
      "text/html": [
       "<dl class=dl-horizontal>\n",
       "\t<dt>Suburb</dt>\n",
       "\t\t<dd>0</dd>\n",
       "\t<dt>Rooms</dt>\n",
       "\t\t<dd>0</dd>\n",
       "\t<dt>Type</dt>\n",
       "\t\t<dd>0</dd>\n",
       "\t<dt>Price</dt>\n",
       "\t\t<dd>0</dd>\n",
       "\t<dt>Method</dt>\n",
       "\t\t<dd>0</dd>\n",
       "\t<dt>Date</dt>\n",
       "\t\t<dd>0</dd>\n",
       "\t<dt>Distance</dt>\n",
       "\t\t<dd>0</dd>\n",
       "\t<dt>Postcode</dt>\n",
       "\t\t<dd>0</dd>\n",
       "\t<dt>Bedroom2</dt>\n",
       "\t\t<dd>0</dd>\n",
       "\t<dt>Bathroom</dt>\n",
       "\t\t<dd>0</dd>\n",
       "\t<dt>Car</dt>\n",
       "\t\t<dd>0</dd>\n",
       "\t<dt>Landsize</dt>\n",
       "\t\t<dd>0</dd>\n",
       "\t<dt>Lattitude</dt>\n",
       "\t\t<dd>0</dd>\n",
       "\t<dt>Longtitude</dt>\n",
       "\t\t<dd>0</dd>\n",
       "\t<dt>Regionname</dt>\n",
       "\t\t<dd>0</dd>\n",
       "\t<dt>Propertycount</dt>\n",
       "\t\t<dd>0</dd>\n",
       "</dl>\n"
      ],
      "text/latex": [
       "\\begin{description*}\n",
       "\\item[Suburb] 0\n",
       "\\item[Rooms] 0\n",
       "\\item[Type] 0\n",
       "\\item[Price] 0\n",
       "\\item[Method] 0\n",
       "\\item[Date] 0\n",
       "\\item[Distance] 0\n",
       "\\item[Postcode] 0\n",
       "\\item[Bedroom2] 0\n",
       "\\item[Bathroom] 0\n",
       "\\item[Car] 0\n",
       "\\item[Landsize] 0\n",
       "\\item[Lattitude] 0\n",
       "\\item[Longtitude] 0\n",
       "\\item[Regionname] 0\n",
       "\\item[Propertycount] 0\n",
       "\\end{description*}\n"
      ],
      "text/markdown": [
       "Suburb\n",
       ":   0Rooms\n",
       ":   0Type\n",
       ":   0Price\n",
       ":   0Method\n",
       ":   0Date\n",
       ":   0Distance\n",
       ":   0Postcode\n",
       ":   0Bedroom2\n",
       ":   0Bathroom\n",
       ":   0Car\n",
       ":   0Landsize\n",
       ":   0Lattitude\n",
       ":   0Longtitude\n",
       ":   0Regionname\n",
       ":   0Propertycount\n",
       ":   0\n",
       "\n"
      ],
      "text/plain": [
       "       Suburb         Rooms          Type         Price        Method \n",
       "            0             0             0             0             0 \n",
       "         Date      Distance      Postcode      Bedroom2      Bathroom \n",
       "            0             0             0             0             0 \n",
       "          Car      Landsize     Lattitude    Longtitude    Regionname \n",
       "            0             0             0             0             0 \n",
       "Propertycount \n",
       "            0 "
      ]
     },
     "metadata": {},
     "output_type": "display_data"
    }
   ],
   "source": [
    "data$Car[is.na(data$Car)]<-mean(data$Car,na.rm=TRUE)\n",
    "sapply(data, function(x) sum(is.na(x)))\n",
    "# Null values removed from car table by placing mean values in the missing one."
   ]
  },
  {
   "cell_type": "code",
   "execution_count": 9,
   "id": "69a704a7",
   "metadata": {},
   "outputs": [
    {
     "data": {
      "text/plain": [
       "   Min. 1st Qu.  Median    Mean 3rd Qu.    Max. \n",
       "  0.000   1.000   1.673   1.673   2.000   3.500 "
      ]
     },
     "metadata": {},
     "output_type": "display_data"
    },
    {
     "data": {
      "image/png": "[encoded data removed]",
      "text/plain": [
       "Plot with title \"Without Outliers\""
      ]
     },
     "metadata": {},
     "output_type": "display_data"
    }
   ],
   "source": [
    "### Outlier Anaysis for Attribute - Car and replaced with mean values. ###\n",
    "par(mfrow=c(1,2))\n",
    "boxplot(data$Car, col = \"pink\", main=\"With Outliers\") #Attribute with Outliers\n",
    "#Removing outliers in Car attribute\n",
    "p75 = quantile(data$Car,0.75, na.rm = TRUE)\n",
    "p25 = quantile(data$Car,0.25, na.rm = TRUE)\n",
    "# print(p75)\n",
    "# print(p25)\n",
    "iqr = p75-p25\n",
    "# print(head(is.na(data$Car)))\n",
    "data$Car = ifelse(data$Car<p25-1.5*iqr,ave(data$Car, FUN = function(x) p25-1.5*iqr),data$Car)\n",
    "data$Car = ifelse(data$Car>p75+1.5*iqr,ave(data$Car, FUN = function(x) p75+1.5*iqr),data$Car)\n",
    "boxplot(data$Car, col =\"lightblue\", main=\"Without Outliers\") # Attribute without outliers\n",
    "summary(data$Car)"
   ]
  },
  {
   "cell_type": "code",
   "execution_count": 10,
   "id": "f53a5052",
   "metadata": {},
   "outputs": [
    {
     "name": "stdout",
     "output_type": "stream",
     "text": [
      "[1] 1.672816\n"
     ]
    }
   ],
   "source": [
    "print(mean(data$Car, na.rm=TRUE))\n",
    "data$Car = ifelse(is.na(data$Car),ave(data$Car, FUN = function(x) mean(x, na.rm=TRUE)),data$Car)"
   ]
  },
  {
   "cell_type": "markdown",
   "id": "631fe673",
   "metadata": {},
   "source": [
    "Removing the outliers in Rooms Column"
   ]
  },
  {
   "cell_type": "code",
   "execution_count": 11,
   "id": "f69d4bc0",
   "metadata": {},
   "outputs": [
    {
     "data": {
      "text/plain": [
       "   Min. 1st Qu.  Median    Mean 3rd Qu.    Max. \n",
       "  1.000   2.000   3.000   3.029   4.000   7.000 "
      ]
     },
     "metadata": {},
     "output_type": "display_data"
    },
    {
     "data": {
      "image/png": "[encoded data removed]",
      "text/plain": [
       "Plot with title \"Without Outliers\""
      ]
     },
     "metadata": {},
     "output_type": "display_data"
    }
   ],
   "source": [
    "### Outlier Anaysis for Attribute - Rooms and replaced with mean values. ###\n",
    "par(mfrow=c(1,2))\n",
    "boxplot(data$Rooms, col = \"pink\", main=\"With Outliers\") #Attribute with Outliers\n",
    "#Removing outliers in Rooms attribute\n",
    "p75 = quantile(data$Rooms,0.75, na.rm = TRUE)\n",
    "p25 = quantile(data$Rooms,0.25, na.rm = TRUE)\n",
    "# print(p75)\n",
    "# print(p25)\n",
    "iqr = p75-p25\n",
    "# print(head(is.na(data$Car)))\n",
    "data$Rooms = ifelse(data$Rooms<p25-1.5*iqr,ave(data$Rooms, FUN = function(x) p25-1.5*iqr),data$Rooms)\n",
    "data$Rooms = ifelse(data$Rooms>p75+1.5*iqr,ave(data$Rooms, FUN = function(x) p75+1.5*iqr),data$Rooms)\n",
    "boxplot(data$Rooms, col =\"lightblue\", main=\"Without Outliers\") # Attribute without outliers\n",
    "summary(data$Rooms)                                               "
   ]
  },
  {
   "cell_type": "code",
   "execution_count": 12,
   "id": "e52102a8",
   "metadata": {},
   "outputs": [
    {
     "data": {
      "text/plain": [
       "   Min. 1st Qu.  Median    Mean 3rd Qu.    Max. \n",
       "  85000  695000 1050173  998659 1150000 1832500 "
      ]
     },
     "metadata": {},
     "output_type": "display_data"
    },
    {
     "data": {
      "image/png": "[encoded data removed]",
      "text/plain": [
       "Plot with title \"Without Outliers\""
      ]
     },
     "metadata": {},
     "output_type": "display_data"
    }
   ],
   "source": [
    "### Outlier Anaysis for Attribute - Price and replaced with mean values. ###\n",
    "par(mfrow=c(1,2))\n",
    "boxplot(data$Price, col = \"pink\", main=\"With Outliers\") #Attribute with Outliers\n",
    "#Removing outliers in Price attribute\n",
    "p75 = quantile(data$Price,0.75, na.rm = TRUE)\n",
    "p25 = quantile(data$Price,0.25, na.rm = TRUE)\n",
    "# print(p75)\n",
    "# print(p25)\n",
    "iqr = p75-p25\n",
    "# print(head(is.na(data$Car)))\n",
    "data$Price = ifelse(data$Price<p25-1.5*iqr,ave(data$Price, FUN = function(x) p25-1.5*iqr),data$Price)\n",
    "data$Price = ifelse(data$Price>p75+1.5*iqr,ave(data$Price, FUN = function(x) p75+1.5*iqr),data$Price)\n",
    "boxplot(data$Price, col =\"lightblue\", main=\"Without Outliers\") # Attribute without outliers\n",
    "summary(data$Price)"
   ]
  },
  {
   "cell_type": "code",
   "execution_count": 13,
   "id": "213d2e50",
   "metadata": {},
   "outputs": [
    {
     "data": {
      "text/plain": [
       "   Min. 1st Qu.  Median    Mean 3rd Qu.    Max. \n",
       "    1.0    43.0    90.0   108.1   183.0   216.0 "
      ]
     },
     "metadata": {},
     "output_type": "display_data"
    },
    {
     "data": {
      "image/png": "[encoded data removed]",
      "text/plain": [
       "Plot with title \"Without Outliers\""
      ]
     },
     "metadata": {},
     "output_type": "display_data"
    }
   ],
   "source": [
    "### Outlier Anaysis for Attribute - Distance  and replaced with mean values. \n",
    "\n",
    "data$Distance <- as.numeric(data$Distance)                   \n",
    "par(mfrow=c(1,2))\n",
    "boxplot.default(data$Distance, col = \"pink\", main=\"With Outliers\") #Attribute with Outliers\n",
    "#Removing outliers in Distance attribute\n",
    "p75 = quantile(data$Distance,0.75, na.rm = TRUE)\n",
    "p25 = quantile(data$Distance,0.25, na.rm = TRUE)\n",
    "# print(p75)\n",
    "# print(p25)\n",
    "iqr = p75-p25\n",
    "# print(head(is.na(data$Car)))\n",
    "data$Distance = ifelse(data$Distance<p25-1.5*iqr,ave(data$Distance, FUN = function(x) p25-1.5*iqr),data$Distance)\n",
    "data$Distance = ifelse(data$Distance>p75+1.5*iqr,ave(data$Distance, FUN = function(x) p75+1.5*iqr),data$Distance)\n",
    "boxplot(data$Distance, col =\"lightblue\", main=\"Without Outliers\") # Attribute without outliers\n",
    "summary(data$Distance)                                                    "
   ]
  },
  {
   "cell_type": "code",
   "execution_count": 14,
   "id": "544dce91",
   "metadata": {},
   "outputs": [
    {
     "data": {
      "text/plain": [
       "   Min. 1st Qu.  Median    Mean 3rd Qu.    Max. \n",
       "    0.0   357.0   593.6   508.5   598.0   959.5 "
      ]
     },
     "metadata": {},
     "output_type": "display_data"
    },
    {
     "data": {
      "image/png": "[encoded data removed]",
      "text/plain": [
       "Plot with title \"Without Outliers\""
      ]
     },
     "metadata": {},
     "output_type": "display_data"
    }
   ],
   "source": [
    "### Outlier Anaysis for Attribute - Landsize and replaced with mean values. ###\n",
    "\n",
    "par(mfrow=c(1,2))\n",
    "boxplot(data$Landsize, col = \"pink\", main=\"With Outliers\") #Attribute with Outliers\n",
    "#Removing outliers in Landsize attribute\n",
    "p75 = quantile(data$Landsize,0.75, na.rm = TRUE)\n",
    "p25 = quantile(data$Landsize,0.25, na.rm = TRUE)\n",
    "# print(p75)\n",
    "# print(p25)\n",
    "iqr = p75-p25\n",
    "# print(head(is.na(data$Car)))\n",
    "data$Landsize = ifelse(data$Landsize<p25-1.5*iqr,ave(data$Landsize, FUN = function(x) p25-1.5*iqr),data$Landsize)\n",
    "data$Landsize = ifelse(data$Landsize>p75+1.5*iqr,ave(data$Landsize, FUN = function(x) p75+1.5*iqr),data$Landsize)\n",
    "boxplot(data$Landsize, col =\"lightblue\", main=\"Without Outliers\") # Attribute without outliers\n",
    "summary(data$Landsize)                                                    "
   ]
  },
  {
   "cell_type": "code",
   "execution_count": 15,
   "id": "c7a1dd37",
   "metadata": {},
   "outputs": [
    {
     "data": {
      "text/plain": [
       "   Min. 1st Qu.  Median    Mean 3rd Qu.    Max. \n",
       "  0.000   1.000   1.625   1.615   2.000   3.500 "
      ]
     },
     "metadata": {},
     "output_type": "display_data"
    },
    {
     "data": {
      "image/png": "[encoded data removed]",
      "text/plain": [
       "Plot with title \"Without Outliers\""
      ]
     },
     "metadata": {},
     "output_type": "display_data"
    }
   ],
   "source": [
    "### Outlier Anaysis for Attribute - Bathroom and replaced with mean values. ###\n",
    "\n",
    "par(mfrow=c(1,2))\n",
    "boxplot(data$Bathroom, col = \"pink\", main=\"With Outliers\") #Attribute with Outliers\n",
    "#Removing outliers in Bathroom attribute\n",
    "p75 = quantile(data$Bathroom,0.75, na.rm = TRUE)\n",
    "p25 = quantile(data$Bathroom,0.25, na.rm = TRUE)\n",
    "# print(p75)\n",
    "# print(p25)\n",
    "iqr = p75-p25\n",
    "# print(head(is.na(data$Car)))\n",
    "data$Bathroom = ifelse(data$Bathroom<p25-1.5*iqr,ave(data$Bathroom, FUN = function(x) p25-1.5*iqr),data$Bathroom)\n",
    "data$Bathroom = ifelse(data$Bathroom>p75+1.5*iqr,ave(data$Bathroom, FUN = function(x) p75+1.5*iqr),data$Bathroom)\n",
    "boxplot(data$Bathroom, col =\"lightblue\", main=\"Without Outliers\") # Attribute without outliers\n",
    "summary(data$Bathroom)"
   ]
  },
  {
   "cell_type": "code",
   "execution_count": 16,
   "id": "16b43f2c",
   "metadata": {},
   "outputs": [
    {
     "data": {
      "text/plain": [
       "   Min. 1st Qu.  Median    Mean 3rd Qu.    Max. \n",
       "  2.873   3.000   3.000   3.044   3.085   3.212 "
      ]
     },
     "metadata": {},
     "output_type": "display_data"
    },
    {
     "data": {
      "image/png": "[encoded data removed]",
      "text/plain": [
       "Plot with title \"Without Outliers\""
      ]
     },
     "metadata": {},
     "output_type": "display_data"
    }
   ],
   "source": [
    "### Outlier Anaysis for Attribute - Bedroom2 and replaced with mean values. ###\n",
    "\n",
    "par(mfrow=c(1,2))\n",
    "boxplot(data$Bedroom2, col = \"pink\", main=\"With Outliers\") #Attribute with Outliers\n",
    "#Removing outliers in Bathroom attribute\n",
    "p75 = quantile(data$Bedroom2,0.75, na.rm = TRUE)\n",
    "p25 = quantile(data$Bedroom2,0.25, na.rm = TRUE)\n",
    "# print(p75)\n",
    "# print(p25)\n",
    "iqr = p75-p25\n",
    "# print(head(is.na(data$Car)))\n",
    "data$Bedroom2 = ifelse(data$Bedroom2<p25-1.5*iqr,ave(data$Bedroom2, FUN = function(x) p25-1.5*iqr),data$Bedroom2)\n",
    "data$Bedroom2 = ifelse(data$Bedroom2>p75+1.5*iqr,ave(data$Bedroom2, FUN = function(x) p75+1.5*iqr),data$Bedroom2)\n",
    "boxplot(data$Bedroom2, col =\"lightblue\", main=\"Without Outliers\") # Attribute without outliers\n",
    "summary(data$Bedroom2)"
   ]
  },
  {
   "cell_type": "code",
   "execution_count": 17,
   "id": "28dbb78c",
   "metadata": {},
   "outputs": [
    {
     "data": {
      "text/plain": [
       "   Min. 1st Qu.  Median    Mean 3rd Qu.    Max. \n",
       "    1.0    62.0   200.0   177.3   273.0   343.0 "
      ]
     },
     "metadata": {},
     "output_type": "display_data"
    },
    {
     "data": {
      "image/png": "[encoded data removed]",
      "text/plain": [
       "plot without title"
      ]
     },
     "metadata": {},
     "output_type": "display_data"
    }
   ],
   "source": [
    "### Outlier Anaysis for Attribute - Propercount and replaced with mean values. ###\n",
    "\n",
    "data$Propertycount <- as.numeric(data$Propertycount)\n",
    "par(mfrow=c(1,2))\n",
    "boxplot(data$Propertycount, col = \"pink\", title=\"With Outliers\") #Attribute with Outliers\n",
    "#Removing outliers in Bathroom attribute\n",
    "p75 = quantile(data$Propertycount,0.75, na.rm = TRUE)\n",
    "p25 = quantile(data$Propertycount,0.25, na.rm = TRUE)\n",
    "# print(p75)\n",
    "# print(p25)\n",
    "iqr = p75-p25\n",
    "# print(head(is.na(data$Car)))\n",
    "data$Propertycount = ifelse(data$Propertycount<p25-1.5*iqr,ave(data$Propertycount, FUN = function(x) p25-1.5*iqr),data$Propertycount)\n",
    "data$Propertycount = ifelse(data$Propertycount>p75+1.5*iqr,ave(data$Propertycount, FUN = function(x) p75+1.5*iqr),data$Propertycount)\n",
    "boxplot(data$Propertycount, col =\"lightblue\", title=\"Without Outliers\") # Attribute without outliers\n",
    "summary(data$Propertycount)                                                               "
   ]
  },
  {
   "cell_type": "markdown",
   "id": "18172d16",
   "metadata": {},
   "source": [
    "# Pie chart of House Type in Melbourne"
   ]
  },
  {
   "cell_type": "code",
   "execution_count": 18,
   "id": "f0ed8bb6",
   "metadata": {},
   "outputs": [],
   "source": [
    "typeAtr = subset(data, select = c(Type))\n",
    "data = subset(data, select = -c(Type))"
   ]
  },
  {
   "cell_type": "code",
   "execution_count": 19,
   "id": "714c0658",
   "metadata": {},
   "outputs": [
    {
     "name": "stderr",
     "output_type": "stream",
     "text": [
      "Warning message in text.default(1.1 * P$x, 1.1 * P$y, labels[i], xpd = TRUE, adj = ifelse(P$x < :\n",
      "\"\"explode\" is not a graphical parameter\"Warning message in text.default(1.1 * P$x, 1.1 * P$y, labels[i], xpd = TRUE, adj = ifelse(P$x < :\n",
      "\"\"explode\" is not a graphical parameter\"Warning message in text.default(1.1 * P$x, 1.1 * P$y, labels[i], xpd = TRUE, adj = ifelse(P$x < :\n",
      "\"\"explode\" is not a graphical parameter\"Warning message in title(main = main, ...):\n",
      "\"\"explode\" is not a graphical parameter\""
     ]
    },
    {
     "data": {
      "image/png": "[encoded data removed]",
      "text/plain": [
       "Plot with title \"Pie chart of House Type in Melbourne\""
      ]
     },
     "metadata": {},
     "output_type": "display_data"
    }
   ],
   "source": [
    "y = typeAtr\n",
    "pct = round((table(y)/sum(table(y)))*100)\n",
    "lbs = paste(c(\"h\",\"t\",\"u\"),\"\",pct,\"%\",sep=\" \")\n",
    "pie(table(y), labels=lbs,main=\"Pie chart of House Type in Melbourne\",\n",
    "col=c(\"pink\", \"lightblue\", \"lightyellow\"),explode=0.1)"
   ]
  },
  {
   "cell_type": "markdown",
   "id": "b34fcfd8",
   "metadata": {},
   "source": [
    "Ordinal Encoding for the Target Variable Type"
   ]
  },
  {
   "cell_type": "code",
   "execution_count": 20,
   "id": "057ed67a",
   "metadata": {},
   "outputs": [
    {
     "name": "stdout",
     "output_type": "stream",
     "text": [
      "[1] \"numeric\"\n"
     ]
    }
   ],
   "source": [
    "#Converting Type attribute into numeric data type and labelling attributes into 1,2 and 3.\n",
    "typeAtr = factor(typeAtr$Type,levels = c('h','u','t'), labels = c(1,2,3))\n",
    "typeAtr = as.numeric(typeAtr)\n",
    "print(class(typeAtr))\n",
    "data = cbind(data,data.frame(Type=typeAtr))"
   ]
  },
  {
   "cell_type": "code",
   "execution_count": 21,
   "id": "69ea9ea8",
   "metadata": {},
   "outputs": [
    {
     "data": {
      "text/html": [
       "'data.frame'"
      ],
      "text/latex": [
       "'data.frame'"
      ],
      "text/markdown": [
       "'data.frame'"
      ],
      "text/plain": [
       "[1] \"data.frame\""
      ]
     },
     "metadata": {},
     "output_type": "display_data"
    },
    {
     "data": {
      "text/html": [
       "<ol class=list-inline>\n",
       "\t<li>'Suburb'</li>\n",
       "\t<li>'Rooms'</li>\n",
       "\t<li>'Price'</li>\n",
       "\t<li>'Method'</li>\n",
       "\t<li>'Date'</li>\n",
       "\t<li>'Distance'</li>\n",
       "\t<li>'Postcode'</li>\n",
       "\t<li>'Bedroom2'</li>\n",
       "\t<li>'Bathroom'</li>\n",
       "\t<li>'Car'</li>\n",
       "\t<li>'Landsize'</li>\n",
       "\t<li>'Lattitude'</li>\n",
       "\t<li>'Longtitude'</li>\n",
       "\t<li>'Regionname'</li>\n",
       "\t<li>'Propertycount'</li>\n",
       "\t<li>'Type'</li>\n",
       "</ol>\n"
      ],
      "text/latex": [
       "\\begin{enumerate*}\n",
       "\\item 'Suburb'\n",
       "\\item 'Rooms'\n",
       "\\item 'Price'\n",
       "\\item 'Method'\n",
       "\\item 'Date'\n",
       "\\item 'Distance'\n",
       "\\item 'Postcode'\n",
       "\\item 'Bedroom2'\n",
       "\\item 'Bathroom'\n",
       "\\item 'Car'\n",
       "\\item 'Landsize'\n",
       "\\item 'Lattitude'\n",
       "\\item 'Longtitude'\n",
       "\\item 'Regionname'\n",
       "\\item 'Propertycount'\n",
       "\\item 'Type'\n",
       "\\end{enumerate*}\n"
      ],
      "text/markdown": [
       "1. 'Suburb'\n",
       "2. 'Rooms'\n",
       "3. 'Price'\n",
       "4. 'Method'\n",
       "5. 'Date'\n",
       "6. 'Distance'\n",
       "7. 'Postcode'\n",
       "8. 'Bedroom2'\n",
       "9. 'Bathroom'\n",
       "10. 'Car'\n",
       "11. 'Landsize'\n",
       "12. 'Lattitude'\n",
       "13. 'Longtitude'\n",
       "14. 'Regionname'\n",
       "15. 'Propertycount'\n",
       "16. 'Type'\n",
       "\n",
       "\n"
      ],
      "text/plain": [
       " [1] \"Suburb\"        \"Rooms\"         \"Price\"         \"Method\"       \n",
       " [5] \"Date\"          \"Distance\"      \"Postcode\"      \"Bedroom2\"     \n",
       " [9] \"Bathroom\"      \"Car\"           \"Landsize\"      \"Lattitude\"    \n",
       "[13] \"Longtitude\"    \"Regionname\"    \"Propertycount\" \"Type\"         "
      ]
     },
     "metadata": {},
     "output_type": "display_data"
    },
    {
     "name": "stdout",
     "output_type": "stream",
     "text": [
      "'data.frame':\t34857 obs. of  16 variables:\n",
      " $ Suburb       : Factor w/ 351 levels \"Abbotsford\",\"Aberfeldie\",..: 1 1 1 1 1 1 1 1 1 1 ...\n",
      " $ Rooms        : num  2 2 2 3 3 3 4 4 2 2 ...\n",
      " $ Price        : num  1050173 1480000 1035000 1050173 1465000 ...\n",
      " $ Method       : Factor w/ 9 levels \"PI\",\"PN\",\"S\",..: 7 3 3 8 6 1 8 5 3 3 ...\n",
      " $ Date         : Factor w/ 78 levels \"1/07/2017\",\"10/02/2018\",..: 59 61 64 64 65 65 66 70 70 70 ...\n",
      " $ Distance     : num  82 82 82 82 82 82 82 82 82 82 ...\n",
      " $ Postcode     : Factor w/ 212 levels \"#N/A\",\"3000\",..: 55 55 55 55 55 55 55 55 55 55 ...\n",
      " $ Bedroom2     : num  2.87 2.87 2.87 3 3 ...\n",
      " $ Bathroom     : num  1 1 1 2 2 2 1 2 1 2 ...\n",
      " $ Car          : num  1 1 0 1 0 1 2 2 2 1 ...\n",
      " $ Landsize     : num  126 202 156 0 134 94 120 400 201 202 ...\n",
      " $ Lattitude    : num  -37.8 -37.8 -37.8 -37.8 -37.8 ...\n",
      " $ Longtitude   : num  145 145 145 145 145 ...\n",
      " $ Regionname   : Factor w/ 9 levels \"#N/A\",\"Eastern Metropolitan\",..: 4 4 4 4 4 4 4 4 4 4 ...\n",
      " $ Propertycount: num  191 191 191 191 191 191 191 191 191 191 ...\n",
      " $ Type         : num  1 1 1 2 1 1 1 1 1 1 ...\n"
     ]
    }
   ],
   "source": [
    "### Reviewing data. ###\n",
    "\n",
    "class(data)\n",
    "names(data)\n",
    "str(data)"
   ]
  },
  {
   "cell_type": "code",
   "execution_count": 22,
   "id": "4a53b08e",
   "metadata": {},
   "outputs": [
    {
     "data": {
      "text/html": [
       "<ol class=list-inline>\n",
       "\t<li>3/09/2016</li>\n",
       "\t<li>3/12/2016</li>\n",
       "\t<li>4/02/2016</li>\n",
       "\t<li>4/02/2016</li>\n",
       "\t<li>4/03/2017</li>\n",
       "\t<li>4/03/2017</li>\n",
       "</ol>\n",
       "\n",
       "<details>\n",
       "\t<summary style=display:list-item;cursor:pointer>\n",
       "\t\t<strong>Levels</strong>:\n",
       "\t</summary>\n",
       "\t<ol class=list-inline>\n",
       "\t\t<li>'1/07/2017'</li>\n",
       "\t\t<li>'10/02/2018'</li>\n",
       "\t\t<li>'10/03/2018'</li>\n",
       "\t\t<li>'10/09/2016'</li>\n",
       "\t\t<li>'10/12/2016'</li>\n",
       "\t\t<li>'11/02/2017'</li>\n",
       "\t\t<li>'11/03/2017'</li>\n",
       "\t\t<li>'11/11/2017'</li>\n",
       "\t\t<li>'12/06/2016'</li>\n",
       "\t\t<li>'12/08/2017'</li>\n",
       "\t\t<li>'12/11/2016'</li>\n",
       "\t\t<li>'13/05/2017'</li>\n",
       "\t\t<li>'13/08/2016'</li>\n",
       "\t\t<li>'14/05/2016'</li>\n",
       "\t\t<li>'14/10/2017'</li>\n",
       "\t\t<li>'15/07/2017'</li>\n",
       "\t\t<li>'15/10/2016'</li>\n",
       "\t\t<li>'16/04/2016'</li>\n",
       "\t\t<li>'16/07/2016'</li>\n",
       "\t\t<li>'16/09/2017'</li>\n",
       "\t\t<li>'17/02/2018'</li>\n",
       "\t\t<li>'17/03/2018'</li>\n",
       "\t\t<li>'17/06/2017'</li>\n",
       "\t\t<li>'17/09/2016'</li>\n",
       "\t\t<li>'18/03/2017'</li>\n",
       "\t\t<li>'18/06/2016'</li>\n",
       "\t\t<li>'18/11/2017'</li>\n",
       "\t\t<li>'19/08/2017'</li>\n",
       "\t\t<li>'19/11/2016'</li>\n",
       "\t\t<li>'20/01/2018'</li>\n",
       "\t\t<li>'20/05/2017'</li>\n",
       "\t\t<li>'21/10/2017'</li>\n",
       "\t\t<li>'22/04/2017'</li>\n",
       "\t\t<li>'22/05/2016'</li>\n",
       "\t\t<li>'22/07/2017'</li>\n",
       "\t\t<li>'22/08/2016'</li>\n",
       "\t\t<li>'23/04/2016'</li>\n",
       "\t\t<li>'23/09/2017'</li>\n",
       "\t\t<li>'24/02/2018'</li>\n",
       "\t\t<li>'24/06/2017'</li>\n",
       "\t\t<li>'24/09/2016'</li>\n",
       "\t\t<li>'25/02/2017'</li>\n",
       "\t\t<li>'25/11/2017'</li>\n",
       "\t\t<li>'26/07/2016'</li>\n",
       "\t\t<li>'26/08/2017'</li>\n",
       "\t\t<li>'27/01/2018'</li>\n",
       "\t\t<li>'27/05/2017'</li>\n",
       "\t\t<li>'27/06/2016'</li>\n",
       "\t\t<li>'27/11/2016'</li>\n",
       "\t\t<li>'28/01/2016'</li>\n",
       "\t\t<li>'28/05/2016'</li>\n",
       "\t\t<li>'28/08/2016'</li>\n",
       "\t\t<li>'28/10/2017'</li>\n",
       "\t\t<li>'29/04/2017'</li>\n",
       "\t\t<li>'29/07/2017'</li>\n",
       "\t\t<li>'3/02/2018'</li>\n",
       "\t\t<li>'3/03/2018'</li>\n",
       "\t\t<li>'3/06/2017'</li>\n",
       "\t\t<li>'3/09/2016'</li>\n",
       "\t\t<li>'3/09/2017'</li>\n",
       "\t\t<li>'3/12/2016'</li>\n",
       "\t\t<li>'30/07/2016'</li>\n",
       "\t\t<li>'30/09/2017'</li>\n",
       "\t\t<li>'4/02/2016'</li>\n",
       "\t\t<li>'4/03/2017'</li>\n",
       "\t\t<li>'4/06/2016'</li>\n",
       "\t\t<li>'4/11/2017'</li>\n",
       "\t\t<li>'6/01/2018'</li>\n",
       "\t\t<li>'6/05/2017'</li>\n",
       "\t\t<li>'6/08/2016'</li>\n",
       "\t\t<li>'7/05/2016'</li>\n",
       "\t\t<li>'7/10/2017'</li>\n",
       "\t\t<li>'7/11/2016'</li>\n",
       "\t\t<li>'8/04/2017'</li>\n",
       "\t\t<li>'8/07/2017'</li>\n",
       "\t\t<li>'8/10/2016'</li>\n",
       "\t\t<li>'9/09/2017'</li>\n",
       "\t\t<li>'9/12/2017'</li>\n",
       "\t</ol>\n",
       "</details>"
      ],
      "text/latex": [
       "\\begin{enumerate*}\n",
       "\\item 3/09/2016\n",
       "\\item 3/12/2016\n",
       "\\item 4/02/2016\n",
       "\\item 4/02/2016\n",
       "\\item 4/03/2017\n",
       "\\item 4/03/2017\n",
       "\\end{enumerate*}\n",
       "\n",
       "\\emph{Levels}: \\begin{enumerate*}\n",
       "\\item '1/07/2017'\n",
       "\\item '10/02/2018'\n",
       "\\item '10/03/2018'\n",
       "\\item '10/09/2016'\n",
       "\\item '10/12/2016'\n",
       "\\item '11/02/2017'\n",
       "\\item '11/03/2017'\n",
       "\\item '11/11/2017'\n",
       "\\item '12/06/2016'\n",
       "\\item '12/08/2017'\n",
       "\\item '12/11/2016'\n",
       "\\item '13/05/2017'\n",
       "\\item '13/08/2016'\n",
       "\\item '14/05/2016'\n",
       "\\item '14/10/2017'\n",
       "\\item '15/07/2017'\n",
       "\\item '15/10/2016'\n",
       "\\item '16/04/2016'\n",
       "\\item '16/07/2016'\n",
       "\\item '16/09/2017'\n",
       "\\item '17/02/2018'\n",
       "\\item '17/03/2018'\n",
       "\\item '17/06/2017'\n",
       "\\item '17/09/2016'\n",
       "\\item '18/03/2017'\n",
       "\\item '18/06/2016'\n",
       "\\item '18/11/2017'\n",
       "\\item '19/08/2017'\n",
       "\\item '19/11/2016'\n",
       "\\item '20/01/2018'\n",
       "\\item '20/05/2017'\n",
       "\\item '21/10/2017'\n",
       "\\item '22/04/2017'\n",
       "\\item '22/05/2016'\n",
       "\\item '22/07/2017'\n",
       "\\item '22/08/2016'\n",
       "\\item '23/04/2016'\n",
       "\\item '23/09/2017'\n",
       "\\item '24/02/2018'\n",
       "\\item '24/06/2017'\n",
       "\\item '24/09/2016'\n",
       "\\item '25/02/2017'\n",
       "\\item '25/11/2017'\n",
       "\\item '26/07/2016'\n",
       "\\item '26/08/2017'\n",
       "\\item '27/01/2018'\n",
       "\\item '27/05/2017'\n",
       "\\item '27/06/2016'\n",
       "\\item '27/11/2016'\n",
       "\\item '28/01/2016'\n",
       "\\item '28/05/2016'\n",
       "\\item '28/08/2016'\n",
       "\\item '28/10/2017'\n",
       "\\item '29/04/2017'\n",
       "\\item '29/07/2017'\n",
       "\\item '3/02/2018'\n",
       "\\item '3/03/2018'\n",
       "\\item '3/06/2017'\n",
       "\\item '3/09/2016'\n",
       "\\item '3/09/2017'\n",
       "\\item '3/12/2016'\n",
       "\\item '30/07/2016'\n",
       "\\item '30/09/2017'\n",
       "\\item '4/02/2016'\n",
       "\\item '4/03/2017'\n",
       "\\item '4/06/2016'\n",
       "\\item '4/11/2017'\n",
       "\\item '6/01/2018'\n",
       "\\item '6/05/2017'\n",
       "\\item '6/08/2016'\n",
       "\\item '7/05/2016'\n",
       "\\item '7/10/2017'\n",
       "\\item '7/11/2016'\n",
       "\\item '8/04/2017'\n",
       "\\item '8/07/2017'\n",
       "\\item '8/10/2016'\n",
       "\\item '9/09/2017'\n",
       "\\item '9/12/2017'\n",
       "\\end{enumerate*}\n"
      ],
      "text/markdown": [
       "1. 3/09/2016\n",
       "2. 3/12/2016\n",
       "3. 4/02/2016\n",
       "4. 4/02/2016\n",
       "5. 4/03/2017\n",
       "6. 4/03/2017\n",
       "\n",
       "\n",
       "\n",
       "**Levels**: 1. '1/07/2017'\n",
       "2. '10/02/2018'\n",
       "3. '10/03/2018'\n",
       "4. '10/09/2016'\n",
       "5. '10/12/2016'\n",
       "6. '11/02/2017'\n",
       "7. '11/03/2017'\n",
       "8. '11/11/2017'\n",
       "9. '12/06/2016'\n",
       "10. '12/08/2017'\n",
       "11. '12/11/2016'\n",
       "12. '13/05/2017'\n",
       "13. '13/08/2016'\n",
       "14. '14/05/2016'\n",
       "15. '14/10/2017'\n",
       "16. '15/07/2017'\n",
       "17. '15/10/2016'\n",
       "18. '16/04/2016'\n",
       "19. '16/07/2016'\n",
       "20. '16/09/2017'\n",
       "21. '17/02/2018'\n",
       "22. '17/03/2018'\n",
       "23. '17/06/2017'\n",
       "24. '17/09/2016'\n",
       "25. '18/03/2017'\n",
       "26. '18/06/2016'\n",
       "27. '18/11/2017'\n",
       "28. '19/08/2017'\n",
       "29. '19/11/2016'\n",
       "30. '20/01/2018'\n",
       "31. '20/05/2017'\n",
       "32. '21/10/2017'\n",
       "33. '22/04/2017'\n",
       "34. '22/05/2016'\n",
       "35. '22/07/2017'\n",
       "36. '22/08/2016'\n",
       "37. '23/04/2016'\n",
       "38. '23/09/2017'\n",
       "39. '24/02/2018'\n",
       "40. '24/06/2017'\n",
       "41. '24/09/2016'\n",
       "42. '25/02/2017'\n",
       "43. '25/11/2017'\n",
       "44. '26/07/2016'\n",
       "45. '26/08/2017'\n",
       "46. '27/01/2018'\n",
       "47. '27/05/2017'\n",
       "48. '27/06/2016'\n",
       "49. '27/11/2016'\n",
       "50. '28/01/2016'\n",
       "51. '28/05/2016'\n",
       "52. '28/08/2016'\n",
       "53. '28/10/2017'\n",
       "54. '29/04/2017'\n",
       "55. '29/07/2017'\n",
       "56. '3/02/2018'\n",
       "57. '3/03/2018'\n",
       "58. '3/06/2017'\n",
       "59. '3/09/2016'\n",
       "60. '3/09/2017'\n",
       "61. '3/12/2016'\n",
       "62. '30/07/2016'\n",
       "63. '30/09/2017'\n",
       "64. '4/02/2016'\n",
       "65. '4/03/2017'\n",
       "66. '4/06/2016'\n",
       "67. '4/11/2017'\n",
       "68. '6/01/2018'\n",
       "69. '6/05/2017'\n",
       "70. '6/08/2016'\n",
       "71. '7/05/2016'\n",
       "72. '7/10/2017'\n",
       "73. '7/11/2016'\n",
       "74. '8/04/2017'\n",
       "75. '8/07/2017'\n",
       "76. '8/10/2016'\n",
       "77. '9/09/2017'\n",
       "78. '9/12/2017'\n",
       "\n",
       "\n"
      ],
      "text/plain": [
       "[1] 3/09/2016 3/12/2016 4/02/2016 4/02/2016 4/03/2017 4/03/2017\n",
       "78 Levels: 1/07/2017 10/02/2018 10/03/2018 10/09/2016 10/12/2016 ... 9/12/2017"
      ]
     },
     "metadata": {},
     "output_type": "display_data"
    }
   ],
   "source": [
    "# checking the format of the date\n",
    "mydate = data$Date\n",
    "head(mydate)"
   ]
  },
  {
   "cell_type": "code",
   "execution_count": 23,
   "id": "0e875dfa",
   "metadata": {},
   "outputs": [
    {
     "data": {
      "text/html": [
       "<ol class=list-inline>\n",
       "\t<li><time datetime=\"2016-09-03\">2016-09-03</time></li>\n",
       "\t<li><time datetime=\"2016-12-03\">2016-12-03</time></li>\n",
       "\t<li><time datetime=\"2016-02-04\">2016-02-04</time></li>\n",
       "\t<li><time datetime=\"2016-02-04\">2016-02-04</time></li>\n",
       "\t<li><time datetime=\"2017-03-04\">2017-03-04</time></li>\n",
       "\t<li><time datetime=\"2017-03-04\">2017-03-04</time></li>\n",
       "</ol>\n"
      ],
      "text/latex": [
       "\\begin{enumerate*}\n",
       "\\item 2016-09-03\n",
       "\\item 2016-12-03\n",
       "\\item 2016-02-04\n",
       "\\item 2016-02-04\n",
       "\\item 2017-03-04\n",
       "\\item 2017-03-04\n",
       "\\end{enumerate*}\n"
      ],
      "text/markdown": [
       "1. 2016-09-03\n",
       "2. 2016-12-03\n",
       "3. 2016-02-04\n",
       "4. 2016-02-04\n",
       "5. 2017-03-04\n",
       "6. 2017-03-04\n",
       "\n",
       "\n"
      ],
      "text/plain": [
       "[1] \"2016-09-03\" \"2016-12-03\" \"2016-02-04\" \"2016-02-04\" \"2017-03-04\"\n",
       "[6] \"2017-03-04\""
      ]
     },
     "metadata": {},
     "output_type": "display_data"
    }
   ],
   "source": [
    "#Converting the date into the desired format. ###\n",
    "\n",
    "head(as.Date(mydate,format=\"%d/%m/%Y\"))"
   ]
  },
  {
   "cell_type": "code",
   "execution_count": 24,
   "id": "48d37951",
   "metadata": {},
   "outputs": [
    {
     "data": {
      "text/html": [
       "<table>\n",
       "<thead><tr><th scope=col>day</th><th scope=col>month</th><th scope=col>year</th></tr></thead>\n",
       "<tbody>\n",
       "\t<tr><td>3   </td><td> 9  </td><td>2016</td></tr>\n",
       "\t<tr><td>3   </td><td>12  </td><td>2016</td></tr>\n",
       "\t<tr><td>4   </td><td> 2  </td><td>2016</td></tr>\n",
       "\t<tr><td>4   </td><td> 2  </td><td>2016</td></tr>\n",
       "\t<tr><td>4   </td><td> 3  </td><td>2017</td></tr>\n",
       "\t<tr><td>4   </td><td> 3  </td><td>2017</td></tr>\n",
       "</tbody>\n",
       "</table>\n"
      ],
      "text/latex": [
       "\\begin{tabular}{r|lll}\n",
       " day & month & year\\\\\n",
       "\\hline\n",
       "\t 3    &  9   & 2016\\\\\n",
       "\t 3    & 12   & 2016\\\\\n",
       "\t 4    &  2   & 2016\\\\\n",
       "\t 4    &  2   & 2016\\\\\n",
       "\t 4    &  3   & 2017\\\\\n",
       "\t 4    &  3   & 2017\\\\\n",
       "\\end{tabular}\n"
      ],
      "text/markdown": [
       "\n",
       "| day | month | year |\n",
       "|---|---|---|\n",
       "| 3    |  9   | 2016 |\n",
       "| 3    | 12   | 2016 |\n",
       "| 4    |  2   | 2016 |\n",
       "| 4    |  2   | 2016 |\n",
       "| 4    |  3   | 2017 |\n",
       "| 4    |  3   | 2017 |\n",
       "\n"
      ],
      "text/plain": [
       "  day month year\n",
       "1 3    9    2016\n",
       "2 3   12    2016\n",
       "3 4    2    2016\n",
       "4 4    2    2016\n",
       "5 4    3    2017\n",
       "6 4    3    2017"
      ]
     },
     "metadata": {},
     "output_type": "display_data"
    },
    {
     "data": {
      "text/html": [
       "<table>\n",
       "<thead><tr><th scope=col>day</th><th scope=col>month</th><th scope=col>year</th><th scope=col>Suburb</th><th scope=col>Rooms</th><th scope=col>Price</th><th scope=col>Method</th><th scope=col>Distance</th><th scope=col>Postcode</th><th scope=col>Bedroom2</th><th scope=col>Bathroom</th><th scope=col>Car</th><th scope=col>Landsize</th><th scope=col>Lattitude</th><th scope=col>Longtitude</th><th scope=col>Regionname</th><th scope=col>Propertycount</th><th scope=col>Type</th></tr></thead>\n",
       "<tbody>\n",
       "\t<tr><td>3                    </td><td> 9                   </td><td>2016                 </td><td>Abbotsford           </td><td>2                    </td><td>1050173              </td><td>SS                   </td><td>82                   </td><td>3067                 </td><td>2.873029             </td><td>1                    </td><td>1                    </td><td>126                  </td><td>-37.8014             </td><td>144.9958             </td><td>Northern Metropolitan</td><td>191                  </td><td>1                    </td></tr>\n",
       "\t<tr><td>3                    </td><td>12                   </td><td>2016                 </td><td>Abbotsford           </td><td>2                    </td><td>1480000              </td><td>S                    </td><td>82                   </td><td>3067                 </td><td>2.873029             </td><td>1                    </td><td>1                    </td><td>202                  </td><td>-37.7996             </td><td>144.9984             </td><td>Northern Metropolitan</td><td>191                  </td><td>1                    </td></tr>\n",
       "\t<tr><td>4                    </td><td> 2                   </td><td>2016                 </td><td>Abbotsford           </td><td>2                    </td><td>1035000              </td><td>S                    </td><td>82                   </td><td>3067                 </td><td>2.873029             </td><td>1                    </td><td>0                    </td><td>156                  </td><td>-37.8079             </td><td>144.9934             </td><td>Northern Metropolitan</td><td>191                  </td><td>1                    </td></tr>\n",
       "\t<tr><td>4                    </td><td> 2                   </td><td>2016                 </td><td>Abbotsford           </td><td>3                    </td><td>1050173              </td><td>VB                   </td><td>82                   </td><td>3067                 </td><td>3.000000             </td><td>2                    </td><td>1                    </td><td>  0                  </td><td>-37.8114             </td><td>145.0116             </td><td>Northern Metropolitan</td><td>191                  </td><td>2                    </td></tr>\n",
       "\t<tr><td>4                    </td><td> 3                   </td><td>2017                 </td><td>Abbotsford           </td><td>3                    </td><td>1465000              </td><td>SP                   </td><td>82                   </td><td>3067                 </td><td>3.000000             </td><td>2                    </td><td>0                    </td><td>134                  </td><td>-37.8093             </td><td>144.9944             </td><td>Northern Metropolitan</td><td>191                  </td><td>1                    </td></tr>\n",
       "\t<tr><td>4                    </td><td> 3                   </td><td>2017                 </td><td>Abbotsford           </td><td>3                    </td><td> 850000              </td><td>PI                   </td><td>82                   </td><td>3067                 </td><td>3.000000             </td><td>2                    </td><td>1                    </td><td> 94                  </td><td>-37.7969             </td><td>144.9969             </td><td>Northern Metropolitan</td><td>191                  </td><td>1                    </td></tr>\n",
       "</tbody>\n",
       "</table>\n"
      ],
      "text/latex": [
       "\\begin{tabular}{r|llllllllllllllllll}\n",
       " day & month & year & Suburb & Rooms & Price & Method & Distance & Postcode & Bedroom2 & Bathroom & Car & Landsize & Lattitude & Longtitude & Regionname & Propertycount & Type\\\\\n",
       "\\hline\n",
       "\t 3                     &  9                    & 2016                  & Abbotsford            & 2                     & 1050173               & SS                    & 82                    & 3067                  & 2.873029              & 1                     & 1                     & 126                   & -37.8014              & 144.9958              & Northern Metropolitan & 191                   & 1                    \\\\\n",
       "\t 3                     & 12                    & 2016                  & Abbotsford            & 2                     & 1480000               & S                     & 82                    & 3067                  & 2.873029              & 1                     & 1                     & 202                   & -37.7996              & 144.9984              & Northern Metropolitan & 191                   & 1                    \\\\\n",
       "\t 4                     &  2                    & 2016                  & Abbotsford            & 2                     & 1035000               & S                     & 82                    & 3067                  & 2.873029              & 1                     & 0                     & 156                   & -37.8079              & 144.9934              & Northern Metropolitan & 191                   & 1                    \\\\\n",
       "\t 4                     &  2                    & 2016                  & Abbotsford            & 3                     & 1050173               & VB                    & 82                    & 3067                  & 3.000000              & 2                     & 1                     &   0                   & -37.8114              & 145.0116              & Northern Metropolitan & 191                   & 2                    \\\\\n",
       "\t 4                     &  3                    & 2017                  & Abbotsford            & 3                     & 1465000               & SP                    & 82                    & 3067                  & 3.000000              & 2                     & 0                     & 134                   & -37.8093              & 144.9944              & Northern Metropolitan & 191                   & 1                    \\\\\n",
       "\t 4                     &  3                    & 2017                  & Abbotsford            & 3                     &  850000               & PI                    & 82                    & 3067                  & 3.000000              & 2                     & 1                     &  94                   & -37.7969              & 144.9969              & Northern Metropolitan & 191                   & 1                    \\\\\n",
       "\\end{tabular}\n"
      ],
      "text/markdown": [
       "\n",
       "| day | month | year | Suburb | Rooms | Price | Method | Distance | Postcode | Bedroom2 | Bathroom | Car | Landsize | Lattitude | Longtitude | Regionname | Propertycount | Type |\n",
       "|---|---|---|---|---|---|---|---|---|---|---|---|---|---|---|---|---|---|\n",
       "| 3                     |  9                    | 2016                  | Abbotsford            | 2                     | 1050173               | SS                    | 82                    | 3067                  | 2.873029              | 1                     | 1                     | 126                   | -37.8014              | 144.9958              | Northern Metropolitan | 191                   | 1                     |\n",
       "| 3                     | 12                    | 2016                  | Abbotsford            | 2                     | 1480000               | S                     | 82                    | 3067                  | 2.873029              | 1                     | 1                     | 202                   | -37.7996              | 144.9984              | Northern Metropolitan | 191                   | 1                     |\n",
       "| 4                     |  2                    | 2016                  | Abbotsford            | 2                     | 1035000               | S                     | 82                    | 3067                  | 2.873029              | 1                     | 0                     | 156                   | -37.8079              | 144.9934              | Northern Metropolitan | 191                   | 1                     |\n",
       "| 4                     |  2                    | 2016                  | Abbotsford            | 3                     | 1050173               | VB                    | 82                    | 3067                  | 3.000000              | 2                     | 1                     |   0                   | -37.8114              | 145.0116              | Northern Metropolitan | 191                   | 2                     |\n",
       "| 4                     |  3                    | 2017                  | Abbotsford            | 3                     | 1465000               | SP                    | 82                    | 3067                  | 3.000000              | 2                     | 0                     | 134                   | -37.8093              | 144.9944              | Northern Metropolitan | 191                   | 1                     |\n",
       "| 4                     |  3                    | 2017                  | Abbotsford            | 3                     |  850000               | PI                    | 82                    | 3067                  | 3.000000              | 2                     | 1                     |  94                   | -37.7969              | 144.9969              | Northern Metropolitan | 191                   | 1                     |\n",
       "\n"
      ],
      "text/plain": [
       "  day month year Suburb     Rooms Price   Method Distance Postcode Bedroom2\n",
       "1 3    9    2016 Abbotsford 2     1050173 SS     82       3067     2.873029\n",
       "2 3   12    2016 Abbotsford 2     1480000 S      82       3067     2.873029\n",
       "3 4    2    2016 Abbotsford 2     1035000 S      82       3067     2.873029\n",
       "4 4    2    2016 Abbotsford 3     1050173 VB     82       3067     3.000000\n",
       "5 4    3    2017 Abbotsford 3     1465000 SP     82       3067     3.000000\n",
       "6 4    3    2017 Abbotsford 3      850000 PI     82       3067     3.000000\n",
       "  Bathroom Car Landsize Lattitude Longtitude Regionname           \n",
       "1 1        1   126      -37.8014  144.9958   Northern Metropolitan\n",
       "2 1        1   202      -37.7996  144.9984   Northern Metropolitan\n",
       "3 1        0   156      -37.8079  144.9934   Northern Metropolitan\n",
       "4 2        1     0      -37.8114  145.0116   Northern Metropolitan\n",
       "5 2        0   134      -37.8093  144.9944   Northern Metropolitan\n",
       "6 2        1    94      -37.7969  144.9969   Northern Metropolitan\n",
       "  Propertycount Type\n",
       "1 191           1   \n",
       "2 191           1   \n",
       "3 191           1   \n",
       "4 191           2   \n",
       "5 191           1   \n",
       "6 191           1   "
      ]
     },
     "metadata": {},
     "output_type": "display_data"
    }
   ],
   "source": [
    "# Splitting the Date into day, month and year.###\n",
    "\n",
    "datetxt <- data$Date\n",
    "datetxt <- as.Date(datetxt,format=\"%d/%m/%Y\")\n",
    "df <- data.frame(day = as.numeric(format(datetxt, format = \"%d\")),\n",
    "                 month = as.numeric(format(datetxt, format = \"%m\")),\n",
    "                 year = as.numeric(format(datetxt, format = \"%Y\")))\n",
    "head(df)\n",
    "data = cbind(df,subset(data,select = -c(Date)))\n",
    "head(data)"
   ]
  },
  {
   "cell_type": "code",
   "execution_count": 25,
   "id": "5f3a9547",
   "metadata": {},
   "outputs": [
    {
     "name": "stdout",
     "output_type": "stream",
     "text": [
      "\n",
      "   1    3    4    6    7    8    9   10   11   12   13   14   15   16   17   18 \n",
      " 482 3024 1047 1281 1318 1266 1525 1419  926 1097  654 1000  887 1282 2496 1820 \n",
      "  19   20   21   22   23   24   25   26   27   28   29   30 \n",
      " 953  476  658 1304  911 1925 1457  846 1714 1966  830  293 \n",
      "\n",
      "   1    2    3    4    5    6    7    8    9   10   11   12 \n",
      " 821 2642 3094 1520 3416 3175 2959 2888 4128 3900 4387 1927 \n",
      "\n",
      " 2016  2017  2018 \n",
      "10292 19852  4713 \n"
     ]
    }
   ],
   "source": [
    "# Find the frequency of date, month and year. ###\n",
    "\n",
    "print(table(data$day))\n",
    "print(table(data$month))\n",
    "print(table(data$year))"
   ]
  },
  {
   "cell_type": "markdown",
   "id": "b0270932",
   "metadata": {},
   "source": [
    "# Frequency barplot for Years vs Houses Sold"
   ]
  },
  {
   "cell_type": "code",
   "execution_count": 26,
   "id": "d727490d",
   "metadata": {},
   "outputs": [
    {
     "data": {
      "image/png": "[encoded data removed]",
      "text/plain": [
       "Plot with title \"Years Vs. Houses Sold\""
      ]
     },
     "metadata": {},
     "output_type": "display_data"
    }
   ],
   "source": [
    "barplot(table(data$year), main=\"Years Vs. Houses Sold\", col=\"lightyellow\",xlab = \"Years\", ylab=\"Houses Sold\")"
   ]
  },
  {
   "cell_type": "markdown",
   "id": "2b68344f",
   "metadata": {},
   "source": [
    "# Scaling the Data (Inorder to decrease spread) = Z = x - µ / σ\n"
   ]
  },
  {
   "cell_type": "code",
   "execution_count": 27,
   "id": "7e075cda",
   "metadata": {},
   "outputs": [
    {
     "data": {
      "text/html": [
       "'data.frame'"
      ],
      "text/latex": [
       "'data.frame'"
      ],
      "text/markdown": [
       "'data.frame'"
      ],
      "text/plain": [
       "[1] \"data.frame\""
      ]
     },
     "metadata": {},
     "output_type": "display_data"
    },
    {
     "data": {
      "text/html": [
       "<ol class=list-inline>\n",
       "\t<li>'day'</li>\n",
       "\t<li>'month'</li>\n",
       "\t<li>'year'</li>\n",
       "\t<li>'Suburb'</li>\n",
       "\t<li>'Rooms'</li>\n",
       "\t<li>'Price'</li>\n",
       "\t<li>'Method'</li>\n",
       "\t<li>'Distance'</li>\n",
       "\t<li>'Postcode'</li>\n",
       "\t<li>'Bedroom2'</li>\n",
       "\t<li>'Bathroom'</li>\n",
       "\t<li>'Car'</li>\n",
       "\t<li>'Landsize'</li>\n",
       "\t<li>'Lattitude'</li>\n",
       "\t<li>'Longtitude'</li>\n",
       "\t<li>'Regionname'</li>\n",
       "\t<li>'Propertycount'</li>\n",
       "\t<li>'Type'</li>\n",
       "</ol>\n"
      ],
      "text/latex": [
       "\\begin{enumerate*}\n",
       "\\item 'day'\n",
       "\\item 'month'\n",
       "\\item 'year'\n",
       "\\item 'Suburb'\n",
       "\\item 'Rooms'\n",
       "\\item 'Price'\n",
       "\\item 'Method'\n",
       "\\item 'Distance'\n",
       "\\item 'Postcode'\n",
       "\\item 'Bedroom2'\n",
       "\\item 'Bathroom'\n",
       "\\item 'Car'\n",
       "\\item 'Landsize'\n",
       "\\item 'Lattitude'\n",
       "\\item 'Longtitude'\n",
       "\\item 'Regionname'\n",
       "\\item 'Propertycount'\n",
       "\\item 'Type'\n",
       "\\end{enumerate*}\n"
      ],
      "text/markdown": [
       "1. 'day'\n",
       "2. 'month'\n",
       "3. 'year'\n",
       "4. 'Suburb'\n",
       "5. 'Rooms'\n",
       "6. 'Price'\n",
       "7. 'Method'\n",
       "8. 'Distance'\n",
       "9. 'Postcode'\n",
       "10. 'Bedroom2'\n",
       "11. 'Bathroom'\n",
       "12. 'Car'\n",
       "13. 'Landsize'\n",
       "14. 'Lattitude'\n",
       "15. 'Longtitude'\n",
       "16. 'Regionname'\n",
       "17. 'Propertycount'\n",
       "18. 'Type'\n",
       "\n",
       "\n"
      ],
      "text/plain": [
       " [1] \"day\"           \"month\"         \"year\"          \"Suburb\"       \n",
       " [5] \"Rooms\"         \"Price\"         \"Method\"        \"Distance\"     \n",
       " [9] \"Postcode\"      \"Bedroom2\"      \"Bathroom\"      \"Car\"          \n",
       "[13] \"Landsize\"      \"Lattitude\"     \"Longtitude\"    \"Regionname\"   \n",
       "[17] \"Propertycount\" \"Type\"         "
      ]
     },
     "metadata": {},
     "output_type": "display_data"
    }
   ],
   "source": [
    "#Scaling the data numeric values. ###\n",
    "\n",
    "class(data)\n",
    "names(data)\n",
    "data$Price = as.numeric(scale(data$Price))\n",
    "data$Distance = as.numeric(scale(data$Distance))\n",
    "data$Landsize = as.numeric(scale(data$Landsize))\n",
    "data$Propertycount = as.numeric(scale(data$Propertycount))\n",
    "data$Postcode = as.numeric(data$Postcode)\n",
    "data$Lattitude = as.numeric(data$Lattitude)\n",
    "data$Longtitude = as.numeric(data$Longtitude)"
   ]
  },
  {
   "cell_type": "code",
   "execution_count": 28,
   "id": "2a6d4e66",
   "metadata": {},
   "outputs": [
    {
     "name": "stdout",
     "output_type": "stream",
     "text": [
      "'data.frame':\t34857 obs. of  18 variables:\n",
      " $ day          : num  3 3 4 4 4 4 4 6 6 6 ...\n",
      " $ month        : num  9 12 2 2 3 3 6 8 8 8 ...\n",
      " $ year         : num  2016 2016 2016 2016 2017 ...\n",
      " $ Suburb       : Factor w/ 351 levels \"Abbotsford\",\"Aberfeldie\",..: 1 1 1 1 1 1 1 1 1 1 ...\n",
      " $ Rooms        : num  2 2 2 3 3 3 4 4 2 2 ...\n",
      " $ Price        : num  0.1312 1.2258 0.0925 0.1312 1.1876 ...\n",
      " $ Method       : Factor w/ 9 levels \"PI\",\"PN\",\"S\",..: 7 3 3 8 6 1 8 5 3 3 ...\n",
      " $ Distance     : num  -0.367 -0.367 -0.367 -0.367 -0.367 ...\n",
      " $ Postcode     : num  55 55 55 55 55 55 55 55 55 55 ...\n",
      " $ Bedroom2     : num  2.87 2.87 2.87 3 3 ...\n",
      " $ Bathroom     : num  1 1 1 2 2 2 1 2 1 2 ...\n",
      " $ Car          : num  1 1 0 1 0 1 2 2 2 1 ...\n",
      " $ Landsize     : num  -1.62 -1.3 -1.49 -2.15 -1.59 ...\n",
      " $ Lattitude    : num  -37.8 -37.8 -37.8 -37.8 -37.8 ...\n",
      " $ Longtitude   : num  145 145 145 145 145 ...\n",
      " $ Regionname   : Factor w/ 9 levels \"#N/A\",\"Eastern Metropolitan\",..: 4 4 4 4 4 4 4 4 4 4 ...\n",
      " $ Propertycount: num  0.127 0.127 0.127 0.127 0.127 ...\n",
      " $ Type         : num  1 1 1 2 1 1 1 1 1 1 ...\n"
     ]
    }
   ],
   "source": [
    "str(data)"
   ]
  },
  {
   "cell_type": "code",
   "execution_count": 29,
   "id": "5fd84a60",
   "metadata": {},
   "outputs": [
    {
     "data": {
      "text/html": [
       "<dl class=dl-horizontal>\n",
       "\t<dt>day</dt>\n",
       "\t\t<dd>0</dd>\n",
       "\t<dt>month</dt>\n",
       "\t\t<dd>0</dd>\n",
       "\t<dt>year</dt>\n",
       "\t\t<dd>0</dd>\n",
       "\t<dt>Rooms</dt>\n",
       "\t\t<dd>0</dd>\n",
       "\t<dt>Price</dt>\n",
       "\t\t<dd>0</dd>\n",
       "\t<dt>Method</dt>\n",
       "\t\t<dd>0</dd>\n",
       "\t<dt>Distance</dt>\n",
       "\t\t<dd>0</dd>\n",
       "\t<dt>Postcode</dt>\n",
       "\t\t<dd>0</dd>\n",
       "\t<dt>Bedroom2</dt>\n",
       "\t\t<dd>0</dd>\n",
       "\t<dt>Bathroom</dt>\n",
       "\t\t<dd>0</dd>\n",
       "\t<dt>Car</dt>\n",
       "\t\t<dd>0</dd>\n",
       "\t<dt>Landsize</dt>\n",
       "\t\t<dd>0</dd>\n",
       "\t<dt>Lattitude</dt>\n",
       "\t\t<dd>0</dd>\n",
       "\t<dt>Longtitude</dt>\n",
       "\t\t<dd>0</dd>\n",
       "\t<dt>Propertycount</dt>\n",
       "\t\t<dd>0</dd>\n",
       "\t<dt>Type</dt>\n",
       "\t\t<dd>0</dd>\n",
       "</dl>\n"
      ],
      "text/latex": [
       "\\begin{description*}\n",
       "\\item[day] 0\n",
       "\\item[month] 0\n",
       "\\item[year] 0\n",
       "\\item[Rooms] 0\n",
       "\\item[Price] 0\n",
       "\\item[Method] 0\n",
       "\\item[Distance] 0\n",
       "\\item[Postcode] 0\n",
       "\\item[Bedroom2] 0\n",
       "\\item[Bathroom] 0\n",
       "\\item[Car] 0\n",
       "\\item[Landsize] 0\n",
       "\\item[Lattitude] 0\n",
       "\\item[Longtitude] 0\n",
       "\\item[Propertycount] 0\n",
       "\\item[Type] 0\n",
       "\\end{description*}\n"
      ],
      "text/markdown": [
       "day\n",
       ":   0month\n",
       ":   0year\n",
       ":   0Rooms\n",
       ":   0Price\n",
       ":   0Method\n",
       ":   0Distance\n",
       ":   0Postcode\n",
       ":   0Bedroom2\n",
       ":   0Bathroom\n",
       ":   0Car\n",
       ":   0Landsize\n",
       ":   0Lattitude\n",
       ":   0Longtitude\n",
       ":   0Propertycount\n",
       ":   0Type\n",
       ":   0\n",
       "\n"
      ],
      "text/plain": [
       "          day         month          year         Rooms         Price \n",
       "            0             0             0             0             0 \n",
       "       Method      Distance      Postcode      Bedroom2      Bathroom \n",
       "            0             0             0             0             0 \n",
       "          Car      Landsize     Lattitude    Longtitude Propertycount \n",
       "            0             0             0             0             0 \n",
       "         Type \n",
       "            0 "
      ]
     },
     "metadata": {},
     "output_type": "display_data"
    }
   ],
   "source": [
    "#Reming columns of Suburb and Regionname.\n",
    "cols_to_be_removed=c(\"Suburb\",\"Regionname\")\n",
    "data = data[,!(names(data) %in% cols_to_be_removed) ]\n",
    "sapply(data, function(x) sum(is.na(x)))"
   ]
  },
  {
   "cell_type": "markdown",
   "id": "02f78ea5",
   "metadata": {},
   "source": [
    "# Performing One Hot Encoding for the categorical nominal variables\n"
   ]
  },
  {
   "cell_type": "code",
   "execution_count": 30,
   "id": "3330c63b",
   "metadata": {},
   "outputs": [],
   "source": [
    "#converting method into numeric. ###\n",
    "\n",
    "mel4 <- data\n",
    "mel4$Method = as.character(mel4$Method)\n",
    "mel4$Method[mel4$Method == 'PI'] <- 1\n",
    "mel4$Method[mel4$Method == 'PN'] <- 2\n",
    "mel4$Method[mel4$Method == 'S'] <- 3\n",
    "mel4$Method[mel4$Method == 'SA'] <- 4\n",
    "mel4$Method[mel4$Method == 'SN'] <- 5\n",
    "mel4$Method[mel4$Method == 'SP'] <- 6\n",
    "mel4$Method[mel4$Method == 'SS'] <- 7\n",
    "mel4$Method[mel4$Method == 'VB'] <- 8\n",
    "mel4$Method[mel4$Method == 'W'] <- 9\n"
   ]
  },
  {
   "cell_type": "code",
   "execution_count": 31,
   "id": "ab0871fb",
   "metadata": {},
   "outputs": [],
   "source": [
    "mel4$Method = as.numeric(mel4$Method)\n",
    "#mel4$Regionname <- as.numeric(mel4$Regionname)"
   ]
  },
  {
   "cell_type": "code",
   "execution_count": 32,
   "id": "73c32f69",
   "metadata": {},
   "outputs": [
    {
     "name": "stdout",
     "output_type": "stream",
     "text": [
      "'data.frame':\t34857 obs. of  16 variables:\n",
      " $ day          : num  3 3 4 4 4 4 4 6 6 6 ...\n",
      " $ month        : num  9 12 2 2 3 3 6 8 8 8 ...\n",
      " $ year         : num  2016 2016 2016 2016 2017 ...\n",
      " $ Rooms        : num  2 2 2 3 3 3 4 4 2 2 ...\n",
      " $ Price        : num  0.1312 1.2258 0.0925 0.1312 1.1876 ...\n",
      " $ Method       : num  7 3 3 8 6 1 8 5 3 3 ...\n",
      " $ Distance     : num  -0.367 -0.367 -0.367 -0.367 -0.367 ...\n",
      " $ Postcode     : num  55 55 55 55 55 55 55 55 55 55 ...\n",
      " $ Bedroom2     : num  2.87 2.87 2.87 3 3 ...\n",
      " $ Bathroom     : num  1 1 1 2 2 2 1 2 1 2 ...\n",
      " $ Car          : num  1 1 0 1 0 1 2 2 2 1 ...\n",
      " $ Landsize     : num  -1.62 -1.3 -1.49 -2.15 -1.59 ...\n",
      " $ Lattitude    : num  -37.8 -37.8 -37.8 -37.8 -37.8 ...\n",
      " $ Longtitude   : num  145 145 145 145 145 ...\n",
      " $ Propertycount: num  0.127 0.127 0.127 0.127 0.127 ...\n",
      " $ Type         : num  1 1 1 2 1 1 1 1 1 1 ...\n"
     ]
    }
   ],
   "source": [
    "Data <- mel4\n",
    "str(Data)"
   ]
  },
  {
   "cell_type": "markdown",
   "id": "0b1cadea",
   "metadata": {},
   "source": [
    "# Splitting the Data into train and test."
   ]
  },
  {
   "cell_type": "code",
   "execution_count": 33,
   "id": "ee7cefb8",
   "metadata": {},
   "outputs": [],
   "source": [
    "set.seed(2713)\n",
    "\n",
    "#use 70% of dataset as training set and 30% as test set\n",
    "s <- sample(c(TRUE, FALSE), nrow(mel4), replace=TRUE, prob=c(0.7,0.3))\n",
    "train  <- Data[s, ]\n",
    "test   <- Data[!s, ]"
   ]
  },
  {
   "cell_type": "code",
   "execution_count": 34,
   "id": "e61fb848",
   "metadata": {},
   "outputs": [
    {
     "name": "stdout",
     "output_type": "stream",
     "text": [
      "[1] 24377\n",
      "[1] 10480\n"
     ]
    }
   ],
   "source": [
    "###  Reviewing splitted dataset. ###\n",
    "\n",
    "print(nrow(train))\n",
    "print(nrow(test))"
   ]
  },
  {
   "cell_type": "markdown",
   "id": "1fa6e3b4",
   "metadata": {},
   "source": [
    "# Applying Multinomial Logistic Regression-"
   ]
  },
  {
   "cell_type": "code",
   "execution_count": 35,
   "id": "392a2ea6",
   "metadata": {},
   "outputs": [
    {
     "name": "stdout",
     "output_type": "stream",
     "text": [
      "# weights:  51 (32 variable)\n",
      "initial  value 26780.871761 \n",
      "iter  10 value 18689.779819\n",
      "iter  20 value 17877.414807\n",
      "iter  30 value 14000.888881\n",
      "iter  40 value 13263.375836\n",
      "iter  50 value 13263.029342\n",
      "final  value 13262.637477 \n",
      "converged\n"
     ]
    }
   ],
   "source": [
    "model <- multinom(Type ~ ., family=binomial(link='logit'), data=train)"
   ]
  },
  {
   "cell_type": "code",
   "execution_count": 36,
   "id": "307baf20",
   "metadata": {},
   "outputs": [
    {
     "data": {
      "text/plain": [
       "Call:\n",
       "multinom(formula = Type ~ ., data = train, family = binomial(link = \"logit\"))\n",
       "\n",
       "Coefficients:\n",
       "  (Intercept)          day       month        year     Rooms      Price\n",
       "2    30.71182 0.0004379871 -0.02172406 -0.14413961 -2.825628 -1.1411628\n",
       "3   -68.61175 0.0012938513 -0.01704277 -0.06811419 -1.318177 -0.4678983\n",
       "       Method    Distance     Postcode Bedroom2  Bathroom         Car\n",
       "2 0.030027286 -0.02955054 0.0055894613 6.340399 0.4829892 -0.21168223\n",
       "3 0.007199309 -0.14146997 0.0001292413 4.634107 0.9731240 -0.03434466\n",
       "    Landsize Lattitude Longtitude Propertycount\n",
       "2 -0.4284102 -2.895670  0.9415249    0.07629418\n",
       "3 -0.5406837 -2.171898  0.7613338    0.08805790\n",
       "\n",
       "Std. Errors:\n",
       "   (Intercept)         day       month         year      Rooms      Price\n",
       "2 2.318981e-06 0.002726283 0.007283733 9.383574e-05 0.04263693 0.03290561\n",
       "3 2.075620e-06 0.002696963 0.007110531 6.720086e-05 0.03749287 0.02833064\n",
       "      Method   Distance     Postcode    Bedroom2   Bathroom        Car\n",
       "2 0.01172315 0.02373495 0.0004375620 0.003641952 0.05583759 0.03996805\n",
       "3 0.01148734 0.02365758 0.0004439815 0.003434234 0.04689550 0.03696162\n",
       "    Landsize    Lattitude  Longtitude Propertycount\n",
       "2 0.02270372 0.0007399941 0.000785490    0.02280530\n",
       "3 0.02489786 0.0004465418 0.000411493    0.02284669\n",
       "\n",
       "Residual Deviance: 26525.27 \n",
       "AIC: 26589.27 "
      ]
     },
     "metadata": {},
     "output_type": "display_data"
    }
   ],
   "source": [
    "summary(model)"
   ]
  },
  {
   "cell_type": "code",
   "execution_count": 37,
   "id": "04edf8d3",
   "metadata": {},
   "outputs": [
    {
     "data": {
      "text/html": [
       "<table>\n",
       "<thead><tr><th></th><th scope=col>day</th><th scope=col>month</th><th scope=col>year</th><th scope=col>Rooms</th><th scope=col>Price</th><th scope=col>Method</th><th scope=col>Distance</th><th scope=col>Postcode</th><th scope=col>Bedroom2</th><th scope=col>Bathroom</th><th scope=col>Car</th><th scope=col>Landsize</th><th scope=col>Lattitude</th><th scope=col>Type</th></tr></thead>\n",
       "<tbody>\n",
       "\t<tr><th scope=row>day</th><td> 1.000000000 </td><td> 9.070492e-03</td><td>-0.07893565  </td><td> 0.013979015 </td><td> 0.02315432  </td><td>-4.186213e-03</td><td> 0.001966974 </td><td> 0.005967628 </td><td> 0.002063748 </td><td>-0.008746204 </td><td>-0.00615439  </td><td>-0.006945608 </td><td>-0.002552279 </td><td>-0.008310344 </td></tr>\n",
       "\t<tr><th scope=row>month</th><td> 0.009070492 </td><td> 1.000000e+00</td><td>-0.49065332  </td><td> 0.011283569 </td><td> 0.01250116  </td><td>-9.486322e-05</td><td>-0.012141415 </td><td> 0.018104471 </td><td> 0.014420732 </td><td> 0.009704746 </td><td> 0.01437667  </td><td> 0.035097201 </td><td>-0.018296788 </td><td>-0.018521631 </td></tr>\n",
       "\t<tr><th scope=row>year</th><td>-0.078935653 </td><td>-4.906533e-01</td><td> 1.00000000  </td><td> 0.085833727 </td><td>-0.01631222  </td><td> 2.570742e-02</td><td>-0.070364094 </td><td> 0.062697752 </td><td> 0.174107192 </td><td> 0.087814967 </td><td> 0.13286571  </td><td> 0.216248335 </td><td> 0.021500458 </td><td>-0.044526507 </td></tr>\n",
       "\t<tr><th scope=row>Rooms</th><td> 0.013979015 </td><td> 1.128357e-02</td><td> 0.08583373  </td><td> 1.000000000 </td><td> 0.43778734  </td><td>-2.997582e-02</td><td>-0.099429564 </td><td> 0.055136887 </td><td> 0.739606741 </td><td> 0.533733809 </td><td> 0.37221478  </td><td> 0.346500624 </td><td> 0.004074646 </td><td>-0.367876850 </td></tr>\n",
       "\t<tr><th scope=row>Price</th><td> 0.023154323 </td><td> 1.250116e-02</td><td>-0.01631222  </td><td> 0.437787345 </td><td> 1.00000000  </td><td>-1.994995e-02</td><td> 0.078240155 </td><td> 0.193372557 </td><td> 0.296176045 </td><td> 0.304490406 </td><td> 0.16625074  </td><td> 0.161780863 </td><td>-0.199511811 </td><td>-0.275334516 </td></tr>\n",
       "\t<tr><th scope=row>Method</th><td>-0.004186213 </td><td>-9.486322e-05</td><td> 0.02570742  </td><td>-0.029975819 </td><td>-0.01994995  </td><td> 1.000000e+00</td><td> 0.054995859 </td><td>-0.013847955 </td><td>-0.005930450 </td><td> 0.004018339 </td><td>-0.01213158  </td><td>-0.006800083 </td><td>-0.013652765 </td><td> 0.025057285 </td></tr>\n",
       "\t<tr><th scope=row>Distance</th><td> 0.001966974 </td><td>-1.214141e-02</td><td>-0.07036409  </td><td>-0.099429564 </td><td> 0.07824015  </td><td> 5.499586e-02</td><td> 1.000000000 </td><td>-0.115776594 </td><td>-0.097276892 </td><td>-0.050118099 </td><td>-0.08078511  </td><td>-0.124848067 </td><td> 0.046022200 </td><td> 0.001846815 </td></tr>\n",
       "\t<tr><th scope=row>Postcode</th><td> 0.005967628 </td><td> 1.810447e-02</td><td> 0.06269775  </td><td> 0.055136887 </td><td> 0.19337256  </td><td>-1.384796e-02</td><td>-0.115776594 </td><td> 1.000000000 </td><td> 0.068075436 </td><td> 0.118042888 </td><td> 0.04992213  </td><td> 0.068409145 </td><td>-0.454739850 </td><td> 0.024578843 </td></tr>\n",
       "\t<tr><th scope=row>Bedroom2</th><td> 0.002063748 </td><td> 1.442073e-02</td><td> 0.17410719  </td><td> 0.739606741 </td><td> 0.29617605  </td><td>-5.930450e-03</td><td>-0.097276892 </td><td> 0.068075436 </td><td> 1.000000000 </td><td> 0.589638065 </td><td> 0.40611044  </td><td> 0.444620707 </td><td>-0.004393009 </td><td>-0.207043804 </td></tr>\n",
       "\t<tr><th scope=row>Bathroom</th><td>-0.008746204 </td><td> 9.704746e-03</td><td> 0.08781497  </td><td> 0.533733809 </td><td> 0.30449041  </td><td> 4.018339e-03</td><td>-0.050118099 </td><td> 0.118042888 </td><td> 0.589638065 </td><td> 1.000000000 </td><td> 0.33943578  </td><td> 0.212332247 </td><td>-0.058406267 </td><td>-0.059667216 </td></tr>\n",
       "\t<tr><th scope=row>Car</th><td>-0.006154390 </td><td> 1.437667e-02</td><td> 0.13286571  </td><td> 0.372214784 </td><td> 0.16625074  </td><td>-1.213158e-02</td><td>-0.080785106 </td><td> 0.049922133 </td><td> 0.406110444 </td><td> 0.339435777 </td><td> 1.00000000  </td><td> 0.368425570 </td><td>-0.016470072 </td><td>-0.153580805 </td></tr>\n",
       "\t<tr><th scope=row>Landsize</th><td>-0.006945608 </td><td> 3.509720e-02</td><td> 0.21624834  </td><td> 0.346500624 </td><td> 0.16178086  </td><td>-6.800083e-03</td><td>-0.124848067 </td><td> 0.068409145 </td><td> 0.444620707 </td><td> 0.212332247 </td><td> 0.36842557  </td><td> 1.000000000 </td><td> 0.007817265 </td><td>-0.237369078 </td></tr>\n",
       "\t<tr><th scope=row>Lattitude</th><td>-0.002552279 </td><td>-1.829679e-02</td><td> 0.02150046  </td><td> 0.004074646 </td><td>-0.19951181  </td><td>-1.365277e-02</td><td> 0.046022200 </td><td>-0.454739850 </td><td>-0.004393009 </td><td>-0.058406267 </td><td>-0.01647007  </td><td> 0.007817265 </td><td> 1.000000000 </td><td>-0.062467541 </td></tr>\n",
       "\t<tr><th scope=row>Type</th><td>-0.008310344 </td><td>-1.852163e-02</td><td>-0.04452651  </td><td>-0.367876850 </td><td>-0.27533452  </td><td> 2.505729e-02</td><td> 0.001846815 </td><td> 0.024578843 </td><td>-0.207043804 </td><td>-0.059667216 </td><td>-0.15358081  </td><td>-0.237369078 </td><td>-0.062467541 </td><td> 1.000000000 </td></tr>\n",
       "</tbody>\n",
       "</table>\n"
      ],
      "text/latex": [
       "\\begin{tabular}{r|llllllllllllll}\n",
       "  & day & month & year & Rooms & Price & Method & Distance & Postcode & Bedroom2 & Bathroom & Car & Landsize & Lattitude & Type\\\\\n",
       "\\hline\n",
       "\tday &  1.000000000  &  9.070492e-03 & -0.07893565   &  0.013979015  &  0.02315432   & -4.186213e-03 &  0.001966974  &  0.005967628  &  0.002063748  & -0.008746204  & -0.00615439   & -0.006945608  & -0.002552279  & -0.008310344 \\\\\n",
       "\tmonth &  0.009070492  &  1.000000e+00 & -0.49065332   &  0.011283569  &  0.01250116   & -9.486322e-05 & -0.012141415  &  0.018104471  &  0.014420732  &  0.009704746  &  0.01437667   &  0.035097201  & -0.018296788  & -0.018521631 \\\\\n",
       "\tyear & -0.078935653  & -4.906533e-01 &  1.00000000   &  0.085833727  & -0.01631222   &  2.570742e-02 & -0.070364094  &  0.062697752  &  0.174107192  &  0.087814967  &  0.13286571   &  0.216248335  &  0.021500458  & -0.044526507 \\\\\n",
       "\tRooms &  0.013979015  &  1.128357e-02 &  0.08583373   &  1.000000000  &  0.43778734   & -2.997582e-02 & -0.099429564  &  0.055136887  &  0.739606741  &  0.533733809  &  0.37221478   &  0.346500624  &  0.004074646  & -0.367876850 \\\\\n",
       "\tPrice &  0.023154323  &  1.250116e-02 & -0.01631222   &  0.437787345  &  1.00000000   & -1.994995e-02 &  0.078240155  &  0.193372557  &  0.296176045  &  0.304490406  &  0.16625074   &  0.161780863  & -0.199511811  & -0.275334516 \\\\\n",
       "\tMethod & -0.004186213  & -9.486322e-05 &  0.02570742   & -0.029975819  & -0.01994995   &  1.000000e+00 &  0.054995859  & -0.013847955  & -0.005930450  &  0.004018339  & -0.01213158   & -0.006800083  & -0.013652765  &  0.025057285 \\\\\n",
       "\tDistance &  0.001966974  & -1.214141e-02 & -0.07036409   & -0.099429564  &  0.07824015   &  5.499586e-02 &  1.000000000  & -0.115776594  & -0.097276892  & -0.050118099  & -0.08078511   & -0.124848067  &  0.046022200  &  0.001846815 \\\\\n",
       "\tPostcode &  0.005967628  &  1.810447e-02 &  0.06269775   &  0.055136887  &  0.19337256   & -1.384796e-02 & -0.115776594  &  1.000000000  &  0.068075436  &  0.118042888  &  0.04992213   &  0.068409145  & -0.454739850  &  0.024578843 \\\\\n",
       "\tBedroom2 &  0.002063748  &  1.442073e-02 &  0.17410719   &  0.739606741  &  0.29617605   & -5.930450e-03 & -0.097276892  &  0.068075436  &  1.000000000  &  0.589638065  &  0.40611044   &  0.444620707  & -0.004393009  & -0.207043804 \\\\\n",
       "\tBathroom & -0.008746204  &  9.704746e-03 &  0.08781497   &  0.533733809  &  0.30449041   &  4.018339e-03 & -0.050118099  &  0.118042888  &  0.589638065  &  1.000000000  &  0.33943578   &  0.212332247  & -0.058406267  & -0.059667216 \\\\\n",
       "\tCar & -0.006154390  &  1.437667e-02 &  0.13286571   &  0.372214784  &  0.16625074   & -1.213158e-02 & -0.080785106  &  0.049922133  &  0.406110444  &  0.339435777  &  1.00000000   &  0.368425570  & -0.016470072  & -0.153580805 \\\\\n",
       "\tLandsize & -0.006945608  &  3.509720e-02 &  0.21624834   &  0.346500624  &  0.16178086   & -6.800083e-03 & -0.124848067  &  0.068409145  &  0.444620707  &  0.212332247  &  0.36842557   &  1.000000000  &  0.007817265  & -0.237369078 \\\\\n",
       "\tLattitude & -0.002552279  & -1.829679e-02 &  0.02150046   &  0.004074646  & -0.19951181   & -1.365277e-02 &  0.046022200  & -0.454739850  & -0.004393009  & -0.058406267  & -0.01647007   &  0.007817265  &  1.000000000  & -0.062467541 \\\\\n",
       "\tType & -0.008310344  & -1.852163e-02 & -0.04452651   & -0.367876850  & -0.27533452   &  2.505729e-02 &  0.001846815  &  0.024578843  & -0.207043804  & -0.059667216  & -0.15358081   & -0.237369078  & -0.062467541  &  1.000000000 \\\\\n",
       "\\end{tabular}\n"
      ],
      "text/markdown": [
       "\n",
       "| <!--/--> | day | month | year | Rooms | Price | Method | Distance | Postcode | Bedroom2 | Bathroom | Car | Landsize | Lattitude | Type |\n",
       "|---|---|---|---|---|---|---|---|---|---|---|---|---|---|---|\n",
       "| day |  1.000000000  |  9.070492e-03 | -0.07893565   |  0.013979015  |  0.02315432   | -4.186213e-03 |  0.001966974  |  0.005967628  |  0.002063748  | -0.008746204  | -0.00615439   | -0.006945608  | -0.002552279  | -0.008310344  |\n",
       "| month |  0.009070492  |  1.000000e+00 | -0.49065332   |  0.011283569  |  0.01250116   | -9.486322e-05 | -0.012141415  |  0.018104471  |  0.014420732  |  0.009704746  |  0.01437667   |  0.035097201  | -0.018296788  | -0.018521631  |\n",
       "| year | -0.078935653  | -4.906533e-01 |  1.00000000   |  0.085833727  | -0.01631222   |  2.570742e-02 | -0.070364094  |  0.062697752  |  0.174107192  |  0.087814967  |  0.13286571   |  0.216248335  |  0.021500458  | -0.044526507  |\n",
       "| Rooms |  0.013979015  |  1.128357e-02 |  0.08583373   |  1.000000000  |  0.43778734   | -2.997582e-02 | -0.099429564  |  0.055136887  |  0.739606741  |  0.533733809  |  0.37221478   |  0.346500624  |  0.004074646  | -0.367876850  |\n",
       "| Price |  0.023154323  |  1.250116e-02 | -0.01631222   |  0.437787345  |  1.00000000   | -1.994995e-02 |  0.078240155  |  0.193372557  |  0.296176045  |  0.304490406  |  0.16625074   |  0.161780863  | -0.199511811  | -0.275334516  |\n",
       "| Method | -0.004186213  | -9.486322e-05 |  0.02570742   | -0.029975819  | -0.01994995   |  1.000000e+00 |  0.054995859  | -0.013847955  | -0.005930450  |  0.004018339  | -0.01213158   | -0.006800083  | -0.013652765  |  0.025057285  |\n",
       "| Distance |  0.001966974  | -1.214141e-02 | -0.07036409   | -0.099429564  |  0.07824015   |  5.499586e-02 |  1.000000000  | -0.115776594  | -0.097276892  | -0.050118099  | -0.08078511   | -0.124848067  |  0.046022200  |  0.001846815  |\n",
       "| Postcode |  0.005967628  |  1.810447e-02 |  0.06269775   |  0.055136887  |  0.19337256   | -1.384796e-02 | -0.115776594  |  1.000000000  |  0.068075436  |  0.118042888  |  0.04992213   |  0.068409145  | -0.454739850  |  0.024578843  |\n",
       "| Bedroom2 |  0.002063748  |  1.442073e-02 |  0.17410719   |  0.739606741  |  0.29617605   | -5.930450e-03 | -0.097276892  |  0.068075436  |  1.000000000  |  0.589638065  |  0.40611044   |  0.444620707  | -0.004393009  | -0.207043804  |\n",
       "| Bathroom | -0.008746204  |  9.704746e-03 |  0.08781497   |  0.533733809  |  0.30449041   |  4.018339e-03 | -0.050118099  |  0.118042888  |  0.589638065  |  1.000000000  |  0.33943578   |  0.212332247  | -0.058406267  | -0.059667216  |\n",
       "| Car | -0.006154390  |  1.437667e-02 |  0.13286571   |  0.372214784  |  0.16625074   | -1.213158e-02 | -0.080785106  |  0.049922133  |  0.406110444  |  0.339435777  |  1.00000000   |  0.368425570  | -0.016470072  | -0.153580805  |\n",
       "| Landsize | -0.006945608  |  3.509720e-02 |  0.21624834   |  0.346500624  |  0.16178086   | -6.800083e-03 | -0.124848067  |  0.068409145  |  0.444620707  |  0.212332247  |  0.36842557   |  1.000000000  |  0.007817265  | -0.237369078  |\n",
       "| Lattitude | -0.002552279  | -1.829679e-02 |  0.02150046   |  0.004074646  | -0.19951181   | -1.365277e-02 |  0.046022200  | -0.454739850  | -0.004393009  | -0.058406267  | -0.01647007   |  0.007817265  |  1.000000000  | -0.062467541  |\n",
       "| Type | -0.008310344  | -1.852163e-02 | -0.04452651   | -0.367876850  | -0.27533452   |  2.505729e-02 |  0.001846815  |  0.024578843  | -0.207043804  | -0.059667216  | -0.15358081   | -0.237369078  | -0.062467541  |  1.000000000  |\n",
       "\n"
      ],
      "text/plain": [
       "          day          month         year        Rooms        Price      \n",
       "day        1.000000000  9.070492e-03 -0.07893565  0.013979015  0.02315432\n",
       "month      0.009070492  1.000000e+00 -0.49065332  0.011283569  0.01250116\n",
       "year      -0.078935653 -4.906533e-01  1.00000000  0.085833727 -0.01631222\n",
       "Rooms      0.013979015  1.128357e-02  0.08583373  1.000000000  0.43778734\n",
       "Price      0.023154323  1.250116e-02 -0.01631222  0.437787345  1.00000000\n",
       "Method    -0.004186213 -9.486322e-05  0.02570742 -0.029975819 -0.01994995\n",
       "Distance   0.001966974 -1.214141e-02 -0.07036409 -0.099429564  0.07824015\n",
       "Postcode   0.005967628  1.810447e-02  0.06269775  0.055136887  0.19337256\n",
       "Bedroom2   0.002063748  1.442073e-02  0.17410719  0.739606741  0.29617605\n",
       "Bathroom  -0.008746204  9.704746e-03  0.08781497  0.533733809  0.30449041\n",
       "Car       -0.006154390  1.437667e-02  0.13286571  0.372214784  0.16625074\n",
       "Landsize  -0.006945608  3.509720e-02  0.21624834  0.346500624  0.16178086\n",
       "Lattitude -0.002552279 -1.829679e-02  0.02150046  0.004074646 -0.19951181\n",
       "Type      -0.008310344 -1.852163e-02 -0.04452651 -0.367876850 -0.27533452\n",
       "          Method        Distance     Postcode     Bedroom2     Bathroom    \n",
       "day       -4.186213e-03  0.001966974  0.005967628  0.002063748 -0.008746204\n",
       "month     -9.486322e-05 -0.012141415  0.018104471  0.014420732  0.009704746\n",
       "year       2.570742e-02 -0.070364094  0.062697752  0.174107192  0.087814967\n",
       "Rooms     -2.997582e-02 -0.099429564  0.055136887  0.739606741  0.533733809\n",
       "Price     -1.994995e-02  0.078240155  0.193372557  0.296176045  0.304490406\n",
       "Method     1.000000e+00  0.054995859 -0.013847955 -0.005930450  0.004018339\n",
       "Distance   5.499586e-02  1.000000000 -0.115776594 -0.097276892 -0.050118099\n",
       "Postcode  -1.384796e-02 -0.115776594  1.000000000  0.068075436  0.118042888\n",
       "Bedroom2  -5.930450e-03 -0.097276892  0.068075436  1.000000000  0.589638065\n",
       "Bathroom   4.018339e-03 -0.050118099  0.118042888  0.589638065  1.000000000\n",
       "Car       -1.213158e-02 -0.080785106  0.049922133  0.406110444  0.339435777\n",
       "Landsize  -6.800083e-03 -0.124848067  0.068409145  0.444620707  0.212332247\n",
       "Lattitude -1.365277e-02  0.046022200 -0.454739850 -0.004393009 -0.058406267\n",
       "Type       2.505729e-02  0.001846815  0.024578843 -0.207043804 -0.059667216\n",
       "          Car         Landsize     Lattitude    Type        \n",
       "day       -0.00615439 -0.006945608 -0.002552279 -0.008310344\n",
       "month      0.01437667  0.035097201 -0.018296788 -0.018521631\n",
       "year       0.13286571  0.216248335  0.021500458 -0.044526507\n",
       "Rooms      0.37221478  0.346500624  0.004074646 -0.367876850\n",
       "Price      0.16625074  0.161780863 -0.199511811 -0.275334516\n",
       "Method    -0.01213158 -0.006800083 -0.013652765  0.025057285\n",
       "Distance  -0.08078511 -0.124848067  0.046022200  0.001846815\n",
       "Postcode   0.04992213  0.068409145 -0.454739850  0.024578843\n",
       "Bedroom2   0.40611044  0.444620707 -0.004393009 -0.207043804\n",
       "Bathroom   0.33943578  0.212332247 -0.058406267 -0.059667216\n",
       "Car        1.00000000  0.368425570 -0.016470072 -0.153580805\n",
       "Landsize   0.36842557  1.000000000  0.007817265 -0.237369078\n",
       "Lattitude -0.01647007  0.007817265  1.000000000 -0.062467541\n",
       "Type      -0.15358081 -0.237369078 -0.062467541  1.000000000"
      ]
     },
     "metadata": {},
     "output_type": "display_data"
    }
   ],
   "source": [
    "cor(cbind(Data[1:13],data.frame(Type=typeAtr)))\n"
   ]
  },
  {
   "cell_type": "markdown",
   "id": "ed0fa50e",
   "metadata": {},
   "source": [
    "# Corrplot for visualising the correlations"
   ]
  },
  {
   "cell_type": "code",
   "execution_count": 38,
   "id": "e4336f3b",
   "metadata": {},
   "outputs": [
    {
     "data": {
      "image/png": "[encoded data removed]",
      "text/plain": [
       "Plot with title \"\""
      ]
     },
     "metadata": {},
     "output_type": "display_data"
    }
   ],
   "source": [
    "#### Corelation plot for the data. ###\n",
    "\n",
    "corrplot(cor(Data[1:13]), method = \"color\", addCoef.col = \"darkgray\", order = \"AOE\")"
   ]
  },
  {
   "cell_type": "code",
   "execution_count": 39,
   "id": "677a648c",
   "metadata": {},
   "outputs": [
    {
     "data": {
      "text/html": [
       "<ol class=list-inline>\n",
       "\t<li>1</li>\n",
       "\t<li>1</li>\n",
       "\t<li>2</li>\n",
       "\t<li>2</li>\n",
       "\t<li>1</li>\n",
       "\t<li>1</li>\n",
       "</ol>\n",
       "\n",
       "<details>\n",
       "\t<summary style=display:list-item;cursor:pointer>\n",
       "\t\t<strong>Levels</strong>:\n",
       "\t</summary>\n",
       "\t<ol class=list-inline>\n",
       "\t\t<li>'1'</li>\n",
       "\t\t<li>'2'</li>\n",
       "\t\t<li>'3'</li>\n",
       "\t</ol>\n",
       "</details>"
      ],
      "text/latex": [
       "\\begin{enumerate*}\n",
       "\\item 1\n",
       "\\item 1\n",
       "\\item 2\n",
       "\\item 2\n",
       "\\item 1\n",
       "\\item 1\n",
       "\\end{enumerate*}\n",
       "\n",
       "\\emph{Levels}: \\begin{enumerate*}\n",
       "\\item '1'\n",
       "\\item '2'\n",
       "\\item '3'\n",
       "\\end{enumerate*}\n"
      ],
      "text/markdown": [
       "1. 1\n",
       "2. 1\n",
       "3. 2\n",
       "4. 2\n",
       "5. 1\n",
       "6. 1\n",
       "\n",
       "\n",
       "\n",
       "**Levels**: 1. '1'\n",
       "2. '2'\n",
       "3. '3'\n",
       "\n",
       "\n"
      ],
      "text/plain": [
       "[1] 1 1 2 2 1 1\n",
       "Levels: 1 2 3"
      ]
     },
     "metadata": {},
     "output_type": "display_data"
    }
   ],
   "source": [
    "### Predicting the values for test dataset. ###\n",
    "\n",
    "test$TypePredicted <- predict(model, newdata = test)\n",
    "head(test$TypePredicted)"
   ]
  },
  {
   "cell_type": "code",
   "execution_count": 40,
   "id": "fd602b71",
   "metadata": {},
   "outputs": [
    {
     "name": "stdout",
     "output_type": "stream",
     "text": [
      "   \n",
      "       1    2    3\n",
      "  1 6824  360   15\n",
      "  2  616 1603   13\n",
      "  3  776  257   16\n"
     ]
    }
   ],
   "source": [
    "### Building Classification Table.###\n",
    "\n",
    "tab <- table(test$Type, test$TypePredicted)\n",
    "print(tab)"
   ]
  },
  {
   "cell_type": "markdown",
   "id": "4e01d269",
   "metadata": {},
   "source": [
    "# This tells us that the average absolute difference between the observed values and the predicted values is 0.5465. The lower the value for the MAE the better a model is able to fit a dataset."
   ]
  },
  {
   "cell_type": "code",
   "execution_count": 41,
   "id": "3ad51522",
   "metadata": {},
   "outputs": [
    {
     "data": {
      "text/html": [
       "'Accuracy: 80.56'"
      ],
      "text/latex": [
       "'Accuracy: 80.56'"
      ],
      "text/markdown": [
       "'Accuracy: 80.56'"
      ],
      "text/plain": [
       "[1] \"Accuracy: 80.56\""
      ]
     },
     "metadata": {},
     "output_type": "display_data"
    }
   ],
   "source": [
    "paste(\"Accuracy:\", round((sum(diag(tab))/sum(tab))*100,2))"
   ]
  },
  {
   "cell_type": "code",
   "execution_count": 78,
   "id": "94eca2d5",
   "metadata": {},
   "outputs": [
    {
     "name": "stderr",
     "output_type": "stream",
     "text": [
      "Warning message in roc.default(response = test$Type, predictor = factor(test$TypePredicted, :\n",
      "\"'response' has more than two levels. Consider setting 'levels' explicitly or using 'multiclass.roc' instead\"Setting levels: control = 1, case = 2\n",
      "Setting direction: controls < cases\n"
     ]
    },
    {
     "data": {
      "image/png": "[encoded data removed]",
      "text/plain": [
       "plot without title"
      ]
     },
     "metadata": {},
     "output_type": "display_data"
    },
    {
     "data": {
      "image/png": "[encoded data removed]",
      "text/plain": [
       "plot without title"
      ]
     },
     "metadata": {},
     "output_type": "display_data"
    }
   ],
   "source": [
    "### ROC Curve to assess the diagnostic performance of a test. (Multinomial Logistic algorithm) by plotting TPRs and FPRs.###\n",
    "library(pROC)\n",
    "roc_object_multi <- roc(response=test$Type, predictor= factor(test$TypePredicted, ordered = TRUE), plot=TRUE, xlab=\"False Positive Percentage\", ylab=\"True Positive Percentage\", percent=TRUE, lwd=4, col=\"#FFA500\",print.auc= TRUE)\n",
    "plot(roc_object_multi)"
   ]
  },
  {
   "cell_type": "markdown",
   "id": "15f7239c",
   "metadata": {},
   "source": [
    "# Multinomial Logistic Regression model has an accuracy score of 80.56%, hence it has classified all the house types as per the accuracy percentage. "
   ]
  },
  {
   "cell_type": "markdown",
   "id": "7f28f173",
   "metadata": {},
   "source": [
    "# Implementing Naive Bayes Classification algorithm to check the accuracy of the dataset."
   ]
  },
  {
   "cell_type": "code",
   "execution_count": 51,
   "id": "093ebafa",
   "metadata": {},
   "outputs": [
    {
     "data": {
      "text/plain": [
       "\n",
       "Naive Bayes Classifier for Discrete Predictors\n",
       "\n",
       "Call:\n",
       "naiveBayes.default(x = X, y = Y, laplace = laplace)\n",
       "\n",
       "A-priori probabilities:\n",
       "Y\n",
       "        1         2         3 \n",
       "0.6883948 0.2077778 0.1038274 \n",
       "\n",
       "Conditional probabilities:\n",
       "   day\n",
       "Y       [,1]     [,2]\n",
       "  1 15.90293 8.306182\n",
       "  2 15.69062 8.353848\n",
       "  3 15.82813 8.259340\n",
       "\n",
       "   month\n",
       "Y       [,1]     [,2]\n",
       "  1 7.175734 3.176331\n",
       "  2 7.084699 3.124037\n",
       "  3 7.016594 3.125397\n",
       "\n",
       "   year\n",
       "Y       [,1]      [,2]\n",
       "  1 2016.868 0.6329065\n",
       "  2 2016.760 0.6419853\n",
       "  3 2016.824 0.6434247\n",
       "\n",
       "   Rooms\n",
       "Y       [,1]      [,2]\n",
       "  1 3.350635 0.8456178\n",
       "  2 2.017966 0.6539111\n",
       "  3 2.914658 0.6902959\n",
       "\n",
       "   Price\n",
       "Y         [,1]      [,2]\n",
       "  1  0.2552223 0.9814393\n",
       "  2 -0.7523048 0.7415523\n",
       "  3 -0.1271200 0.7901442\n",
       "\n",
       "   Method\n",
       "Y       [,1]     [,2]\n",
       "  1 3.654252 1.926386\n",
       "  2 3.878184 2.103176\n",
       "  3 3.706045 2.081852\n",
       "\n",
       "   Distance\n",
       "Y          [,1]      [,2]\n",
       "  1 -0.01218976 0.9867497\n",
       "  2  0.13425177 1.0040334\n",
       "  3 -0.09674328 1.0538166\n",
       "\n",
       "   Postcode\n",
       "Y       [,1]     [,2]\n",
       "  1 84.10691 51.49576\n",
       "  2 90.10385 51.49206\n",
       "  3 84.79534 51.51869\n",
       "\n",
       "   Bedroom2\n",
       "Y       [,1]       [,2]\n",
       "  1 3.066100 0.11322208\n",
       "  2 2.973144 0.10212170\n",
       "  3 3.037023 0.08984609\n",
       "\n",
       "   Bathroom\n",
       "Y       [,1]      [,2]\n",
       "  1 1.668196 0.6338388\n",
       "  2 1.368156 0.3858340\n",
       "  3 1.749761 0.4692276\n",
       "\n",
       "   Car\n",
       "Y       [,1]      [,2]\n",
       "  1 1.768479 0.7807705\n",
       "  2 1.356355 0.4657015\n",
       "  3 1.634133 0.4293665\n",
       "\n",
       "   Landsize\n",
       "Y         [,1]      [,2]\n",
       "  1  0.1874297 0.8399335\n",
       "  2 -0.4679882 1.2937643\n",
       "  3 -0.3202829 0.9396593\n",
       "\n",
       "   Lattitude\n",
       "Y        [,1]       [,2]\n",
       "  1 -37.80727 0.08793918\n",
       "  2 -37.81953 0.04963637\n",
       "  3 -37.81732 0.06162115\n",
       "\n",
       "   Longtitude\n",
       "Y       [,1]       [,2]\n",
       "  1 145.0030 0.12066420\n",
       "  2 145.0006 0.05492595\n",
       "  3 145.0022 0.06720288\n",
       "\n",
       "   Propertycount\n",
       "Y          [,1]      [,2]\n",
       "  1 -0.01017100 0.9936619\n",
       "  2  0.01244424 1.0355328\n",
       "  3  0.05646703 0.9972862\n"
      ]
     },
     "metadata": {},
     "output_type": "display_data"
    }
   ],
   "source": [
    "model_nb <- naiveBayes(Type ~ ., data = train)\n",
    "model_nb"
   ]
  },
  {
   "cell_type": "code",
   "execution_count": 43,
   "id": "a47680eb",
   "metadata": {},
   "outputs": [],
   "source": [
    "library(e1071)"
   ]
  },
  {
   "cell_type": "code",
   "execution_count": 52,
   "id": "c36478a6",
   "metadata": {},
   "outputs": [],
   "source": [
    "pred_y <- predict(model_nb, newdata = test)"
   ]
  },
  {
   "cell_type": "code",
   "execution_count": 53,
   "id": "37ba0a52",
   "metadata": {},
   "outputs": [
    {
     "data": {
      "text/plain": [
       "   pred_y\n",
       "       1    2    3\n",
       "  1 5859  795  545\n",
       "  2  219 1758  255\n",
       "  3  445  290  314"
      ]
     },
     "metadata": {},
     "output_type": "display_data"
    }
   ],
   "source": [
    "cm <- table(test$Type, pred_y)\n",
    "cm"
   ]
  },
  {
   "cell_type": "code",
   "execution_count": 81,
   "id": "dd73b922",
   "metadata": {},
   "outputs": [
    {
     "name": "stderr",
     "output_type": "stream",
     "text": [
      "Warning message in roc.default(response = test$Type, predictor = factor(pred_y, :\n",
      "\"'response' has more than two levels. Consider setting 'levels' explicitly or using 'multiclass.roc' instead\"Setting levels: control = 1, case = 2\n",
      "Setting direction: controls < cases\n"
     ]
    },
    {
     "data": {
      "image/png": "[encoded data removed]",
      "text/plain": [
       "plot without title"
      ]
     },
     "metadata": {},
     "output_type": "display_data"
    },
    {
     "data": {
      "image/png": "[encoded data removed]",
      "text/plain": [
       "plot without title"
      ]
     },
     "metadata": {},
     "output_type": "display_data"
    }
   ],
   "source": [
    "###ROC Curve to assess the diagnostic performance of a test. (Naive Bayes algorithm)\n",
    "library(pROC)\n",
    "roc_object_nb <- roc(response=test$Type, predictor= factor(pred_y, ordered = TRUE), plot=TRUE, xlab=\"False Positive Percentage\",  ylab=\"True Positive Percentage\", percent=TRUE, col=\"#377eb4\", lwd=4, print.auc=TRUE)\n",
    "plot(roc_object_nb)"
   ]
  },
  {
   "cell_type": "code",
   "execution_count": 58,
   "id": "437e6a50",
   "metadata": {},
   "outputs": [
    {
     "name": "stdout",
     "output_type": "stream",
     "text": [
      "   pred_y\n",
      "       1    2    3\n",
      "  1 5859  795  545\n",
      "  2  219 1758  255\n",
      "  3  445  290  314\n"
     ]
    }
   ],
   "source": [
    "table_1 <- table(test$Type, pred_y)\n",
    "print(table_1)"
   ]
  },
  {
   "cell_type": "code",
   "execution_count": 59,
   "id": "bf196cb5",
   "metadata": {},
   "outputs": [
    {
     "data": {
      "text/html": [
       "'Accuracy: 75.68'"
      ],
      "text/latex": [
       "'Accuracy: 75.68'"
      ],
      "text/markdown": [
       "'Accuracy: 75.68'"
      ],
      "text/plain": [
       "[1] \"Accuracy: 75.68\""
      ]
     },
     "metadata": {},
     "output_type": "display_data"
    }
   ],
   "source": [
    "#Calculate the Accuracy of Naive Bayes.\n",
    "paste(\"Accuracy:\", round((sum(diag(table_1))/sum(table_1))*100,2))"
   ]
  },
  {
   "cell_type": "code",
   "execution_count": 92,
   "id": "8c8abe73",
   "metadata": {},
   "outputs": [
    {
     "name": "stderr",
     "output_type": "stream",
     "text": [
      "also installing the dependencies 'cli', 'lifecycle', 'rlang', 'scales', 'vctrs'\n",
      "\n"
     ]
    },
    {
     "name": "stdout",
     "output_type": "stream",
     "text": [
      "\n",
      "  There are binary versions available but the source versions are later:\n",
      "          binary source needs_compilation\n",
      "cli        2.5.0  3.4.1              TRUE\n",
      "lifecycle  1.0.0  1.0.3             FALSE\n",
      "rlang     0.4.11  1.0.6              TRUE\n",
      "scales     1.1.1  1.2.1             FALSE\n",
      "vctrs      0.3.8  0.5.1              TRUE\n",
      "ggplot2    3.3.3  3.4.0             FALSE\n",
      "\n",
      "  Binaries will be installed\n",
      "package 'cli' successfully unpacked and MD5 sums checked\n",
      "package 'rlang' successfully unpacked and MD5 sums checked\n",
      "package 'vctrs' successfully unpacked and MD5 sums checked\n",
      "\n",
      "The downloaded binary packages are in\n",
      "\tC:\\Users\\Sarthak\\AppData\\Local\\Temp\\RtmpwlVFCN\\downloaded_packages\n"
     ]
    },
    {
     "name": "stderr",
     "output_type": "stream",
     "text": [
      "installing the source packages 'lifecycle', 'scales', 'ggplot2'\n",
      "\n",
      "Warning message in install.packages(\"ggplot2\"):\n",
      "\"installation of package 'lifecycle' had non-zero exit status\"Warning message in install.packages(\"ggplot2\"):\n",
      "\"installation of package 'scales' had non-zero exit status\"Warning message in install.packages(\"ggplot2\"):\n",
      "\"installation of package 'ggplot2' had non-zero exit status\""
     ]
    }
   ],
   "source": [
    "install.packages(\"ggplot2\")"
   ]
  },
  {
   "cell_type": "markdown",
   "id": "c360c10e",
   "metadata": {},
   "source": [
    "# Naive Bayes model has an accuracy score of 75.68%, hence it has classified all the house types as per the accuracy percentage. "
   ]
  }
 ],
 "metadata": {
  "kernelspec": {
   "display_name": "R 4.2.1",
   "language": "R",
   "name": "ir42"
  },
  "language_info": {
   "codemirror_mode": "r",
   "file_extension": ".r",
   "mimetype": "text/x-r-source",
   "name": "R",
   "pygments_lexer": "r",
   "version": "4.2.1"
  }
 },
 "nbformat": 4,
 "nbformat_minor": 5
}
